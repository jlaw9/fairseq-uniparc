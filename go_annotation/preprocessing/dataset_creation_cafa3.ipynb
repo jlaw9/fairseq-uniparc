{
 "cells": [
  {
   "cell_type": "code",
   "execution_count": 46,
   "metadata": {},
   "outputs": [],
   "source": [
    "import os, sys\n",
    "import numpy as np\n",
    "import pandas as pd\n",
    "import gzip\n",
    "from scipy.sparse import save_npz, load_npz\n",
    "\n",
    "import matplotlib.pyplot as plt\n",
    "import seaborn as sns\n",
    "sns.set(context='talk', style='ticks',\n",
    "        color_codes=True, rc={'legend.frameon': False})\n",
    "\n",
    "# sys.path.append(\"../../\")\n",
    "from os.path import dirname\n",
    "curr_dir = os.path.abspath(\"\")\n",
    "base_dir = dirname(curr_dir)\n",
    "sys.path.append(base_dir)\n",
    "from go_annotation.ontology import ontology\n",
    "\n",
    "%matplotlib inline"
   ]
  },
  {
   "cell_type": "code",
   "execution_count": 71,
   "metadata": {},
   "outputs": [
    {
     "data": {
      "text/plain": [
       "<module 'go_annotation.ontology.ontology' from '/home/jlaw/projects/2020-01-deepgreen/fairseq-uniparc-fork/go_annotation/ontology/ontology.py'>"
      ]
     },
     "execution_count": 71,
     "metadata": {},
     "output_type": "execute_result"
    }
   ],
   "source": [
    "import importlib\n",
    "importlib.reload(ontology)"
   ]
  },
  {
   "cell_type": "markdown",
   "metadata": {},
   "source": [
    "## Setup the CAFA3 data\n",
    "\n",
    "1. Propagate the annotations up the DAG\n",
    "2. Create a sparse matrix representation"
   ]
  },
  {
   "cell_type": "code",
   "execution_count": 72,
   "metadata": {},
   "outputs": [],
   "source": [
    "cafa3_dir = \"/projects/deepgreen/jlaw/inputs/cafa/CAFA3_training_data\"\n",
    "cafa3_ann = os.path.join(cafa3_dir, \"uniprot_sprot_exp.txt\")\n",
    "df = pd.read_csv(cafa3_ann, sep='\\t', names=['prot', 'term', 'hierarchy'])"
   ]
  },
  {
   "cell_type": "code",
   "execution_count": 3,
   "metadata": {},
   "outputs": [],
   "source": [
    "# TODO also compile the test data\n",
    "#cafa3_test_dir"
   ]
  },
  {
   "cell_type": "code",
   "execution_count": 4,
   "metadata": {},
   "outputs": [
    {
     "data": {
      "text/html": [
       "<div>\n",
       "<style scoped>\n",
       "    .dataframe tbody tr th:only-of-type {\n",
       "        vertical-align: middle;\n",
       "    }\n",
       "\n",
       "    .dataframe tbody tr th {\n",
       "        vertical-align: top;\n",
       "    }\n",
       "\n",
       "    .dataframe thead th {\n",
       "        text-align: right;\n",
       "    }\n",
       "</style>\n",
       "<table border=\"1\" class=\"dataframe\">\n",
       "  <thead>\n",
       "    <tr style=\"text-align: right;\">\n",
       "      <th></th>\n",
       "      <th>prot</th>\n",
       "      <th>term</th>\n",
       "      <th>hierarchy</th>\n",
       "    </tr>\n",
       "  </thead>\n",
       "  <tbody>\n",
       "    <tr>\n",
       "      <th>0</th>\n",
       "      <td>P0DJZ0</td>\n",
       "      <td>GO:0030430</td>\n",
       "      <td>C</td>\n",
       "    </tr>\n",
       "    <tr>\n",
       "      <th>1</th>\n",
       "      <td>P32234</td>\n",
       "      <td>GO:0005525</td>\n",
       "      <td>F</td>\n",
       "    </tr>\n",
       "    <tr>\n",
       "      <th>2</th>\n",
       "      <td>P83011</td>\n",
       "      <td>GO:0043231</td>\n",
       "      <td>C</td>\n",
       "    </tr>\n",
       "    <tr>\n",
       "      <th>3</th>\n",
       "      <td>P83010</td>\n",
       "      <td>GO:0043231</td>\n",
       "      <td>C</td>\n",
       "    </tr>\n",
       "    <tr>\n",
       "      <th>4</th>\n",
       "      <td>P81928</td>\n",
       "      <td>GO:0007275</td>\n",
       "      <td>P</td>\n",
       "    </tr>\n",
       "  </tbody>\n",
       "</table>\n",
       "</div>"
      ],
      "text/plain": [
       "     prot        term hierarchy\n",
       "0  P0DJZ0  GO:0030430         C\n",
       "1  P32234  GO:0005525         F\n",
       "2  P83011  GO:0043231         C\n",
       "3  P83010  GO:0043231         C\n",
       "4  P81928  GO:0007275         P"
      ]
     },
     "execution_count": 4,
     "metadata": {},
     "output_type": "execute_result"
    }
   ],
   "source": [
    "df.head()"
   ]
  },
  {
   "cell_type": "code",
   "execution_count": 6,
   "metadata": {},
   "outputs": [
    {
     "data": {
      "text/plain": [
       "24266"
      ]
     },
     "execution_count": 6,
     "metadata": {},
     "output_type": "execute_result"
    }
   ],
   "source": [
    "terms = sorted(df['term'].unique())\n",
    "len(terms)"
   ]
  },
  {
   "cell_type": "code",
   "execution_count": 120,
   "metadata": {},
   "outputs": [
    {
     "name": "stdout",
     "output_type": "stream",
     "text": [
      "reading obo file: /home/jlaw/projects/2020-01-deepgreen/fairseq-uniparc-fork/inputs/cafa/go_cafa3.obo.gz\n",
      "28474\n"
     ]
    }
   ],
   "source": [
    "go_obo_file = f\"{base_dir}/inputs/cafa/go_cafa3.obo.gz\"\n",
    "ont_obj = ontology.Ontology(obo_file=go_obo_file)\n",
    "anc_terms = ont_obj.get_ancestors(terms)\n",
    "print(len(anc_terms))\n",
    "terms = sorted(anc_terms)"
   ]
  },
  {
   "cell_type": "code",
   "execution_count": 121,
   "metadata": {},
   "outputs": [],
   "source": [
    "# write these terms\n",
    "terms_file = f\"{base_dir}/inputs/cafa/cafa3_terms.txt.gz\"\n",
    "os.makedirs(dirname(terms_file), exist_ok=True)\n",
    "with gzip.open(terms_file, 'wb') as out:\n",
    "    out.write(('\\n'.join(anc_terms)+'\\n').encode())"
   ]
  },
  {
   "cell_type": "code",
   "execution_count": 122,
   "metadata": {},
   "outputs": [
    {
     "name": "stdout",
     "output_type": "stream",
     "text": [
      "reading obo file: /home/jlaw/projects/2020-01-deepgreen/fairseq-uniparc-fork/inputs/cafa/go_cafa3.obo.gz\n"
     ]
    }
   ],
   "source": [
    "# now create another ontology object with only the part of the ontology with annotations\n",
    "ont_obj = ontology.Ontology(obo_file=go_obo_file, restrict_terms_file=terms_file)"
   ]
  },
  {
   "cell_type": "code",
   "execution_count": 123,
   "metadata": {},
   "outputs": [],
   "source": [
    "# now build the annotation matrix and propagate annotations upward\n",
    "prots, leaf_ann_mat = ontology.build_ann_matrix(df, ont_obj)\n",
    "ann_mat = ontology.propagate_ann_up_dag(leaf_ann_mat, ont_obj.dag_matrix.T)"
   ]
  },
  {
   "cell_type": "code",
   "execution_count": 147,
   "metadata": {},
   "outputs": [
    {
     "name": "stdout",
     "output_type": "stream",
     "text": [
      "[14 14 16 ... 11 12 86]\n"
     ]
    }
   ],
   "source": [
    "# plot the number of annotations per prot\n",
    "num_ann_per_prot = np.ravel(ann_mat.sum(axis=1))\n",
    "print(num_ann_per_prot)"
   ]
  },
  {
   "cell_type": "code",
   "execution_count": 152,
   "metadata": {},
   "outputs": [
    {
     "data": {
      "text/plain": [
       "Text(0.5, 0, '# Annotations')"
      ]
     },
     "execution_count": 152,
     "metadata": {},
     "output_type": "execute_result"
    },
    {
     "data": {
      "image/png": "[encoded data removed]",
      "text/plain": [
       "<Figure size 432x288 with 1 Axes>"
      ]
     },
     "metadata": {
      "needs_background": "light"
     },
     "output_type": "display_data"
    }
   ],
   "source": [
    "S = pd.Series(num_ann_per_prot)\n",
    "S.plot.hist(bins=30)\n",
    "plt.xlabel(\"# Annotations\")\n",
    "# swissprot_annotated.length.plot.hist(range=(0, 2048), bins=30)"
   ]
  },
  {
   "cell_type": "code",
   "execution_count": 129,
   "metadata": {},
   "outputs": [
    {
     "name": "stdout",
     "output_type": "stream",
     "text": [
      "['GO:0097458' 'GO:0044464' 'GO:0043005' 'GO:0003674' 'GO:0016714'\n",
      " 'GO:0004497' 'GO:0004511' 'GO:0005575' 'GO:0042995' 'GO:0003824'\n",
      " 'GO:0016705' 'GO:0016491' 'GO:0043204' 'GO:0070852']\n"
     ]
    }
   ],
   "source": [
    "# quick manual check for the first protein in the list that the annotations are correct\n",
    "print(prots[0])\n",
    "terms = np.asarray(ont_obj.terms)\n",
    "ann_idx = ann_mat[0,:].nonzero()[1]\n",
    "print(terms[ann_idx])"
   ]
  },
  {
   "cell_type": "code",
   "execution_count": 132,
   "metadata": {},
   "outputs": [
    {
     "name": "stdout",
     "output_type": "stream",
     "text": [
      "splitting the proteins with 5% (3342) left out for test, and 5% (3342) for valid.\n"
     ]
    }
   ],
   "source": [
    "# split the proteins into three sets uniformly at random: train, valid and test\n",
    "# TODO also split the proteins by uniref50 cluster?\n",
    "# train, valid, test = np.split()\n",
    "prot_arr = np.arange(len(prots))\n",
    "# shuffle the indexes in-place\n",
    "np.random.shuffle(prot_arr)\n",
    "split_size = int(np.floor(len(prots) * .1))\n",
    "test_idx = int(np.floor(split_size*.5))\n",
    "valid_idx = split_size\n",
    "# split \n",
    "print(f\"splitting the proteins with 5% ({test_idx}) left out for test, and 5% ({test_idx}) for valid.\")\n",
    "test, valid, train = np.split(prot_arr, [test_idx, valid_idx])"
   ]
  },
  {
   "cell_type": "code",
   "execution_count": 133,
   "metadata": {},
   "outputs": [],
   "source": [
    "# copied from here: https://stackoverflow.com/a/29805905/7483950\n",
    "def read_fasta(fp):\n",
    "        name, seq = None, []\n",
    "        for line in fp:\n",
    "            line = line.rstrip()\n",
    "            if line.startswith(\">\"):\n",
    "                if name: yield (name, ''.join(seq))\n",
    "                name, seq = line[1:], []\n",
    "            else:\n",
    "                seq.append(line)\n",
    "        if name: yield (name, ''.join(seq))"
   ]
  },
  {
   "cell_type": "code",
   "execution_count": 134,
   "metadata": {},
   "outputs": [
    {
     "name": "stdout",
     "output_type": "stream",
     "text": [
      "reading /projects/deepgreen/jlaw/inputs/cafa/CAFA3_training_data/uniprot_sprot_exp.fasta\n",
      "\t66841 read\n"
     ]
    }
   ],
   "source": [
    "# load the uniprot fasta file\n",
    "# keep track of the order of the proteins\n",
    "fasta_file = \"/projects/deepgreen/jlaw/inputs/cafa/CAFA3_training_data/uniprot_sprot_exp.fasta\"\n",
    "print(f\"reading {fasta_file}\")\n",
    "sequences = {}\n",
    "with open(fasta_file, 'r') as f:\n",
    "    for name, seq in read_fasta(f):\n",
    "        # make sure there aren't these strange AAs\n",
    "        seq = seq.replace('B', 'D').replace('Z', 'E').replace('J', 'L')\n",
    "#         print(name, seq)\n",
    "        sequences[name] = seq\n",
    "\n",
    "print(f\"\\t{len(sequences)} read\")"
   ]
  },
  {
   "cell_type": "code",
   "execution_count": 135,
   "metadata": {},
   "outputs": [],
   "source": [
    "def write_split_prots(prot_split, sequences, out_file):\n",
    "    print(f\"writing {len(prot_split)} prot sequences to {out_file}\")\n",
    "    with open(out_file, 'w') as out:\n",
    "        for prot in prot_split:\n",
    "            out.write(' '.join(sequences[prot]) + '\\n')"
   ]
  },
  {
   "cell_type": "code",
   "execution_count": 136,
   "metadata": {},
   "outputs": [
    {
     "name": "stdout",
     "output_type": "stream",
     "text": [
      "writing 3342 prot sequences to /projects/deepgreen/jlaw/swissprot_go_annotation/fairseq_cafa3/input0/test.raw\n",
      "writing 3342 prot sequences to /projects/deepgreen/jlaw/swissprot_go_annotation/fairseq_cafa3/input0/valid.raw\n",
      "writing 60157 prot sequences to /projects/deepgreen/jlaw/swissprot_go_annotation/fairseq_cafa3/input0/train.raw\n"
     ]
    }
   ],
   "source": [
    "# write one protein sequence per line, separating AA by spaces, as expected by fairseq\n",
    "out_dir = \"/projects/deepgreen/jlaw/swissprot_go_annotation/fairseq_cafa3/input0\"\n",
    "prots = np.asarray(prots)\n",
    "for prot_split, split in [\n",
    "        (prots[test], 'test'),\n",
    "        (prots[valid], 'valid'),\n",
    "        (prots[train], 'train')]:\n",
    "    out_file = f\"{out_dir}/{split}.raw\"\n",
    "    write_split_prots(prot_split, sequences, out_file)"
   ]
  },
  {
   "cell_type": "code",
   "execution_count": 138,
   "metadata": {},
   "outputs": [
    {
     "name": "stdout",
     "output_type": "stream",
     "text": [
      "(3342, 28474)\n",
      "writing /projects/deepgreen/jlaw/swissprot_go_annotation/fairseq_cafa3/label//test.npz\n",
      "(3342, 28474)\n",
      "writing /projects/deepgreen/jlaw/swissprot_go_annotation/fairseq_cafa3/label//valid.npz\n",
      "(60157, 28474)\n",
      "writing /projects/deepgreen/jlaw/swissprot_go_annotation/fairseq_cafa3/label//train.npz\n"
     ]
    }
   ],
   "source": [
    "# write the corresponding annotation matrix into train and validate datasets\n",
    "out_dir = \"/projects/deepgreen/jlaw/swissprot_go_annotation/fairseq_cafa3/label/\"\n",
    "for prot_split_idx, split in [(test, 'test'),\n",
    "                              (valid, 'valid'),\n",
    "                              (train, 'train')]:\n",
    "    split_ann_mat = ann_mat[prot_split_idx,:]\n",
    "    print(split_ann_mat.shape)\n",
    "    out_file = f\"{out_dir}/{split}.npz\"\n",
    "    print(f\"writing {out_file}\")\n",
    "    save_npz(out_file, split_ann_mat)"
   ]
  },
  {
   "cell_type": "code",
   "execution_count": 139,
   "metadata": {},
   "outputs": [
    {
     "data": {
      "text/plain": [
       "(66841, 28474)"
      ]
     },
     "execution_count": 139,
     "metadata": {},
     "output_type": "execute_result"
    }
   ],
   "source": [
    "ann_mat.shape"
   ]
  },
  {
   "cell_type": "code",
   "execution_count": 155,
   "metadata": {},
   "outputs": [],
   "source": [
    "# command I used: \n",
    "#fairseq-preprocess --trainpref ./input0/train.raw --validpref ./input0/valid.raw --testpref ./input0/test.raw  --destdir ./input0/ --only-source"
   ]
  },
  {
   "cell_type": "code",
   "execution_count": 20,
   "metadata": {},
   "outputs": [
    {
     "name": "stdout",
     "output_type": "stream",
     "text": [
      "(63629, 32012)\n"
     ]
    }
   ],
   "source": [
    "# Peter's cafa files\n",
    "label_file = \"/projects/deepgreen/pstjohn/swissprot_go_annotation/fairseq_cafa3/label/train.npz\"\n",
    "label_mat = load_npz(label_file)\n",
    "print(label_mat.shape)"
   ]
  },
  {
   "cell_type": "markdown",
   "metadata": {},
   "source": [
    "## Peter's code:"
   ]
  },
  {
   "cell_type": "code",
   "execution_count": 2,
   "metadata": {},
   "outputs": [],
   "source": [
    "import os\n",
    "swissprot_dir = '/gpfs/alpine/bie108/proj-shared/swissprot/'"
   ]
  },
  {
   "cell_type": "code",
   "execution_count": 3,
   "metadata": {},
   "outputs": [],
   "source": [
    "swissprot = pd.read_parquet(os.path.join(swissprot_dir, 'parsed_swissprot_uniref_clusters.parquet'))\n",
    "go_terms = pd.read_parquet(os.path.join(swissprot_dir, 'swissprot_quickgo.parquet'))"
   ]
  },
  {
   "cell_type": "code",
   "execution_count": 4,
   "metadata": {},
   "outputs": [],
   "source": [
    "import numpy as np\n",
    "import os\n",
    "os.environ[\"CUDA_VISIBLE_DEVICES\"] = \"-1\"\n",
    "\n",
    "import tensorflow as tf"
   ]
  },
  {
   "cell_type": "code",
   "execution_count": 5,
   "metadata": {},
   "outputs": [],
   "source": [
    "swissprot_annotated = swissprot[swissprot.accession.isin(go_terms['GENE PRODUCT ID'].unique())]\n",
    "swissprot_annotated = swissprot_annotated[swissprot_annotated.length < 10000]"
   ]
  },
  {
   "cell_type": "code",
   "execution_count": 6,
   "metadata": {},
   "outputs": [
    {
     "name": "stdout",
     "output_type": "stream",
     "text": [
      "174009\n"
     ]
    }
   ],
   "source": [
    "uniref50_clusters = swissprot_annotated['UniRef50 ID'].unique()\n",
    "print(len(uniref50_clusters))\n",
    "np.random.seed(1)\n",
    "np.random.shuffle(uniref50_clusters)\n",
    "test, valid, train = np.split(uniref50_clusters, [4000, 8000])"
   ]
  },
  {
   "cell_type": "code",
   "execution_count": 7,
   "metadata": {},
   "outputs": [
    {
     "data": {
      "text/plain": [
       "166009"
      ]
     },
     "execution_count": 7,
     "metadata": {},
     "output_type": "execute_result"
    }
   ],
   "source": [
    "len(train)"
   ]
  },
  {
   "cell_type": "code",
   "execution_count": 8,
   "metadata": {},
   "outputs": [
    {
     "data": {
      "text/plain": [
       "1152.8402777777778"
      ]
     },
     "execution_count": 8,
     "metadata": {},
     "output_type": "execute_result"
    }
   ],
   "source": [
    "166009 / (6 * 24)"
   ]
  },
  {
   "cell_type": "code",
   "execution_count": 9,
   "metadata": {},
   "outputs": [],
   "source": [
    "swissprot_train = swissprot_annotated[swissprot_annotated['UniRef50 ID'].isin(train)].sample(frac=1., random_state=1)\n",
    "swissprot_valid = swissprot_annotated[swissprot_annotated['UniRef50 ID'].isin(valid)].sample(frac=1., random_state=1)"
   ]
  },
  {
   "cell_type": "code",
   "execution_count": 10,
   "metadata": {},
   "outputs": [
    {
     "data": {
      "text/plain": [
       "3579"
      ]
     },
     "execution_count": 10,
     "metadata": {},
     "output_type": "execute_result"
    }
   ],
   "source": [
    "len(swissprot_train) // (6 * 24)"
   ]
  },
  {
   "cell_type": "code",
   "execution_count": 11,
   "metadata": {},
   "outputs": [
    {
     "data": {
      "text/html": [
       "<div>\n",
       "<style scoped>\n",
       "    .dataframe tbody tr th:only-of-type {\n",
       "        vertical-align: middle;\n",
       "    }\n",
       "\n",
       "    .dataframe tbody tr th {\n",
       "        vertical-align: top;\n",
       "    }\n",
       "\n",
       "    .dataframe thead th {\n",
       "        text-align: right;\n",
       "    }\n",
       "</style>\n",
       "<table border=\"1\" class=\"dataframe\">\n",
       "  <thead>\n",
       "    <tr style=\"text-align: right;\">\n",
       "      <th></th>\n",
       "      <th>GENE PRODUCT DB</th>\n",
       "      <th>GENE PRODUCT ID</th>\n",
       "      <th>SYMBOL</th>\n",
       "      <th>QUALIFIER</th>\n",
       "      <th>GO TERM</th>\n",
       "      <th>GO ASPECT</th>\n",
       "      <th>ECO ID</th>\n",
       "      <th>GO EVIDENCE CODE</th>\n",
       "      <th>REFERENCE</th>\n",
       "      <th>WITH/FROM</th>\n",
       "      <th>TAXON ID</th>\n",
       "      <th>ASSIGNED BY</th>\n",
       "      <th>ANNOTATION EXTENSION</th>\n",
       "      <th>DATE</th>\n",
       "    </tr>\n",
       "  </thead>\n",
       "  <tbody>\n",
       "    <tr>\n",
       "      <th>0</th>\n",
       "      <td>UniProtKB</td>\n",
       "      <td>A2CKF6</td>\n",
       "      <td>A2CKF6</td>\n",
       "      <td>part_of</td>\n",
       "      <td>GO:0005576</td>\n",
       "      <td>C</td>\n",
       "      <td>ECO:0000256</td>\n",
       "      <td>IEA</td>\n",
       "      <td>GO_REF:0000002</td>\n",
       "      <td>InterPro:IPR003571|InterPro:IPR018354</td>\n",
       "      <td>8613</td>\n",
       "      <td>InterPro</td>\n",
       "      <td>None</td>\n",
       "      <td>20200613</td>\n",
       "    </tr>\n",
       "    <tr>\n",
       "      <th>1</th>\n",
       "      <td>UniProtKB</td>\n",
       "      <td>A2CKF6</td>\n",
       "      <td>A2CKF6</td>\n",
       "      <td>involved_in</td>\n",
       "      <td>GO:0009405</td>\n",
       "      <td>P</td>\n",
       "      <td>ECO:0000256</td>\n",
       "      <td>IEA</td>\n",
       "      <td>GO_REF:0000002</td>\n",
       "      <td>InterPro:IPR003571</td>\n",
       "      <td>8613</td>\n",
       "      <td>InterPro</td>\n",
       "      <td>None</td>\n",
       "      <td>20200613</td>\n",
       "    </tr>\n",
       "    <tr>\n",
       "      <th>2</th>\n",
       "      <td>UniProtKB</td>\n",
       "      <td>A2CKF6</td>\n",
       "      <td>A2CKF6</td>\n",
       "      <td>part_of</td>\n",
       "      <td>GO:0005576</td>\n",
       "      <td>C</td>\n",
       "      <td>ECO:0000322</td>\n",
       "      <td>IEA</td>\n",
       "      <td>GO_REF:0000043</td>\n",
       "      <td>UniProtKB-KW:KW-0964</td>\n",
       "      <td>8613</td>\n",
       "      <td>UniProt</td>\n",
       "      <td>None</td>\n",
       "      <td>20200613</td>\n",
       "    </tr>\n",
       "    <tr>\n",
       "      <th>3</th>\n",
       "      <td>UniProtKB</td>\n",
       "      <td>A2CKF6</td>\n",
       "      <td>A2CKF6</td>\n",
       "      <td>enables</td>\n",
       "      <td>GO:0090729</td>\n",
       "      <td>F</td>\n",
       "      <td>ECO:0000322</td>\n",
       "      <td>IEA</td>\n",
       "      <td>GO_REF:0000043</td>\n",
       "      <td>UniProtKB-KW:KW-0800</td>\n",
       "      <td>8613</td>\n",
       "      <td>UniProt</td>\n",
       "      <td>None</td>\n",
       "      <td>20200613</td>\n",
       "    </tr>\n",
       "    <tr>\n",
       "      <th>4</th>\n",
       "      <td>UniProtKB</td>\n",
       "      <td>A2CKF6</td>\n",
       "      <td>A2CKF6</td>\n",
       "      <td>part_of</td>\n",
       "      <td>GO:0035792</td>\n",
       "      <td>C</td>\n",
       "      <td>ECO:0000322</td>\n",
       "      <td>IEA</td>\n",
       "      <td>GO_REF:0000043</td>\n",
       "      <td>UniProtKB-KW:KW-0629</td>\n",
       "      <td>8613</td>\n",
       "      <td>UniProt</td>\n",
       "      <td>None</td>\n",
       "      <td>20200613</td>\n",
       "    </tr>\n",
       "  </tbody>\n",
       "</table>\n",
       "</div>"
      ],
      "text/plain": [
       "  GENE PRODUCT DB GENE PRODUCT ID  SYMBOL    QUALIFIER     GO TERM GO ASPECT  \\\n",
       "0       UniProtKB          A2CKF6  A2CKF6      part_of  GO:0005576         C   \n",
       "1       UniProtKB          A2CKF6  A2CKF6  involved_in  GO:0009405         P   \n",
       "2       UniProtKB          A2CKF6  A2CKF6      part_of  GO:0005576         C   \n",
       "3       UniProtKB          A2CKF6  A2CKF6      enables  GO:0090729         F   \n",
       "4       UniProtKB          A2CKF6  A2CKF6      part_of  GO:0035792         C   \n",
       "\n",
       "        ECO ID GO EVIDENCE CODE       REFERENCE  \\\n",
       "0  ECO:0000256              IEA  GO_REF:0000002   \n",
       "1  ECO:0000256              IEA  GO_REF:0000002   \n",
       "2  ECO:0000322              IEA  GO_REF:0000043   \n",
       "3  ECO:0000322              IEA  GO_REF:0000043   \n",
       "4  ECO:0000322              IEA  GO_REF:0000043   \n",
       "\n",
       "                               WITH/FROM  TAXON ID ASSIGNED BY  \\\n",
       "0  InterPro:IPR003571|InterPro:IPR018354      8613    InterPro   \n",
       "1                     InterPro:IPR003571      8613    InterPro   \n",
       "2                   UniProtKB-KW:KW-0964      8613     UniProt   \n",
       "3                   UniProtKB-KW:KW-0800      8613     UniProt   \n",
       "4                   UniProtKB-KW:KW-0629      8613     UniProt   \n",
       "\n",
       "  ANNOTATION EXTENSION      DATE  \n",
       "0                 None  20200613  \n",
       "1                 None  20200613  \n",
       "2                 None  20200613  \n",
       "3                 None  20200613  \n",
       "4                 None  20200613  "
      ]
     },
     "execution_count": 11,
     "metadata": {},
     "output_type": "execute_result"
    }
   ],
   "source": [
    "go_terms.head()"
   ]
  },
  {
   "cell_type": "code",
   "execution_count": 12,
   "metadata": {},
   "outputs": [
    {
     "data": {
      "text/plain": [
       "<matplotlib.axes._subplots.AxesSubplot at 0x7ffcb059eb38>"
      ]
     },
     "execution_count": 12,
     "metadata": {},
     "output_type": "execute_result"
    },
    {
     "data": {
      "image/png": "[encoded data removed]",
      "text/plain": [
       "<Figure size 432x288 with 1 Axes>"
      ]
     },
     "metadata": {
      "needs_background": "light"
     },
     "output_type": "display_data"
    }
   ],
   "source": [
    "swissprot_annotated.length.plot.hist(range=(0, 2048), bins=30)"
   ]
  },
  {
   "cell_type": "code",
   "execution_count": 13,
   "metadata": {},
   "outputs": [],
   "source": [
    "import sys\n",
    "sys.path.append('..')"
   ]
  },
  {
   "cell_type": "code",
   "execution_count": 14,
   "metadata": {},
   "outputs": [
    {
     "data": {
      "text/plain": [
       "3181"
      ]
     },
     "execution_count": 14,
     "metadata": {},
     "output_type": "execute_result"
    }
   ],
   "source": [
    "from bert.dataset import encode\n",
    "from bert.go import Ontology\n",
    "\n",
    "ont = Ontology(threshold=500)\n",
    "ont.total_nodes"
   ]
  },
  {
   "cell_type": "code",
   "execution_count": 15,
   "metadata": {},
   "outputs": [],
   "source": [
    "grouped_go_terms = go_terms.groupby('GENE PRODUCT ID')['GO TERM'].apply(lambda x: x.values)"
   ]
  },
  {
   "cell_type": "code",
   "execution_count": 16,
   "metadata": {},
   "outputs": [],
   "source": [
    "from tqdm import tqdm"
   ]
  },
  {
   "cell_type": "code",
   "execution_count": 17,
   "metadata": {},
   "outputs": [],
   "source": [
    "# The following functions can be used to convert a value to a type compatible\n",
    "# with tf.Example.\n",
    "\n",
    "def _bytes_feature(value):\n",
    "    \"\"\"Returns a bytes_list from a string / byte.\"\"\"\n",
    "    if isinstance(value, type(tf.constant(0))):\n",
    "        value = value.numpy() # BytesList won't unpack a string from an EagerTensor.\n",
    "    return tf.train.Feature(bytes_list=tf.train.BytesList(value=[value]))\n",
    "\n",
    "def _serialize_array(value):\n",
    "    return _bytes_feature(tf.io.serialize_tensor(value))\n",
    "\n",
    "def inputs_generator(swissprot_df):\n",
    "    for _, row in tqdm(swissprot_df.iterrows(), total=len(swissprot_df)):\n",
    "#        sequence = encode(row.sequence, max_seq_len)\n",
    "        ancestor_array = ont.termlist_to_array(ont.get_ancestors(\n",
    "            grouped_go_terms[row.accession]), dtype=int)\n",
    "        \n",
    "        features = {\n",
    "            'sequence': _bytes_feature(row.sequence.encode('utf8')),\n",
    "            'annotation': _serialize_array(ancestor_array)\n",
    "        }\n",
    "        \n",
    "        example_proto = tf.train.Example(features=tf.train.Features(feature=features))\n",
    "        yield example_proto.SerializeToString()"
   ]
  },
  {
   "cell_type": "code",
   "execution_count": 18,
   "metadata": {},
   "outputs": [],
   "source": [
    "# example = next(inputs_generator(swissprot_annotated))\n",
    "\n",
    "# parsed = tf.io.parse_single_example(example, features={\n",
    "#         'sequence': tf.io.FixedLenFeature([], tf.string, default_value=''),\n",
    "#         'annotation': tf.io.FixedLenFeature([], tf.string, default_value=''),\n",
    "#     })\n",
    "\n",
    "# tf.io.parse_tensor(parsed['annotation'], out_type=tf.int64)"
   ]
  },
  {
   "cell_type": "code",
   "execution_count": 25,
   "metadata": {},
   "outputs": [],
   "source": [
    "np.savez_compressed('uniref50_split.npz', train=train, valid=valid, test=test)\n",
    "pd.Series(ont.term_index).to_csv('term_index.csv', header=False)"
   ]
  },
  {
   "cell_type": "code",
   "execution_count": 26,
   "metadata": {},
   "outputs": [
    {
     "name": "stderr",
     "output_type": "stream",
     "text": [
      "100%|██████████| 515496/515496 [16:02<00:00, 535.52it/s]\n",
      "100%|██████████| 12002/12002 [00:21<00:00, 551.35it/s]\n"
     ]
    }
   ],
   "source": [
    "# Preprocess and write the train dataset to disk\n",
    "serialized_train_dataset = tf.data.Dataset.from_generator(\n",
    "    lambda: inputs_generator(swissprot_train),\n",
    "    output_types=tf.string, output_shapes=())\n",
    "\n",
    "filename = os.path.join(swissprot_dir, 'tfrecords', 'go_train.tfrecord.gz')\n",
    "writer = tf.data.experimental.TFRecordWriter(filename, compression_type='GZIP')\n",
    "writer.write(serialized_train_dataset)\n",
    "\n",
    "\n",
    "# Preprocess and write the valid dataset to disk\n",
    "serialized_valid_dataset = tf.data.Dataset.from_generator(\n",
    "    lambda: inputs_generator(swissprot_valid),\n",
    "    output_types=tf.string, output_shapes=())\n",
    "\n",
    "filename = os.path.join(swissprot_dir, 'tfrecords', 'go_valid.tfrecord.gz')\n",
    "writer = tf.data.experimental.TFRecordWriter(filename, compression_type='GZIP')\n",
    "writer.write(serialized_valid_dataset)"
   ]
  },
  {
   "cell_type": "code",
   "execution_count": null,
   "metadata": {},
   "outputs": [],
   "source": []
  }
 ],
 "metadata": {
  "kernelspec": {
   "display_name": "Python 3",
   "language": "python",
   "name": "python3"
  },
  "language_info": {
   "codemirror_mode": {
    "name": "ipython",
    "version": 3
   },
   "file_extension": ".py",
   "mimetype": "text/x-python",
   "name": "python",
   "nbconvert_exporter": "python",
   "pygments_lexer": "ipython3",
   "version": "3.7.9"
  }
 },
 "nbformat": 4,
 "nbformat_minor": 4
}
