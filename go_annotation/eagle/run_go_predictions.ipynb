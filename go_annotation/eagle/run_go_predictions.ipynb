{
 "cells": [
  {
   "cell_type": "code",
   "execution_count": 21,
   "metadata": {},
   "outputs": [],
   "source": [
    "from itertools import islice\n",
    "import sys\n",
    "\n",
    "import numpy as np\n",
    "import matplotlib.pyplot as plt\n",
    "import seaborn as sns\n",
    "import torch\n",
    "from fairseq.data import data_utils\n",
    "from fairseq.models.roberta import RobertaModel\n",
    "from scipy.sparse import load_npz\n",
    "from sklearn.metrics import precision_recall_curve\n",
    "from tqdm import tqdm\n",
    "\n",
    "sys.path.append('../..')\n",
    "from go_annotation.ontology import Ontology\n",
    "\n",
    "%matplotlib inline\n",
    "sns.set(context='talk', style='ticks',\n",
    "        color_codes=True, rc={'legend.frameon': False})"
   ]
  },
  {
   "cell_type": "code",
   "execution_count": 2,
   "metadata": {},
   "outputs": [
    {
     "data": {
      "text/plain": [
       "True"
      ]
     },
     "execution_count": 2,
     "metadata": {},
     "output_type": "execute_result"
    }
   ],
   "source": [
    "torch.cuda.is_available()"
   ]
  },
  {
   "cell_type": "markdown",
   "metadata": {},
   "source": [
    "### Load the roberta model that's been fine-tuned on swissprot GO annotations"
   ]
  },
  {
   "cell_type": "code",
   "execution_count": 3,
   "metadata": {},
   "outputs": [],
   "source": [
    "roberta = RobertaModel.from_pretrained(\n",
    "    '/projects/deepgreen/pstjohn/roberta_base_checkpoint',\n",
    "    data_name_or_path='/projects/deepgreen/pstjohn/swissprot_go_annotation/fairseq_swissprot/',\n",
    "    checkpoint_file='roberta.base_go_swissprot.pt')\n",
    "\n",
    "_ = roberta.eval()  # disable dropout (or leave in train mode to finetune)\n",
    "\n",
    "device = torch.device(\"cuda:0\" if torch.cuda.is_available() else \"cpu\")\n",
    "_ = roberta.to(device)"
   ]
  },
  {
   "cell_type": "markdown",
   "metadata": {},
   "source": [
    "### A few functions for running model predictions and batching outputs"
   ]
  },
  {
   "cell_type": "code",
   "execution_count": 4,
   "metadata": {},
   "outputs": [],
   "source": [
    "from fairseq.data.shorten_dataset import maybe_shorten_dataset"
   ]
  },
  {
   "cell_type": "code",
   "execution_count": 5,
   "metadata": {},
   "outputs": [],
   "source": [
    "import logging"
   ]
  },
  {
   "cell_type": "code",
   "execution_count": 6,
   "metadata": {},
   "outputs": [],
   "source": [
    "ont = Ontology()\n",
    "_ancestor_array = ont.ancestor_array()\n",
    "\n",
    "\n",
    "def normalize_logits(logits):\n",
    "    bsz = logits.shape[0]\n",
    "    index_tensor = logits.new_tensor(_ancestor_array, dtype=torch.int64)\n",
    "    index_tensor = index_tensor.unsqueeze(0).expand((bsz, -1, -1))  # Array of ancestors, offset by one\n",
    "    padded_logits = torch.nn.functional.pad(logits, (1, 0), value=float('inf'))  # Make 0 index return inf\n",
    "    padded_logits = padded_logits.unsqueeze(-1).expand((-1, -1, index_tensor.shape[2]))\n",
    "    normed_logits = torch.gather(padded_logits, 1, index_tensor)\n",
    "    normed_logits, _ = torch.min(normed_logits, -1)\n",
    "\n",
    "    return normed_logits\n",
    "\n",
    "\n",
    "def encode(sequence):\n",
    "    sequence = sequence.replace('B', 'D').replace('Z', 'E').replace('J', 'L')\n",
    "    encoded_sequence = roberta.task.source_dictionary.encode_line(sequence, add_if_not_exist=False)[:roberta.model.max_positions()]    \n",
    "    return encoded_sequence\n",
    "\n",
    "\n",
    "def inputs_generator(filename, batch_size):\n",
    "    with open(filename, 'r') as f:\n",
    "        encoded_lines = (encode(line) for line in f)\n",
    "        for batch in iter(lambda: tuple(islice(encoded_lines, batch_size)), ()):\n",
    "            yield data_utils.collate_tokens(\n",
    "                batch, pad_idx=roberta.task.source_dictionary.pad()).long().to(device)"
   ]
  },
  {
   "cell_type": "code",
   "execution_count": 7,
   "metadata": {},
   "outputs": [
    {
     "name": "stderr",
     "output_type": "stream",
     "text": [
      "624it [03:57,  2.62it/s]                         \n"
     ]
    }
   ],
   "source": [
    "inputs_filename = '/projects/deepgreen/pstjohn/swissprot_go_annotation/fairseq_swissprot/input0/test.raw'\n",
    "targets_filename = '/projects/deepgreen/pstjohn/swissprot_go_annotation/fairseq_swissprot/label/test.npz'\n",
    "batch_size = 16\n",
    "\n",
    "y_pred = []\n",
    "\n",
    "for inputs in tqdm(inputs_generator(inputs_filename, batch_size), total=9974//batch_size):\n",
    "    \n",
    "    assert inputs.shape[1] <= 1024\n",
    "    assert inputs.max() <= 25\n",
    "    \n",
    "    with torch.no_grad():\n",
    "        logits, _ = roberta.model(inputs,\n",
    "                                  features_only=True,\n",
    "                                  classification_head_name='go_prediction')\n",
    "\n",
    "        normed_logits = normalize_logits(logits)\n",
    "        batch_pred = torch.sigmoid(normed_logits)\n",
    "        y_pred += [batch_pred.detach().cpu().numpy()]"
   ]
  },
  {
   "cell_type": "code",
   "execution_count": 14,
   "metadata": {},
   "outputs": [],
   "source": [
    "y_pred = np.concatenate(y_pred)"
   ]
  },
  {
   "cell_type": "code",
   "execution_count": 16,
   "metadata": {},
   "outputs": [],
   "source": [
    "y_true = np.array(load_npz(targets_filename).todense())"
   ]
  },
  {
   "cell_type": "code",
   "execution_count": 18,
   "metadata": {},
   "outputs": [],
   "source": [
    "head_nodes = {ont.G.nodes[ont.term_index[index]]['name']: index for index in ont.get_head_node_indices()}\n",
    "\n",
    "y_true_bp = y_true[:, ont.terms_to_indices(ont.get_descendants(ont.term_index[head_nodes['biological_process']]))]\n",
    "y_pred_bp = y_pred[:, ont.terms_to_indices(ont.get_descendants(ont.term_index[head_nodes['biological_process']]))]\n",
    "\n",
    "y_true_mf = y_true[:, ont.terms_to_indices(ont.get_descendants(ont.term_index[head_nodes['molecular_function']]))]\n",
    "y_pred_mf = y_pred[:, ont.terms_to_indices(ont.get_descendants(ont.term_index[head_nodes['molecular_function']]))]\n",
    "\n",
    "y_true_cc = y_true[:, ont.terms_to_indices(ont.get_descendants(ont.term_index[head_nodes['cellular_component']]))]\n",
    "y_pred_cc = y_pred[:, ont.terms_to_indices(ont.get_descendants(ont.term_index[head_nodes['cellular_component']]))]"
   ]
  },
  {
   "cell_type": "code",
   "execution_count": 19,
   "metadata": {},
   "outputs": [],
   "source": [
    "precision_bp, recall_bp, thresholds_bp = precision_recall_curve(y_true_bp.flatten(), y_pred_bp.flatten())\n",
    "precision_mf, recall_mf, thresholds_mf = precision_recall_curve(y_true_mf.flatten(), y_pred_mf.flatten())\n",
    "precision_cc, recall_cc, thresholds_cc = precision_recall_curve(y_true_cc.flatten(), y_pred_cc.flatten())"
   ]
  },
  {
   "cell_type": "code",
   "execution_count": 23,
   "metadata": {},
   "outputs": [
    {
     "data": {
      "text/plain": [
       "<matplotlib.legend.Legend at 0x7fbc9b3ddd50>"
      ]
     },
     "execution_count": 23,
     "metadata": {},
     "output_type": "execute_result"
    },
    {
     "data": {
      "image/png": "[encoded data removed]",
      "text/plain": [
       "<Figure size 360x360 with 1 Axes>"
      ]
     },
     "metadata": {},
     "output_type": "display_data"
    }
   ],
   "source": [
    "fig = plt.figure(figsize=(5,5))\n",
    "ax = fig.add_subplot(111, aspect='equal')\n",
    "\n",
    "\n",
    "def get_fmax(precision, recall):\n",
    "    fscores = (2 * precision * recall / (precision + recall))\n",
    "    fmax = fscores.max()\n",
    "    argmax = fscores.argmax()\n",
    "    return fmax, argmax\n",
    "\n",
    "fmax, argmax = get_fmax(precision_mf, recall_mf)\n",
    "ax.plot(recall_mf, precision_mf, label=f'Molecular Function (F={fmax:.2f})', color=sns.color_palette()[0])\n",
    "ax.plot(recall_mf[argmax], precision_mf[argmax], 'o', color=sns.color_palette()[0])\n",
    "\n",
    "fmax, argmax = get_fmax(precision_bp, recall_bp)\n",
    "ax.plot(recall_bp, precision_bp, label=f'Biological Process (F={fmax:.2f})', color=sns.color_palette()[1])\n",
    "ax.plot(recall_bp[argmax], precision_bp[argmax], 'o', color=sns.color_palette()[1])\n",
    "\n",
    "fmax, argmax = get_fmax(precision_cc, recall_cc)\n",
    "ax.plot(recall_cc, precision_cc, label=f'Cellular Component (F={fmax:.2f})', color=sns.color_palette()[2])\n",
    "ax.plot(recall_cc[argmax], precision_cc[argmax], 'o', color=sns.color_palette()[2])\n",
    "\n",
    "ax.set_xticks(np.linspace(0, 1, 6, endpoint=True))\n",
    "ax.set_xlabel('Recall')\n",
    "ax.set_ylabel('Precision')\n",
    "plt.legend(loc='lower left', fontsize=13)"
   ]
  },
  {
   "cell_type": "code",
   "execution_count": null,
   "metadata": {},
   "outputs": [],
   "source": []
  }
 ],
 "metadata": {
  "kernelspec": {
   "display_name": "Python 3",
   "language": "python",
   "name": "python3"
  },
  "language_info": {
   "codemirror_mode": {
    "name": "ipython",
    "version": 3
   },
   "file_extension": ".py",
   "mimetype": "text/x-python",
   "name": "python",
   "nbconvert_exporter": "python",
   "pygments_lexer": "ipython3",
   "version": "3.7.9"
  }
 },
 "nbformat": 4,
 "nbformat_minor": 4
}
