{
 "cells": [
  {
   "cell_type": "code",
   "execution_count": 1,
   "metadata": {},
   "outputs": [],
   "source": [
    "import numpy as np\n",
    "import pandas as pd\n",
    "\n",
    "import matplotlib.pyplot as plt\n",
    "import seaborn as sns\n",
    "sns.set(context='talk', style='ticks',\n",
    "        color_codes=True, rc={'legend.frameon': False})\n",
    "\n",
    "%matplotlib inline"
   ]
  },
  {
   "cell_type": "code",
   "execution_count": 2,
   "metadata": {},
   "outputs": [],
   "source": [
    "# Load swissprot sequences, annotations, and cafa3 annotations\n",
    "import os\n",
    "swissprot_dir = '/projects/deepgreen/pstjohn/swissprot_go_annotation'\n",
    "\n",
    "swissprot = pd.read_parquet(os.path.join(swissprot_dir, 'parsed_swissprot_uniref_clusters.parquet'))\n",
    "go_terms = pd.read_parquet(os.path.join(swissprot_dir, 'swissprot_quickgo.parquet'))\n",
    "cafa3_accessions = np.load(os.path.join(swissprot_dir, 'cafa3_accessions.npz'), allow_pickle=True)"
   ]
  },
  {
   "cell_type": "code",
   "execution_count": 3,
   "metadata": {},
   "outputs": [
    {
     "data": {
      "text/plain": [
       "<AxesSubplot:ylabel='Frequency'>"
      ]
     },
     "execution_count": 3,
     "metadata": {},
     "output_type": "execute_result"
    },
    {
     "data": {
      "image/png": "[encoded data removed]",
      "text/plain": [
       "<Figure size 432x288 with 1 Axes>"
      ]
     },
     "metadata": {
      "needs_background": "light"
     },
     "output_type": "display_data"
    }
   ],
   "source": [
    "# Prepare for fairseq input\n",
    "swissprot['str_sep_sequence'] = swissprot.sequence.str.replace(\"\", \" \").str.strip()\n",
    "\n",
    "# Restrict swissprot to those with GO annotations\n",
    "swissprot_annotated = swissprot[swissprot.accession.isin(go_terms['GENE PRODUCT ID'].unique())]\n",
    "swissprot_annotated.length.plot.hist(range=(0, 2048), bins=30)"
   ]
  },
  {
   "cell_type": "code",
   "execution_count": 4,
   "metadata": {},
   "outputs": [
    {
     "name": "stdout",
     "output_type": "stream",
     "text": [
      "174018\n"
     ]
    }
   ],
   "source": [
    "uniref50_clusters = swissprot_annotated['UniRef50 ID'].unique()\n",
    "\n",
    "# Remove cafa3 target data from swissprot data\n",
    "uniref50_nocafa3 = np.array(list(set(uniref50_clusters) - set(cafa3_accessions['test'])))\n",
    "\n",
    "# Split swissprot into training and test\n",
    "print(len(uniref50_nocafa3))\n",
    "np.random.seed(1)\n",
    "np.random.shuffle(uniref50_nocafa3)\n",
    "test, valid, train = np.split(uniref50_nocafa3, [3000, 6000])\n",
    "\n",
    "swissprot_train = swissprot_annotated[swissprot_annotated['UniRef50 ID'].isin(train)].sample(frac=1., random_state=1)\n",
    "swissprot_valid = swissprot_annotated[swissprot_annotated['UniRef50 ID'].isin(valid)].sample(frac=1., random_state=1)\n",
    "swissprot_test = swissprot_annotated[swissprot_annotated['UniRef50 ID'].isin(test)].sample(frac=1., random_state=1)"
   ]
  },
  {
   "cell_type": "code",
   "execution_count": 7,
   "metadata": {},
   "outputs": [],
   "source": [
    "# Create the sequence input data files\n",
    "swissprot_dest_dir = '/projects/deepgreen/pstjohn/swissprot_go_annotation/fairseq_swissprot'\n",
    "\n",
    "swissprot_train['str_sep_sequence'].to_csv(os.path.join(swissprot_dest_dir, 'input0', 'train.raw'), index=False, header=None)\n",
    "swissprot_valid['str_sep_sequence'].to_csv(os.path.join(swissprot_dest_dir, 'input0', 'valid.raw'), index=False, header=None)\n",
    "swissprot_test['str_sep_sequence'].to_csv(os.path.join(swissprot_dest_dir, 'input0', 'test.raw'), index=False, header=None)"
   ]
  },
  {
   "cell_type": "code",
   "execution_count": 8,
   "metadata": {},
   "outputs": [
    {
     "data": {
      "text/plain": [
       "32012"
      ]
     },
     "execution_count": 8,
     "metadata": {},
     "output_type": "execute_result"
    }
   ],
   "source": [
    "# Create the ontology object and backpropogate GO labels\n",
    "\n",
    "import sys\n",
    "sys.path.append('/home/pstjohn/Research/20201119_fairseq/go_annotation')\n",
    "\n",
    "from ontology import Ontology\n",
    "ont = Ontology()\n",
    "ont.total_nodes"
   ]
  },
  {
   "cell_type": "code",
   "execution_count": 9,
   "metadata": {},
   "outputs": [],
   "source": [
    "grouped_go_terms = go_terms.groupby('GENE PRODUCT ID')['GO TERM'].apply(lambda x: x.values)"
   ]
  },
  {
   "cell_type": "code",
   "execution_count": 14,
   "metadata": {},
   "outputs": [],
   "source": [
    "from tqdm import tqdm"
   ]
  },
  {
   "cell_type": "code",
   "execution_count": 30,
   "metadata": {},
   "outputs": [
    {
     "name": "stderr",
     "output_type": "stream",
     "text": [
      "100%|██████████| 520762/520762 [03:58<00:00, 2185.81it/s]\n",
      "100%|██████████| 9547/9547 [00:04<00:00, 2197.50it/s]\n",
      "100%|██████████| 9088/9088 [00:04<00:00, 2266.80it/s]\n"
     ]
    }
   ],
   "source": [
    "with open(os.path.join(swissprot_dest_dir, 'label', 'train.label'), 'w') as f:\n",
    "    for row in tqdm(swissprot_train.accession):\n",
    "        arr = ont.terms_to_indices(ont.get_ancestors(grouped_go_terms.loc[row]))\n",
    "        f.write(' '.join(np.array(arr, dtype=str)))\n",
    "        \n",
    "with open(os.path.join(swissprot_dest_dir, 'label', 'valid.label'), 'w') as f:\n",
    "    for row in tqdm(swissprot_valid.accession):\n",
    "        arr = ont.terms_to_indices(ont.get_ancestors(grouped_go_terms.loc[row]))\n",
    "        f.write(' '.join(np.array(arr, dtype=str)))\n",
    "        \n",
    "with open(os.path.join(swissprot_dest_dir, 'label', 'test.label'), 'w') as f:\n",
    "    for row in tqdm(swissprot_test.accession):\n",
    "        arr = ont.terms_to_indices(ont.get_ancestors(grouped_go_terms.loc[row]))\n",
    "        f.write(' '.join(np.array(arr, dtype=str)))"
   ]
  },
  {
   "cell_type": "code",
   "execution_count": 35,
   "metadata": {},
   "outputs": [
    {
     "name": "stdout",
     "output_type": "stream",
     "text": [
      "2020-12-22 19:24:31 | INFO | fairseq_cli.preprocess | Namespace(align_suffix=None, alignfile=None, all_gather_list_size=16384, bf16=False, bpe=None, cpu=False, criterion='cross_entropy', dataset_impl='mmap', destdir='/projects/deepgreen/pstjohn/swissprot_go_annotation/fairseq_swissprot/input0', empty_cache_freq=0, fp16=False, fp16_init_scale=128, fp16_no_flatten_grads=False, fp16_scale_tolerance=0.0, fp16_scale_window=None, joined_dictionary=False, log_format=None, log_interval=100, lr_scheduler='fixed', memory_efficient_bf16=False, memory_efficient_fp16=False, min_loss_scale=0.0001, model_parallel_size=1, no_progress_bar=False, nwordssrc=-1, nwordstgt=-1, only_source=True, optimizer=None, padding_factor=8, profile=False, quantization_config_path=None, reset_logging=True, scoring='bleu', seed=1, source_lang=None, srcdict='/projects/deepgreen/pstjohn/uniparc_training_data/dict.txt', target_lang=None, task='translation', tensorboard_logdir=None, testpref='/projects/deepgreen/pstjohn/swissprot_go_annotation/fairseq_swissprot/input0/test.raw', tgtdict=None, threshold_loss_scale=None, thresholdsrc=0, thresholdtgt=0, tokenizer=None, tpu=False, trainpref='/projects/deepgreen/pstjohn/swissprot_go_annotation/fairseq_swissprot/input0/train.raw', user_dir=None, validpref='/projects/deepgreen/pstjohn/swissprot_go_annotation/fairseq_swissprot/input0/valid.raw', wandb_project=None, workers=60)\n",
      "2020-12-22 19:24:31 | INFO | fairseq_cli.preprocess | [None] Dictionary: 32 types\n",
      "2020-12-22 19:27:15 | INFO | fairseq_cli.preprocess | [None] /projects/deepgreen/pstjohn/swissprot_go_annotation/fairseq_swissprot/input0/train.raw: 520762 sents, 190860732 tokens, 0.000279% replaced by <unk>\n",
      "2020-12-22 19:27:15 | INFO | fairseq_cli.preprocess | [None] Dictionary: 32 types\n",
      "2020-12-22 19:27:19 | INFO | fairseq_cli.preprocess | [None] /projects/deepgreen/pstjohn/swissprot_go_annotation/fairseq_swissprot/input0/valid.raw: 9547 sents, 3547850 tokens, 0.000282% replaced by <unk>\n",
      "2020-12-22 19:27:19 | INFO | fairseq_cli.preprocess | [None] Dictionary: 32 types\n",
      "2020-12-22 19:27:22 | INFO | fairseq_cli.preprocess | [None] /projects/deepgreen/pstjohn/swissprot_go_annotation/fairseq_swissprot/input0/test.raw: 9088 sents, 3343815 tokens, 0.0% replaced by <unk>\n",
      "2020-12-22 19:27:22 | INFO | fairseq_cli.preprocess | Wrote preprocessed data to /projects/deepgreen/pstjohn/swissprot_go_annotation/fairseq_swissprot/input0\n"
     ]
    }
   ],
   "source": [
    "!fairseq-preprocess \\\n",
    "    --only-source \\\n",
    "    --srcdict /projects/deepgreen/pstjohn/uniparc_training_data/dict.txt \\\n",
    "    --trainpref /projects/deepgreen/pstjohn/swissprot_go_annotation/fairseq_swissprot/input0/train.raw \\\n",
    "    --validpref /projects/deepgreen/pstjohn/swissprot_go_annotation/fairseq_swissprot/input0/valid.raw \\\n",
    "    --testpref /projects/deepgreen/pstjohn/swissprot_go_annotation/fairseq_swissprot/input0/test.raw \\\n",
    "    --destdir /projects/deepgreen/pstjohn/swissprot_go_annotation/fairseq_swissprot/input0 \\\n",
    "    --workers 60"
   ]
  },
  {
   "cell_type": "code",
   "execution_count": 44,
   "metadata": {},
   "outputs": [
    {
     "name": "stderr",
     "output_type": "stream",
     "text": [
      "100%|██████████| 100/100 [00:00<00:00, 1439.20it/s]\n",
      "100%|██████████| 100/100 [00:00<00:00, 2092.96it/s]\n",
      "100%|██████████| 100/100 [00:00<00:00, 2140.46it/s]\n"
     ]
    }
   ],
   "source": [
    "# Create the sequence input data files\n",
    "swissprot_debug_dest_dir = '/projects/deepgreen/pstjohn/swissprot_go_annotation/fairseq_swissprot_debug'\n",
    "\n",
    "swissprot_train_debug = swissprot_train.sample(100)\n",
    "swissprot_valid_debug = swissprot_valid.sample(100)\n",
    "swissprot_test_debug = swissprot_test.sample(100)\n",
    "\n",
    "swissprot_train_debug['str_sep_sequence'].to_csv(os.path.join(swissprot_debug_dest_dir, 'input0', 'train.raw'), index=False, header=None)\n",
    "swissprot_valid_debug['str_sep_sequence'].to_csv(os.path.join(swissprot_debug_dest_dir, 'input0', 'valid.raw'), index=False, header=None)\n",
    "swissprot_test_debug['str_sep_sequence'].to_csv(os.path.join(swissprot_debug_dest_dir, 'input0', 'test.raw'), index=False, header=None)\n",
    "\n",
    "\n",
    "with open(os.path.join(swissprot_debug_dest_dir, 'label', 'train.label'), 'w') as f:\n",
    "    for row in tqdm(swissprot_train_debug.accession):\n",
    "        arr = ont.terms_to_indices(ont.get_ancestors(grouped_go_terms.loc[row]))\n",
    "        f.write(' '.join(np.array(arr, dtype=str)))\n",
    "        \n",
    "with open(os.path.join(swissprot_debug_dest_dir, 'label', 'valid.label'), 'w') as f:\n",
    "    for row in tqdm(swissprot_valid_debug.accession):\n",
    "        arr = ont.terms_to_indices(ont.get_ancestors(grouped_go_terms.loc[row]))\n",
    "        f.write(' '.join(np.array(arr, dtype=str)))\n",
    "        \n",
    "with open(os.path.join(swissprot_debug_dest_dir, 'label', 'test.label'), 'w') as f:\n",
    "    for row in tqdm(swissprot_test_debug.accession):\n",
    "        arr = ont.terms_to_indices(ont.get_ancestors(grouped_go_terms.loc[row]))\n",
    "        f.write(' '.join(np.array(arr, dtype=str)))"
   ]
  },
  {
   "cell_type": "code",
   "execution_count": 45,
   "metadata": {},
   "outputs": [
    {
     "name": "stdout",
     "output_type": "stream",
     "text": [
      "2020-12-27 08:34:46 | INFO | fairseq_cli.preprocess | Namespace(align_suffix=None, alignfile=None, all_gather_list_size=16384, bf16=False, bpe=None, cpu=False, criterion='cross_entropy', dataset_impl='mmap', destdir='/projects/deepgreen/pstjohn/swissprot_go_annotation/fairseq_swissprot_debug/input0', empty_cache_freq=0, fp16=False, fp16_init_scale=128, fp16_no_flatten_grads=False, fp16_scale_tolerance=0.0, fp16_scale_window=None, joined_dictionary=False, log_format=None, log_interval=100, lr_scheduler='fixed', memory_efficient_bf16=False, memory_efficient_fp16=False, min_loss_scale=0.0001, model_parallel_size=1, no_progress_bar=False, nwordssrc=-1, nwordstgt=-1, only_source=True, optimizer=None, padding_factor=8, profile=False, quantization_config_path=None, reset_logging=True, scoring='bleu', seed=1, source_lang=None, srcdict='/projects/deepgreen/pstjohn/uniparc_training_data/dict.txt', target_lang=None, task='translation', tensorboard_logdir=None, testpref='/projects/deepgreen/pstjohn/swissprot_go_annotation/fairseq_swissprot_debug/input0/test.raw', tgtdict=None, threshold_loss_scale=None, thresholdsrc=0, thresholdtgt=0, tokenizer=None, tpu=False, trainpref='/projects/deepgreen/pstjohn/swissprot_go_annotation/fairseq_swissprot_debug/input0/train.raw', user_dir=None, validpref='/projects/deepgreen/pstjohn/swissprot_go_annotation/fairseq_swissprot_debug/input0/valid.raw', wandb_project=None, workers=1)\n",
      "2020-12-27 08:34:46 | INFO | fairseq_cli.preprocess | [None] Dictionary: 32 types\n",
      "2020-12-27 08:34:46 | INFO | fairseq_cli.preprocess | [None] /projects/deepgreen/pstjohn/swissprot_go_annotation/fairseq_swissprot_debug/input0/train.raw: 100 sents, 41237 tokens, 0.0% replaced by <unk>\n",
      "2020-12-27 08:34:46 | INFO | fairseq_cli.preprocess | [None] Dictionary: 32 types\n",
      "2020-12-27 08:34:46 | INFO | fairseq_cli.preprocess | [None] /projects/deepgreen/pstjohn/swissprot_go_annotation/fairseq_swissprot_debug/input0/valid.raw: 100 sents, 36310 tokens, 0.0% replaced by <unk>\n",
      "2020-12-27 08:34:46 | INFO | fairseq_cli.preprocess | [None] Dictionary: 32 types\n",
      "2020-12-27 08:34:47 | INFO | fairseq_cli.preprocess | [None] /projects/deepgreen/pstjohn/swissprot_go_annotation/fairseq_swissprot_debug/input0/test.raw: 100 sents, 40048 tokens, 0.0% replaced by <unk>\n",
      "2020-12-27 08:34:47 | INFO | fairseq_cli.preprocess | Wrote preprocessed data to /projects/deepgreen/pstjohn/swissprot_go_annotation/fairseq_swissprot_debug/input0\n"
     ]
    }
   ],
   "source": [
    "!fairseq-preprocess \\\n",
    "    --only-source \\\n",
    "    --srcdict /projects/deepgreen/pstjohn/uniparc_training_data/dict.txt \\\n",
    "    --trainpref /projects/deepgreen/pstjohn/swissprot_go_annotation/fairseq_swissprot_debug/input0/train.raw \\\n",
    "    --validpref /projects/deepgreen/pstjohn/swissprot_go_annotation/fairseq_swissprot_debug/input0/valid.raw \\\n",
    "    --testpref /projects/deepgreen/pstjohn/swissprot_go_annotation/fairseq_swissprot_debug/input0/test.raw \\\n",
    "    --destdir /projects/deepgreen/pstjohn/swissprot_go_annotation/fairseq_swissprot_debug/input0 \\\n",
    "    --workers 1"
   ]
  },
  {
   "cell_type": "code",
   "execution_count": null,
   "metadata": {},
   "outputs": [],
   "source": []
  }
 ],
 "metadata": {
  "kernelspec": {
   "display_name": "Python 3",
   "language": "python",
   "name": "python3"
  },
  "language_info": {
   "codemirror_mode": {
    "name": "ipython",
    "version": 3
   },
   "file_extension": ".py",
   "mimetype": "text/x-python",
   "name": "python",
   "nbconvert_exporter": "python",
   "pygments_lexer": "ipython3",
   "version": "3.6.10"
  }
 },
 "nbformat": 4,
 "nbformat_minor": 4
}
