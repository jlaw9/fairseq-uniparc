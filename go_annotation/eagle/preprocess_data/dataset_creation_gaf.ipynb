{
 "cells": [
  {
   "cell_type": "code",
   "execution_count": 1,
   "metadata": {},
   "outputs": [
    {
     "name": "stdout",
     "output_type": "stream",
     "text": [
      "base_dir: /home/jlaw/projects/2020-01-deepgreen/fairseq-uniparc-fork\n"
     ]
    }
   ],
   "source": [
    "import os, sys\n",
    "import numpy as np\n",
    "import pandas as pd\n",
    "import gzip\n",
    "from scipy.sparse import save_npz, load_npz\n",
    "\n",
    "import matplotlib.pyplot as plt\n",
    "import seaborn as sns\n",
    "sns.set(context='talk', style='ticks',\n",
    "        color_codes=True, rc={'legend.frameon': False})\n",
    "\n",
    "# sys.path.append(\"../../\")\n",
    "from os.path import dirname\n",
    "curr_dir = os.path.abspath(\"\")\n",
    "base_dir = dirname(dirname(dirname(curr_dir)))\n",
    "print(f\"base_dir: {base_dir}\")\n",
    "sys.path.append(base_dir)\n",
    "from go_annotation.ontology import ontology\n",
    "\n",
    "%matplotlib inline"
   ]
  },
  {
   "cell_type": "code",
   "execution_count": 17,
   "metadata": {},
   "outputs": [
    {
     "data": {
      "text/plain": [
       "<module 'go_annotation.ontology.ontology' from '/home/jlaw/projects/2020-01-deepgreen/fairseq-uniparc-fork/go_annotation/ontology/ontology.py'>"
      ]
     },
     "execution_count": 17,
     "metadata": {},
     "output_type": "execute_result"
    }
   ],
   "source": [
    "import importlib\n",
    "importlib.reload(ontology)"
   ]
  },
  {
   "cell_type": "markdown",
   "metadata": {},
   "source": [
    "## Setup the GO annotation data\n",
    "\n",
    "1. Propagate the annotations up the DAG\n",
    "2. Create a sparse matrix representation"
   ]
  },
  {
   "cell_type": "code",
   "execution_count": 57,
   "metadata": {},
   "outputs": [],
   "source": [
    "ann_dir = \"/projects/deepgreen/jlaw/inputs/goa/2021-05\"\n",
    "goa_file = os.path.join(ann_dir, \"2021-04-12-goa_uniprot_all-EXPC-HT.gaf.gz\")\n",
    "column_names = [\"DB\", \"DB_Object_ID\", \"DB_Object_Symbol\", \"Qualifier\", \"GO_ID\", \"DB:Reference\", \"Evidence Code\", \"With (or) From\", \"Aspect\", \"DB_Object_Name\", \"DB_Object_Synonym\", \"DB_Object_Type\", \"Taxon and Interacting taxon\", \"Date\", \"Assigned_By\", \"Annotation_Extension\", \"Gene_Product_Form_ID\"]\n",
    "df = pd.read_csv(goa_file, sep='\\t', names=column_names)"
   ]
  },
  {
   "cell_type": "code",
   "execution_count": 58,
   "metadata": {},
   "outputs": [
    {
     "data": {
      "text/html": [
       "<div>\n",
       "<style scoped>\n",
       "    .dataframe tbody tr th:only-of-type {\n",
       "        vertical-align: middle;\n",
       "    }\n",
       "\n",
       "    .dataframe tbody tr th {\n",
       "        vertical-align: top;\n",
       "    }\n",
       "\n",
       "    .dataframe thead th {\n",
       "        text-align: right;\n",
       "    }\n",
       "</style>\n",
       "<table border=\"1\" class=\"dataframe\">\n",
       "  <thead>\n",
       "    <tr style=\"text-align: right;\">\n",
       "      <th></th>\n",
       "      <th>DB</th>\n",
       "      <th>DB_Object_ID</th>\n",
       "      <th>DB_Object_Symbol</th>\n",
       "      <th>Qualifier</th>\n",
       "      <th>GO_ID</th>\n",
       "      <th>DB:Reference</th>\n",
       "      <th>Evidence Code</th>\n",
       "      <th>With (or) From</th>\n",
       "      <th>Aspect</th>\n",
       "      <th>DB_Object_Name</th>\n",
       "      <th>DB_Object_Synonym</th>\n",
       "      <th>DB_Object_Type</th>\n",
       "      <th>Taxon and Interacting taxon</th>\n",
       "      <th>Date</th>\n",
       "      <th>Assigned_By</th>\n",
       "      <th>Annotation_Extension</th>\n",
       "      <th>Gene_Product_Form_ID</th>\n",
       "    </tr>\n",
       "  </thead>\n",
       "  <tbody>\n",
       "    <tr>\n",
       "      <th>0</th>\n",
       "      <td>UniProtKB</td>\n",
       "      <td>A0A0R4IJ04</td>\n",
       "      <td>rbm14b</td>\n",
       "      <td>involved_in</td>\n",
       "      <td>GO:0030509</td>\n",
       "      <td>PMID:31636951</td>\n",
       "      <td>IGI</td>\n",
       "      <td>ZFIN:ZDB-GENE-050522-496</td>\n",
       "      <td>P</td>\n",
       "      <td>RNA-binding motif protein 14b</td>\n",
       "      <td>rbm14b</td>\n",
       "      <td>protein</td>\n",
       "      <td>taxon:7955</td>\n",
       "      <td>20201001</td>\n",
       "      <td>ZFIN</td>\n",
       "      <td>part_of(GO:0009953)</td>\n",
       "      <td>NaN</td>\n",
       "    </tr>\n",
       "    <tr>\n",
       "      <th>1</th>\n",
       "      <td>UniProtKB</td>\n",
       "      <td>A0A0S2Z444</td>\n",
       "      <td>AGFG1</td>\n",
       "      <td>located_in</td>\n",
       "      <td>GO:0043231</td>\n",
       "      <td>GO_REF:0000052</td>\n",
       "      <td>IDA</td>\n",
       "      <td>NaN</td>\n",
       "      <td>C</td>\n",
       "      <td>Arf-GAP domain-containing protein</td>\n",
       "      <td>AGFG1</td>\n",
       "      <td>protein</td>\n",
       "      <td>taxon:9606</td>\n",
       "      <td>20131205</td>\n",
       "      <td>HPA</td>\n",
       "      <td>NaN</td>\n",
       "      <td>NaN</td>\n",
       "    </tr>\n",
       "    <tr>\n",
       "      <th>2</th>\n",
       "      <td>UniProtKB</td>\n",
       "      <td>A0A158VE51</td>\n",
       "      <td>c1qc</td>\n",
       "      <td>involved_in</td>\n",
       "      <td>GO:0006958</td>\n",
       "      <td>PMID:20615881</td>\n",
       "      <td>IDA</td>\n",
       "      <td>NaN</td>\n",
       "      <td>P</td>\n",
       "      <td>Complement C1q subcomponent subunit A</td>\n",
       "      <td>c1qc</td>\n",
       "      <td>protein</td>\n",
       "      <td>taxon:7955</td>\n",
       "      <td>20100924</td>\n",
       "      <td>ZFIN</td>\n",
       "      <td>NaN</td>\n",
       "      <td>NaN</td>\n",
       "    </tr>\n",
       "    <tr>\n",
       "      <th>3</th>\n",
       "      <td>UniProtKB</td>\n",
       "      <td>A0A178UNT9</td>\n",
       "      <td>AXX17_At5g58340</td>\n",
       "      <td>enables</td>\n",
       "      <td>GO:0005515</td>\n",
       "      <td>PMID:32612234</td>\n",
       "      <td>IPI</td>\n",
       "      <td>UniProtKB:Q9S7U9</td>\n",
       "      <td>F</td>\n",
       "      <td>Protein kinase domain-containing protein</td>\n",
       "      <td>AXX17_At5g58340|At5g58950|AN1_LOCUS26194|AT994...</td>\n",
       "      <td>protein</td>\n",
       "      <td>taxon:3702</td>\n",
       "      <td>20210403</td>\n",
       "      <td>IntAct</td>\n",
       "      <td>NaN</td>\n",
       "      <td>NaN</td>\n",
       "    </tr>\n",
       "    <tr>\n",
       "      <th>4</th>\n",
       "      <td>UniProtKB</td>\n",
       "      <td>A0A178UNT9</td>\n",
       "      <td>AXX17_At5g58340</td>\n",
       "      <td>enables</td>\n",
       "      <td>GO:0005515</td>\n",
       "      <td>PMID:32612234</td>\n",
       "      <td>IPI</td>\n",
       "      <td>UniProtKB:O23160</td>\n",
       "      <td>F</td>\n",
       "      <td>Protein kinase domain-containing protein</td>\n",
       "      <td>AXX17_At5g58340|At5g58950|AN1_LOCUS26194|AT994...</td>\n",
       "      <td>protein</td>\n",
       "      <td>taxon:3702</td>\n",
       "      <td>20210403</td>\n",
       "      <td>IntAct</td>\n",
       "      <td>NaN</td>\n",
       "      <td>NaN</td>\n",
       "    </tr>\n",
       "  </tbody>\n",
       "</table>\n",
       "</div>"
      ],
      "text/plain": [
       "          DB DB_Object_ID DB_Object_Symbol    Qualifier       GO_ID  \\\n",
       "0  UniProtKB   A0A0R4IJ04           rbm14b  involved_in  GO:0030509   \n",
       "1  UniProtKB   A0A0S2Z444            AGFG1   located_in  GO:0043231   \n",
       "2  UniProtKB   A0A158VE51             c1qc  involved_in  GO:0006958   \n",
       "3  UniProtKB   A0A178UNT9  AXX17_At5g58340      enables  GO:0005515   \n",
       "4  UniProtKB   A0A178UNT9  AXX17_At5g58340      enables  GO:0005515   \n",
       "\n",
       "     DB:Reference Evidence Code            With (or) From Aspect  \\\n",
       "0   PMID:31636951           IGI  ZFIN:ZDB-GENE-050522-496      P   \n",
       "1  GO_REF:0000052           IDA                       NaN      C   \n",
       "2   PMID:20615881           IDA                       NaN      P   \n",
       "3   PMID:32612234           IPI          UniProtKB:Q9S7U9      F   \n",
       "4   PMID:32612234           IPI          UniProtKB:O23160      F   \n",
       "\n",
       "                             DB_Object_Name  \\\n",
       "0             RNA-binding motif protein 14b   \n",
       "1         Arf-GAP domain-containing protein   \n",
       "2     Complement C1q subcomponent subunit A   \n",
       "3  Protein kinase domain-containing protein   \n",
       "4  Protein kinase domain-containing protein   \n",
       "\n",
       "                                   DB_Object_Synonym DB_Object_Type  \\\n",
       "0                                             rbm14b        protein   \n",
       "1                                              AGFG1        protein   \n",
       "2                                               c1qc        protein   \n",
       "3  AXX17_At5g58340|At5g58950|AN1_LOCUS26194|AT994...        protein   \n",
       "4  AXX17_At5g58340|At5g58950|AN1_LOCUS26194|AT994...        protein   \n",
       "\n",
       "  Taxon and Interacting taxon      Date Assigned_By Annotation_Extension  \\\n",
       "0                  taxon:7955  20201001        ZFIN  part_of(GO:0009953)   \n",
       "1                  taxon:9606  20131205         HPA                  NaN   \n",
       "2                  taxon:7955  20100924        ZFIN                  NaN   \n",
       "3                  taxon:3702  20210403      IntAct                  NaN   \n",
       "4                  taxon:3702  20210403      IntAct                  NaN   \n",
       "\n",
       "  Gene_Product_Form_ID  \n",
       "0                  NaN  \n",
       "1                  NaN  \n",
       "2                  NaN  \n",
       "3                  NaN  \n",
       "4                  NaN  "
      ]
     },
     "execution_count": 58,
     "metadata": {},
     "output_type": "execute_result"
    }
   ],
   "source": [
    "df.head()"
   ]
  },
  {
   "cell_type": "code",
   "execution_count": 59,
   "metadata": {},
   "outputs": [],
   "source": [
    "df = df[df['DB'] == 'UniProtKB']"
   ]
  },
  {
   "cell_type": "code",
   "execution_count": 60,
   "metadata": {},
   "outputs": [
    {
     "data": {
      "text/plain": [
       "IDA    364264\n",
       "IPI    353095\n",
       "IMP    242568\n",
       "TAS    145883\n",
       "IGI     44705\n",
       "HDA     38574\n",
       "IEP     23407\n",
       "IC       7305\n",
       "EXP      2984\n",
       "HMP      2480\n",
       "HEP      1057\n",
       "IEA       488\n",
       "HGI        64\n",
       "IBA        15\n",
       "ISS        10\n",
       "Name: Evidence Code, dtype: int64"
      ]
     },
     "execution_count": 60,
     "metadata": {},
     "output_type": "execute_result"
    }
   ],
   "source": [
    "df['Evidence Code'].value_counts()"
   ]
  },
  {
   "cell_type": "code",
   "execution_count": 61,
   "metadata": {},
   "outputs": [
    {
     "name": "stdout",
     "output_type": "stream",
     "text": [
      "removing  ['NOT|enables', 'NOT|involved_in', 'NOT|acts_upstream_of_or_within', 'NOT|part_of', 'NOT|located_in', 'NOT|colocalizes_with', 'NOT|contributes_to', 'NOT|acts_upstream_of', 'NOT|acts_upstream_of_or_within_negative_effect']\n",
      "1226899\n",
      "1222460\n"
     ]
    }
   ],
   "source": [
    "# make sure not to include the NOT annotations\n",
    "# df['Qualifier'].value_counts()\n",
    "qualifiers = df['Qualifier'].unique()\n",
    "not_ann = [x for x in qualifiers if 'NOT' in str(x)]\n",
    "print(\"removing \", not_ann)\n",
    "print(f\"{len(df)}\")\n",
    "df = df[~df['Qualifier'].isin(not_ann)]\n",
    "print(f\"{len(df)}\")"
   ]
  },
  {
   "cell_type": "code",
   "execution_count": 62,
   "metadata": {},
   "outputs": [],
   "source": [
    "# extract out the info we need to build the dataset\n",
    "df = df[['DB_Object_ID', 'GO_ID', 'Aspect']]\n",
    "df.columns = ['prot', 'term', 'hierarhcy']"
   ]
  },
  {
   "cell_type": "code",
   "execution_count": 63,
   "metadata": {},
   "outputs": [
    {
     "data": {
      "text/plain": [
       "27540"
      ]
     },
     "execution_count": 63,
     "metadata": {},
     "output_type": "execute_result"
    }
   ],
   "source": [
    "terms = sorted(df['term'].unique())\n",
    "len(terms)"
   ]
  },
  {
   "cell_type": "code",
   "execution_count": 78,
   "metadata": {},
   "outputs": [
    {
     "data": {
      "text/plain": [
       "<module 'go_annotation.ontology.ontology' from '/home/jlaw/projects/2020-01-deepgreen/fairseq-uniparc-fork/go_annotation/ontology/ontology.py'>"
      ]
     },
     "execution_count": 78,
     "metadata": {},
     "output_type": "execute_result"
    }
   ],
   "source": [
    "import importlib\n",
    "importlib.reload(ontology)"
   ]
  },
  {
   "cell_type": "code",
   "execution_count": 79,
   "metadata": {},
   "outputs": [
    {
     "name": "stdout",
     "output_type": "stream",
     "text": [
      "reading obo file: /home/jlaw/projects/2020-01-deepgreen/fairseq-uniparc-fork/inputs/2021-05-swissprot/2021-05-25-go.obo.gz\n",
      "27540 mapped to 27535 terms (2 terms skipped)\n",
      "31442\n"
     ]
    }
   ],
   "source": [
    "go_obo_file = f\"{base_dir}/inputs/2021-05-swissprot/2021-05-25-go.obo.gz\"\n",
    "terms_file = f\"{base_dir}/inputs/2021-05-swissprot/terms.csv.gz\"\n",
    "ont_obj = ontology.Ontology(obo_file=go_obo_file)\n",
    "mapped_terms = ont_obj.map_and_filter_terms(terms)\n",
    "anc_terms = ont_obj.get_ancestors(mapped_terms)\n",
    "print(len(anc_terms))\n",
    "terms = sorted(anc_terms)"
   ]
  },
  {
   "cell_type": "code",
   "execution_count": 80,
   "metadata": {},
   "outputs": [],
   "source": [
    "# write these terms\n",
    "os.makedirs(dirname(terms_file), exist_ok=True)\n",
    "with gzip.open(terms_file, 'wb') as out:\n",
    "    out.write(('\\n'.join(anc_terms)+'\\n').encode())"
   ]
  },
  {
   "cell_type": "code",
   "execution_count": 81,
   "metadata": {},
   "outputs": [
    {
     "name": "stdout",
     "output_type": "stream",
     "text": [
      "reading obo file: /home/jlaw/projects/2020-01-deepgreen/fairseq-uniparc-fork/inputs/2021-05-swissprot/2021-05-25-go.obo.gz\n",
      "\tReading restrict_terms_file: /home/jlaw/projects/2020-01-deepgreen/fairseq-uniparc-fork/inputs/2021-05-swissprot/terms.csv.gz\n"
     ]
    }
   ],
   "source": [
    "# now create another ontology object with only the part of the ontology with annotations\n",
    "ont_obj = ontology.Ontology(obo_file=go_obo_file, restrict_terms_file=terms_file)"
   ]
  },
  {
   "cell_type": "code",
   "execution_count": 82,
   "metadata": {},
   "outputs": [
    {
     "name": "stdout",
     "output_type": "stream",
     "text": [
      "\t4 annotations missed (2) terms\n"
     ]
    }
   ],
   "source": [
    "# now build the annotation matrix and propagate annotations upward\n",
    "prots, leaf_ann_mat = ontology.build_ann_matrix(df, ont_obj)\n",
    "ann_mat = ontology.propagate_ann_up_dag(leaf_ann_mat, ont_obj.dag_matrix.T)"
   ]
  },
  {
   "cell_type": "code",
   "execution_count": 86,
   "metadata": {},
   "outputs": [
    {
     "name": "stdout",
     "output_type": "stream",
     "text": [
      "14775 terms with >= 10 annotations\n"
     ]
    }
   ],
   "source": [
    "# UPDATE: limit terms to those with at least 10 annotations\n",
    "terms50_file = f\"{base_dir}/inputs/2021-05-swissprot/terms_10ann.txt.gz\"\n",
    "num_ann_per_term = np.ravel(ann_mat.sum(axis=0))\n",
    "# print(num_ann_per_prot)\n",
    "S = pd.Series(num_ann_per_term)\n",
    "S = S[S >= 10]\n",
    "print(f\"{len(S)} terms with >= 10 annotations\")\n",
    "terms_idx = np.asarray(S.index)\n",
    "with gzip.open(terms50_file, 'w') as out:\n",
    "    out_str = '\\n'.join(ont_obj.terms[idx] for idx in terms_idx) + '\\n'\n",
    "    out.write(out_str.encode())"
   ]
  },
  {
   "cell_type": "code",
   "execution_count": 84,
   "metadata": {},
   "outputs": [
    {
     "name": "stdout",
     "output_type": "stream",
     "text": [
      "5562904 dropped to 5506109 after limiting to terms with 10 or more annotations\n",
      "(137934, 14775)\n"
     ]
    }
   ],
   "source": [
    "ann_mat_50 = ann_mat[:,terms_idx]\n",
    "print(f\"{len(ann_mat.data)} dropped to {len(ann_mat_50.data)} after limiting to terms with 10 or more annotations\")\n",
    "print(ann_mat_50.shape)"
   ]
  },
  {
   "cell_type": "code",
   "execution_count": 87,
   "metadata": {},
   "outputs": [
    {
     "name": "stdout",
     "output_type": "stream",
     "text": [
      "reading obo file: /home/jlaw/projects/2020-01-deepgreen/fairseq-uniparc-fork/inputs/2021-05-swissprot/2021-05-25-go.obo.gz\n",
      "\tReading restrict_terms_file: /home/jlaw/projects/2020-01-deepgreen/fairseq-uniparc-fork/inputs/2021-05-swissprot/terms_10ann.txt.gz\n"
     ]
    }
   ],
   "source": [
    "ont_obj_50 = ontology.Ontology(obo_file=go_obo_file, restrict_terms_file=terms50_file)"
   ]
  },
  {
   "cell_type": "code",
   "execution_count": 88,
   "metadata": {},
   "outputs": [
    {
     "data": {
      "text/plain": [
       "Text(0.5, 0, '# Annotations per term')"
      ]
     },
     "execution_count": 88,
     "metadata": {},
     "output_type": "execute_result"
    },
    {
     "data": {
      "image/png": "[encoded data removed]",
      "text/plain": [
       "<Figure size 432x288 with 1 Axes>"
      ]
     },
     "metadata": {
      "needs_background": "light"
     },
     "output_type": "display_data"
    }
   ],
   "source": [
    "# plot the number of annotations per prot\n",
    "num_ann_per_term = np.ravel(ann_mat_50.sum(axis=0))\n",
    "# print(num_ann_per_prot)\n",
    "S = pd.Series(num_ann_per_term)\n",
    "S[S < 1000].plot.hist(bins=30)\n",
    "plt.xlabel(\"# Annotations per term\")\n",
    "# swissprot_annotated.length.plot.hist(range=(0, 2048), bins=30)"
   ]
  },
  {
   "cell_type": "code",
   "execution_count": 21,
   "metadata": {},
   "outputs": [
    {
     "name": "stderr",
     "output_type": "stream",
     "text": [
      "386197it [00:12, 30200.50it/s]\n"
     ]
    }
   ],
   "source": [
    "# alternate approach to build the propagated annotation matrix:\n",
    "# from tqdm import tqdm\n",
    "\n",
    "# from scipy.sparse import coo_matrix, save_npz\n",
    "\n",
    "# def get_sparse_indices(df, prot_indices):\n",
    "#     for (i, prot, term) in tqdm(df.itertuples()):\n",
    "#         prot_index = prot_indices[prot]\n",
    "#         for term_index in ont.terms_to_indices(ont.get_ancestors(term)):\n",
    "#             yield (prot_index, term_index)\n",
    "            \n",
    "# def get_csr_matrix(df):\n",
    "#     prots = sorted(df['prot'].unique())\n",
    "#     prot_indices = {prot: i for i, prot in enumerate(prots)}\n",
    "#     indices = np.array(list(get_sparse_indices(df, prot_indices)))\n",
    "#     values = np.ones(len(indices))\n",
    "#     cm = coo_matrix((values, (indices[:, 0], indices[:, 1])), shape=(len(prots), ont.total_nodes))\n",
    "#     return cm.asformat('csr')\n",
    "\n",
    "# prot_term_pairs = df[['prot', 'term']]\n",
    "# peter_ann_mat = get_csr_matrix(prot_term_pairs)\n"
   ]
  },
  {
   "cell_type": "code",
   "execution_count": 41,
   "metadata": {},
   "outputs": [
    {
     "data": {
      "text/plain": [
       "Text(0.5, 0, '# Annotations per prot')"
      ]
     },
     "execution_count": 41,
     "metadata": {},
     "output_type": "execute_result"
    },
    {
     "data": {
      "image/png": "[encoded data removed]",
      "text/plain": [
       "<Figure size 432x288 with 1 Axes>"
      ]
     },
     "metadata": {
      "needs_background": "light"
     },
     "output_type": "display_data"
    }
   ],
   "source": [
    "# plot the number of annotations per prot\n",
    "num_ann_per_prot = np.ravel(ann_mat.sum(axis=1))\n",
    "# print(num_ann_per_prot)\n",
    "S = pd.Series(num_ann_per_prot)\n",
    "S.plot.hist(bins=30)\n",
    "plt.xlabel(\"# Annotations per prot\")\n",
    "# swissprot_annotated.length.plot.hist(range=(0, 2048), bins=30)"
   ]
  },
  {
   "cell_type": "code",
   "execution_count": 89,
   "metadata": {},
   "outputs": [
    {
     "data": {
      "text/plain": [
       "Text(0.5, 0, '# Annotations per term')"
      ]
     },
     "execution_count": 89,
     "metadata": {},
     "output_type": "execute_result"
    },
    {
     "data": {
      "image/png": "[encoded data removed]",
      "text/plain": [
       "<Figure size 432x288 with 1 Axes>"
      ]
     },
     "metadata": {
      "needs_background": "light"
     },
     "output_type": "display_data"
    }
   ],
   "source": [
    "# and plot the number of annotations per term\n",
    "num_ann_per_term = np.ravel(ann_mat.sum(axis=0))\n",
    "# print(num_ann_per_prot)\n",
    "S = pd.Series(num_ann_per_term)\n",
    "S = S[S < 20]\n",
    "S.plot.hist(bins=30)\n",
    "plt.xlabel(\"# Annotations per term\")\n",
    "# swissprot_annotated.length.plot.hist(range=(0, 2048), bins=30)"
   ]
  },
  {
   "cell_type": "code",
   "execution_count": 90,
   "metadata": {},
   "outputs": [
    {
     "name": "stdout",
     "output_type": "stream",
     "text": [
      "11785\n"
     ]
    }
   ],
   "source": [
    "S = pd.Series(num_ann_per_term)\n",
    "print(len(S[S < 5]))"
   ]
  },
  {
   "cell_type": "code",
   "execution_count": 91,
   "metadata": {},
   "outputs": [
    {
     "name": "stdout",
     "output_type": "stream",
     "text": [
      "16667\n"
     ]
    }
   ],
   "source": [
    "print(len(S[S < 10]))"
   ]
  },
  {
   "cell_type": "code",
   "execution_count": 92,
   "metadata": {},
   "outputs": [
    {
     "name": "stdout",
     "output_type": "stream",
     "text": [
      "14775\n"
     ]
    }
   ],
   "source": [
    "print(len(S[S >= 10]))"
   ]
  },
  {
   "cell_type": "code",
   "execution_count": 93,
   "metadata": {},
   "outputs": [
    {
     "name": "stdout",
     "output_type": "stream",
     "text": [
      "6472\n"
     ]
    }
   ],
   "source": [
    "print(len(S[S >= 50]))"
   ]
  },
  {
   "cell_type": "code",
   "execution_count": 94,
   "metadata": {},
   "outputs": [
    {
     "data": {
      "text/plain": [
       "(137934, 31442)"
      ]
     },
     "execution_count": 94,
     "metadata": {},
     "output_type": "execute_result"
    }
   ],
   "source": [
    "ann_mat.shape"
   ]
  },
  {
   "cell_type": "code",
   "execution_count": 95,
   "metadata": {},
   "outputs": [
    {
     "data": {
      "text/plain": [
       "3208"
      ]
     },
     "execution_count": 95,
     "metadata": {},
     "output_type": "execute_result"
    }
   ],
   "source": [
    "num_ann_per_term.argmax()"
   ]
  },
  {
   "cell_type": "code",
   "execution_count": 96,
   "metadata": {},
   "outputs": [
    {
     "data": {
      "text/plain": [
       "'GO:0008150'"
      ]
     },
     "execution_count": 96,
     "metadata": {},
     "output_type": "execute_result"
    }
   ],
   "source": [
    "# biological process\n",
    "ont_obj.terms[3208]"
   ]
  },
  {
   "cell_type": "code",
   "execution_count": 97,
   "metadata": {},
   "outputs": [
    {
     "name": "stdout",
     "output_type": "stream",
     "text": [
      "A0A009IHW8\n",
      "['GO:0006796' 'GO:0044249' 'GO:0044248' 'GO:0009056' 'GO:0003674'\n",
      " 'GO:0055086' 'GO:0009166' 'GO:1901362' 'GO:0044271' 'GO:0008150'\n",
      " 'GO:0019438' 'GO:0016799' 'GO:0044237' 'GO:0019439' 'GO:0009058'\n",
      " 'GO:0044281' 'GO:0009987' 'GO:1901564' 'GO:0034655' 'GO:1901576'\n",
      " 'GO:0019362' 'GO:0044270' 'GO:0046700' 'GO:0019677' 'GO:0003824'\n",
      " 'GO:0016798' 'GO:0072526' 'GO:0072524' 'GO:0006725' 'GO:0046496'\n",
      " 'GO:0018130' 'GO:1901575' 'GO:1901292' 'GO:0034654' 'GO:0019637'\n",
      " 'GO:0009117' 'GO:0019364' 'GO:1901565' 'GO:0046434' 'GO:0006753'\n",
      " 'GO:0006807' 'GO:0044238' 'GO:1901361' 'GO:0003953' 'GO:0006793'\n",
      " 'GO:0016787' 'GO:0008152' 'GO:1901360' 'GO:0044283' 'GO:0071704'\n",
      " 'GO:0034404' 'GO:0046483' 'GO:0006139' 'GO:0034641']\n"
     ]
    }
   ],
   "source": [
    "# quick manual check for the first protein in the list that the annotations are correct\n",
    "print(prots[0])\n",
    "terms = np.asarray(ont_obj.terms)\n",
    "ann_idx = ann_mat[0,:].nonzero()[1]\n",
    "print(terms[ann_idx])"
   ]
  },
  {
   "cell_type": "code",
   "execution_count": 98,
   "metadata": {},
   "outputs": [
    {
     "name": "stdout",
     "output_type": "stream",
     "text": [
      "splitting the proteins with 5% (6896) left out for test, and 5% (6896) for valid.\n"
     ]
    }
   ],
   "source": [
    "# split the proteins into three sets uniformly at random: train, valid and test\n",
    "# TODO also split the proteins by uniref50 cluster?\n",
    "# train, valid, test = np.split()\n",
    "prot_arr = np.arange(len(prots))\n",
    "# shuffle the indexes in-place\n",
    "np.random.shuffle(prot_arr)\n",
    "split_size = int(np.floor(len(prots) * .1))\n",
    "test_idx = int(np.floor(split_size*.5))\n",
    "valid_idx = split_size\n",
    "# split \n",
    "print(f\"splitting the proteins with 5% ({test_idx}) left out for test, and 5% ({test_idx}) for valid.\")\n",
    "test, valid, train = np.split(prot_arr, [test_idx, valid_idx])"
   ]
  },
  {
   "cell_type": "code",
   "execution_count": 99,
   "metadata": {},
   "outputs": [],
   "source": [
    "# copied from here: https://stackoverflow.com/a/29805905/7483950\n",
    "def read_fasta(fp, gzipped=False):\n",
    "        name, seq = None, []\n",
    "        for line in fp:\n",
    "            if gzipped:\n",
    "                line = line.decode()\n",
    "            line = line.rstrip()\n",
    "            if line.startswith(\">\"):\n",
    "                if name: yield (name, ''.join(seq))\n",
    "                name, seq = line[1:], []\n",
    "            else:\n",
    "                seq.append(line)\n",
    "        if name: yield (name, ''.join(seq))"
   ]
  },
  {
   "cell_type": "code",
   "execution_count": 108,
   "metadata": {},
   "outputs": [
    {
     "name": "stdout",
     "output_type": "stream",
     "text": [
      "reading /projects/deepgreen/jlaw/inputs/uniprot/2021-05/2021-05-25-uniprot_swissprot_shortid.fasta.gz\n",
      "\t81673 read\n"
     ]
    }
   ],
   "source": [
    "# load the uniprot fasta file\n",
    "# keep track of the order of the proteins\n",
    "fasta_file = \"/projects/deepgreen/jlaw/inputs/uniprot/2021-05/2021-05-25-uniprot_swissprot_shortid.fasta.gz\"\n",
    "print(f\"reading {fasta_file}\")\n",
    "swissprot_sequences = {}\n",
    "# prot_set = set(prots)\n",
    "with gzip.open(fasta_file, 'r') as f:\n",
    "    for name, seq in read_fasta(f, gzipped=True):\n",
    "        # just read in the proteins that have GO annotations\n",
    "        if name not in prot_set:\n",
    "            continue\n",
    "        # make sure there aren't these strange AAs\n",
    "        seq = seq.replace('B', 'D').replace('Z', 'E').replace('J', 'L')\n",
    "#         print(name, seq)\n",
    "        swissprot_sequences[name] = seq\n",
    "\n",
    "print(f\"\\t{len(swissprot_sequences)} read\")"
   ]
  },
  {
   "cell_type": "code",
   "execution_count": 100,
   "metadata": {},
   "outputs": [
    {
     "name": "stdout",
     "output_type": "stream",
     "text": [
      "reading /projects/deepgreen/jlaw/inputs/uniprot/2021-05/2021-05-25-uniprot_trembl_shortid.fasta.gz\n",
      "\t56261 read\n"
     ]
    }
   ],
   "source": [
    "# load the uniprot fasta file\n",
    "# keep track of the order of the proteins\n",
    "fasta_file = \"/projects/deepgreen/jlaw/inputs/uniprot/2021-05/2021-05-25-uniprot_trembl_shortid.fasta.gz\"\n",
    "print(f\"reading {fasta_file}\")\n",
    "sequences = {}\n",
    "prot_set = set(prots)\n",
    "with gzip.open(fasta_file, 'r') as f:\n",
    "    for name, seq in read_fasta(f, gzipped=True):\n",
    "        # just read in the proteins that have GO annotations\n",
    "        if name not in prot_set:\n",
    "            continue\n",
    "        # make sure there aren't these strange AAs\n",
    "        seq = seq.replace('B', 'D').replace('Z', 'E').replace('J', 'L')\n",
    "#         print(name, seq)\n",
    "        sequences[name] = seq\n",
    "\n",
    "print(f\"\\t{len(sequences)} read\")"
   ]
  },
  {
   "cell_type": "code",
   "execution_count": 109,
   "metadata": {},
   "outputs": [
    {
     "data": {
      "text/plain": [
       "137934"
      ]
     },
     "execution_count": 109,
     "metadata": {},
     "output_type": "execute_result"
    }
   ],
   "source": [
    "seqs = set(list(swissprot_sequences.keys())) | set(list(sequences.keys()))\n",
    "len(seqs)"
   ]
  },
  {
   "cell_type": "code",
   "execution_count": 110,
   "metadata": {},
   "outputs": [
    {
     "data": {
      "text/plain": [
       "137934"
      ]
     },
     "execution_count": 110,
     "metadata": {},
     "output_type": "execute_result"
    }
   ],
   "source": [
    "sequences.update(swissprot_sequences)\n",
    "len(sequences)"
   ]
  },
  {
   "cell_type": "code",
   "execution_count": 103,
   "metadata": {},
   "outputs": [
    {
     "name": "stdout",
     "output_type": "stream",
     "text": [
      "137934\n"
     ]
    }
   ],
   "source": [
    "print(len(prots))"
   ]
  },
  {
   "cell_type": "code",
   "execution_count": 101,
   "metadata": {},
   "outputs": [],
   "source": [
    "def write_split_prots(prot_split, sequences, out_file):\n",
    "    print(f\"writing {len(prot_split)} prot sequences to {out_file}\")\n",
    "    with open(out_file, 'w') as out:\n",
    "        for prot in prot_split:\n",
    "            out.write(' '.join(sequences[prot]) + '\\n')"
   ]
  },
  {
   "cell_type": "code",
   "execution_count": 22,
   "metadata": {},
   "outputs": [
    {
     "data": {
      "text/plain": [
       "array([56290, 40556, 16535, ..., 35987, 44869, 61180])"
      ]
     },
     "execution_count": 22,
     "metadata": {},
     "output_type": "execute_result"
    }
   ],
   "source": [
    "test"
   ]
  },
  {
   "cell_type": "code",
   "execution_count": 25,
   "metadata": {},
   "outputs": [
    {
     "name": "stdout",
     "output_type": "stream",
     "text": [
      "['Q9FUB7' 'Q61070' 'P22770' ... 'Q20561' 'Q80ZK0' 'Q9R229']\n"
     ]
    }
   ],
   "source": [
    "print(prots[test])"
   ]
  },
  {
   "cell_type": "code",
   "execution_count": 39,
   "metadata": {},
   "outputs": [
    {
     "name": "stdout",
     "output_type": "stream",
     "text": [
      "writing 3342 prot sequences to /projects/deepgreen/jlaw/swissprot_go_annotation/fairseq_cafa3_run3/input0/test.raw\n",
      "/projects/deepgreen/jlaw/swissprot_go_annotation/fairseq_cafa3_run3/input0/test-ids.txt\n",
      "writing 3342 prot sequences to /projects/deepgreen/jlaw/swissprot_go_annotation/fairseq_cafa3_run3/input0/valid.raw\n",
      "/projects/deepgreen/jlaw/swissprot_go_annotation/fairseq_cafa3_run3/input0/valid-ids.txt\n",
      "writing 60157 prot sequences to /projects/deepgreen/jlaw/swissprot_go_annotation/fairseq_cafa3_run3/input0/train.raw\n",
      "/projects/deepgreen/jlaw/swissprot_go_annotation/fairseq_cafa3_run3/input0/train-ids.txt\n"
     ]
    }
   ],
   "source": [
    "# write one protein sequence per line, separating AA by spaces, as expected by fairseq\n",
    "base_out_dir = \"/projects/deepgreen/jlaw/swissprot_go_annotation/2021_05_fairseq_trembl_expc\"\n",
    "out_dir = f\"{base_out_dir}/input0\"\n",
    "os.makedirs(out_dir, exist_ok=True)\n",
    "prots = np.asarray(prots)\n",
    "for prot_split, split in [\n",
    "        (prots[test], 'test'),\n",
    "        (prots[valid], 'valid'),\n",
    "        (prots[train], 'train')]:\n",
    "    out_file = f\"{out_dir}/{split}.raw\"\n",
    "    write_split_prots(prot_split, sequences, out_file)\n",
    "    # also write the uniprot IDs to keep track of which proteins are in each set\n",
    "    out_file = f\"{out_dir}/{split}-ids.txt\"\n",
    "    print(out_file)\n",
    "    pd.Series(prot_split).to_csv(out_file, index=None, header=None)\n",
    "#     break"
   ]
  },
  {
   "cell_type": "code",
   "execution_count": 40,
   "metadata": {},
   "outputs": [
    {
     "name": "stdout",
     "output_type": "stream",
     "text": [
      "(3342, 28474)\n",
      "writing /projects/deepgreen/jlaw/swissprot_go_annotation/fairseq_cafa3_run3/label/test.npz\n",
      "(3342, 28474)\n",
      "writing /projects/deepgreen/jlaw/swissprot_go_annotation/fairseq_cafa3_run3/label/valid.npz\n",
      "(60157, 28474)\n",
      "writing /projects/deepgreen/jlaw/swissprot_go_annotation/fairseq_cafa3_run3/label/train.npz\n"
     ]
    }
   ],
   "source": [
    "# write the corresponding annotation matrix into train and validate datasets\n",
    "out_dir = f\"{base_out_dir}/label\"\n",
    "os.makedirs(out_dir, exist_ok=True)\n",
    "for prot_split_idx, split in [(test, 'test'),\n",
    "                              (valid, 'valid'),\n",
    "                              (train, 'train')]:\n",
    "    split_ann_mat = ann_mat[prot_split_idx,:]\n",
    "    print(split_ann_mat.shape)\n",
    "    out_file = f\"{out_dir}/{split}.npz\"\n",
    "    print(f\"writing {out_file}\")\n",
    "    save_npz(out_file, split_ann_mat)"
   ]
  },
  {
   "cell_type": "code",
   "execution_count": 139,
   "metadata": {},
   "outputs": [
    {
     "data": {
      "text/plain": [
       "(66841, 28474)"
      ]
     },
     "execution_count": 139,
     "metadata": {},
     "output_type": "execute_result"
    }
   ],
   "source": [
    "ann_mat.shape"
   ]
  },
  {
   "cell_type": "code",
   "execution_count": 155,
   "metadata": {},
   "outputs": [],
   "source": [
    "# command I used: \n",
    "#fairseq-preprocess --trainpref ./input0/train.raw --validpref ./input0/valid.raw --testpref ./input0/test.raw  --destdir ./input0/ --only-source"
   ]
  },
  {
   "cell_type": "code",
   "execution_count": 111,
   "metadata": {},
   "outputs": [
    {
     "name": "stdout",
     "output_type": "stream",
     "text": [
      "writing 6896 prot sequences to /projects/deepgreen/jlaw/swissprot_go_annotation/2021_05_fairseq_trembl_expc_ann10/input0/test.raw\n",
      "/projects/deepgreen/jlaw/swissprot_go_annotation/2021_05_fairseq_trembl_expc_ann10/input0/test-ids.txt\n",
      "writing 6897 prot sequences to /projects/deepgreen/jlaw/swissprot_go_annotation/2021_05_fairseq_trembl_expc_ann10/input0/valid.raw\n",
      "/projects/deepgreen/jlaw/swissprot_go_annotation/2021_05_fairseq_trembl_expc_ann10/input0/valid-ids.txt\n",
      "writing 124141 prot sequences to /projects/deepgreen/jlaw/swissprot_go_annotation/2021_05_fairseq_trembl_expc_ann10/input0/train.raw\n",
      "/projects/deepgreen/jlaw/swissprot_go_annotation/2021_05_fairseq_trembl_expc_ann10/input0/train-ids.txt\n"
     ]
    }
   ],
   "source": [
    "# write one protein sequence per line, separating AA by spaces, as expected by fairseq\n",
    "base_out_dir = \"/projects/deepgreen/jlaw/swissprot_go_annotation/2021_05_fairseq_trembl_expc_ann10\"\n",
    "out_dir = f\"{base_out_dir}/input0\"\n",
    "os.makedirs(out_dir, exist_ok=True)\n",
    "prots = np.asarray(prots)\n",
    "for prot_split, split in [\n",
    "        (prots[test], 'test'),\n",
    "        (prots[valid], 'valid'),\n",
    "        (prots[train], 'train')]:\n",
    "    out_file = f\"{out_dir}/{split}.raw\"\n",
    "    write_split_prots(prot_split, sequences, out_file)\n",
    "    # also write the uniprot IDs to keep track of which proteins are in each set\n",
    "    out_file = f\"{out_dir}/{split}-ids.txt\"\n",
    "    print(out_file)\n",
    "    pd.Series(prot_split).to_csv(out_file, index=None, header=None)\n",
    "#     break"
   ]
  },
  {
   "cell_type": "code",
   "execution_count": 112,
   "metadata": {},
   "outputs": [
    {
     "name": "stdout",
     "output_type": "stream",
     "text": [
      "(6896, 14775)\n",
      "writing /projects/deepgreen/jlaw/swissprot_go_annotation/2021_05_fairseq_trembl_expc_ann10/label/test.npz\n",
      "(6897, 14775)\n",
      "writing /projects/deepgreen/jlaw/swissprot_go_annotation/2021_05_fairseq_trembl_expc_ann10/label/valid.npz\n",
      "(124141, 14775)\n",
      "writing /projects/deepgreen/jlaw/swissprot_go_annotation/2021_05_fairseq_trembl_expc_ann10/label/train.npz\n"
     ]
    }
   ],
   "source": [
    "# write the corresponding annotation matrix into train and validate datasets\n",
    "out_dir = f\"{base_out_dir}/label\"\n",
    "os.makedirs(out_dir, exist_ok=True)\n",
    "for prot_split_idx, split in [(test, 'test'),\n",
    "                              (valid, 'valid'),\n",
    "                              (train, 'train')]:\n",
    "    split_ann_mat = ann_mat_50[prot_split_idx,:]\n",
    "    print(split_ann_mat.shape)\n",
    "    out_file = f\"{out_dir}/{split}.npz\"\n",
    "    print(f\"writing {out_file}\")\n",
    "    save_npz(out_file, split_ann_mat)"
   ]
  },
  {
   "cell_type": "code",
   "execution_count": 113,
   "metadata": {},
   "outputs": [],
   "source": [
    "os.chdir(base_out_dir)"
   ]
  },
  {
   "cell_type": "code",
   "execution_count": null,
   "metadata": {},
   "outputs": [],
   "source": [
    "# command I used: \n",
    "!fairseq-preprocess \\\n",
    "    --trainpref ./input0/train.raw \\\n",
    "    --validpref ./input0/valid.raw \\\n",
    "    --testpref ./input0/test.raw  \\\n",
    "    --destdir ./input0/ \\\n",
    "    --only-source"
   ]
  }
 ],
 "metadata": {
  "kernelspec": {
   "display_name": "Python 3",
   "language": "python",
   "name": "python3"
  },
  "language_info": {
   "codemirror_mode": {
    "name": "ipython",
    "version": 3
   },
   "file_extension": ".py",
   "mimetype": "text/x-python",
   "name": "python",
   "nbconvert_exporter": "python",
   "pygments_lexer": "ipython3",
   "version": "3.7.9"
  }
 },
 "nbformat": 4,
 "nbformat_minor": 4
}
