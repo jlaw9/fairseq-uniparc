{
 "cells": [
  {
   "cell_type": "code",
   "execution_count": 1,
   "metadata": {},
   "outputs": [],
   "source": [
    "import numpy as np\n",
    "import pandas as pd\n",
    "\n",
    "import matplotlib.pyplot as plt\n",
    "import seaborn as sns\n",
    "sns.set(context='talk', style='ticks',\n",
    "        color_codes=True, rc={'legend.frameon': False})\n",
    "\n",
    "%matplotlib inline"
   ]
  },
  {
   "cell_type": "markdown",
   "metadata": {},
   "source": [
    "# Redo\n",
    "To debug whether the strange training curves I'm seeing with the CAFA3 data are due to my code, I'm re-running the fine-tuning done with all of the GO annotations."
   ]
  },
  {
   "cell_type": "code",
   "execution_count": 2,
   "metadata": {},
   "outputs": [],
   "source": [
    "# Load swissprot sequences, annotations, and cafa3 annotations\n",
    "import os\n",
    "swissprot_dir = '/projects/deepgreen/pstjohn/swissprot_go_annotation'\n",
    "\n",
    "swissprot = pd.read_parquet(os.path.join(swissprot_dir, 'parsed_swissprot_uniref_clusters.parquet'))\n",
    "go_terms = pd.read_parquet(os.path.join(swissprot_dir, 'swissprot_quickgo.parquet'))\n",
    "cafa3_accessions = np.load(os.path.join(swissprot_dir, 'cafa3_accessions.npz'), allow_pickle=True)"
   ]
  },
  {
   "cell_type": "code",
   "execution_count": 3,
   "metadata": {},
   "outputs": [
    {
     "data": {
      "text/html": [
       "<div>\n",
       "<style scoped>\n",
       "    .dataframe tbody tr th:only-of-type {\n",
       "        vertical-align: middle;\n",
       "    }\n",
       "\n",
       "    .dataframe tbody tr th {\n",
       "        vertical-align: top;\n",
       "    }\n",
       "\n",
       "    .dataframe thead th {\n",
       "        text-align: right;\n",
       "    }\n",
       "</style>\n",
       "<table border=\"1\" class=\"dataframe\">\n",
       "  <thead>\n",
       "    <tr style=\"text-align: right;\">\n",
       "      <th></th>\n",
       "      <th>GENE PRODUCT DB</th>\n",
       "      <th>GENE PRODUCT ID</th>\n",
       "      <th>SYMBOL</th>\n",
       "      <th>QUALIFIER</th>\n",
       "      <th>GO TERM</th>\n",
       "      <th>GO ASPECT</th>\n",
       "      <th>ECO ID</th>\n",
       "      <th>GO EVIDENCE CODE</th>\n",
       "      <th>REFERENCE</th>\n",
       "      <th>WITH/FROM</th>\n",
       "      <th>TAXON ID</th>\n",
       "      <th>ASSIGNED BY</th>\n",
       "      <th>ANNOTATION EXTENSION</th>\n",
       "      <th>DATE</th>\n",
       "    </tr>\n",
       "  </thead>\n",
       "  <tbody>\n",
       "    <tr>\n",
       "      <th>0</th>\n",
       "      <td>UniProtKB</td>\n",
       "      <td>A2CKF6</td>\n",
       "      <td>A2CKF6</td>\n",
       "      <td>part_of</td>\n",
       "      <td>GO:0005576</td>\n",
       "      <td>C</td>\n",
       "      <td>ECO:0000256</td>\n",
       "      <td>IEA</td>\n",
       "      <td>GO_REF:0000002</td>\n",
       "      <td>InterPro:IPR003571|InterPro:IPR018354</td>\n",
       "      <td>8613</td>\n",
       "      <td>InterPro</td>\n",
       "      <td>None</td>\n",
       "      <td>20200613</td>\n",
       "    </tr>\n",
       "    <tr>\n",
       "      <th>1</th>\n",
       "      <td>UniProtKB</td>\n",
       "      <td>A2CKF6</td>\n",
       "      <td>A2CKF6</td>\n",
       "      <td>involved_in</td>\n",
       "      <td>GO:0009405</td>\n",
       "      <td>P</td>\n",
       "      <td>ECO:0000256</td>\n",
       "      <td>IEA</td>\n",
       "      <td>GO_REF:0000002</td>\n",
       "      <td>InterPro:IPR003571</td>\n",
       "      <td>8613</td>\n",
       "      <td>InterPro</td>\n",
       "      <td>None</td>\n",
       "      <td>20200613</td>\n",
       "    </tr>\n",
       "    <tr>\n",
       "      <th>2</th>\n",
       "      <td>UniProtKB</td>\n",
       "      <td>A2CKF6</td>\n",
       "      <td>A2CKF6</td>\n",
       "      <td>part_of</td>\n",
       "      <td>GO:0005576</td>\n",
       "      <td>C</td>\n",
       "      <td>ECO:0000322</td>\n",
       "      <td>IEA</td>\n",
       "      <td>GO_REF:0000043</td>\n",
       "      <td>UniProtKB-KW:KW-0964</td>\n",
       "      <td>8613</td>\n",
       "      <td>UniProt</td>\n",
       "      <td>None</td>\n",
       "      <td>20200613</td>\n",
       "    </tr>\n",
       "    <tr>\n",
       "      <th>3</th>\n",
       "      <td>UniProtKB</td>\n",
       "      <td>A2CKF6</td>\n",
       "      <td>A2CKF6</td>\n",
       "      <td>enables</td>\n",
       "      <td>GO:0090729</td>\n",
       "      <td>F</td>\n",
       "      <td>ECO:0000322</td>\n",
       "      <td>IEA</td>\n",
       "      <td>GO_REF:0000043</td>\n",
       "      <td>UniProtKB-KW:KW-0800</td>\n",
       "      <td>8613</td>\n",
       "      <td>UniProt</td>\n",
       "      <td>None</td>\n",
       "      <td>20200613</td>\n",
       "    </tr>\n",
       "    <tr>\n",
       "      <th>4</th>\n",
       "      <td>UniProtKB</td>\n",
       "      <td>A2CKF6</td>\n",
       "      <td>A2CKF6</td>\n",
       "      <td>part_of</td>\n",
       "      <td>GO:0035792</td>\n",
       "      <td>C</td>\n",
       "      <td>ECO:0000322</td>\n",
       "      <td>IEA</td>\n",
       "      <td>GO_REF:0000043</td>\n",
       "      <td>UniProtKB-KW:KW-0629</td>\n",
       "      <td>8613</td>\n",
       "      <td>UniProt</td>\n",
       "      <td>None</td>\n",
       "      <td>20200613</td>\n",
       "    </tr>\n",
       "  </tbody>\n",
       "</table>\n",
       "</div>"
      ],
      "text/plain": [
       "  GENE PRODUCT DB GENE PRODUCT ID  SYMBOL    QUALIFIER     GO TERM GO ASPECT  \\\n",
       "0       UniProtKB          A2CKF6  A2CKF6      part_of  GO:0005576         C   \n",
       "1       UniProtKB          A2CKF6  A2CKF6  involved_in  GO:0009405         P   \n",
       "2       UniProtKB          A2CKF6  A2CKF6      part_of  GO:0005576         C   \n",
       "3       UniProtKB          A2CKF6  A2CKF6      enables  GO:0090729         F   \n",
       "4       UniProtKB          A2CKF6  A2CKF6      part_of  GO:0035792         C   \n",
       "\n",
       "        ECO ID GO EVIDENCE CODE       REFERENCE  \\\n",
       "0  ECO:0000256              IEA  GO_REF:0000002   \n",
       "1  ECO:0000256              IEA  GO_REF:0000002   \n",
       "2  ECO:0000322              IEA  GO_REF:0000043   \n",
       "3  ECO:0000322              IEA  GO_REF:0000043   \n",
       "4  ECO:0000322              IEA  GO_REF:0000043   \n",
       "\n",
       "                               WITH/FROM  TAXON ID ASSIGNED BY  \\\n",
       "0  InterPro:IPR003571|InterPro:IPR018354      8613    InterPro   \n",
       "1                     InterPro:IPR003571      8613    InterPro   \n",
       "2                   UniProtKB-KW:KW-0964      8613     UniProt   \n",
       "3                   UniProtKB-KW:KW-0800      8613     UniProt   \n",
       "4                   UniProtKB-KW:KW-0629      8613     UniProt   \n",
       "\n",
       "  ANNOTATION EXTENSION      DATE  \n",
       "0                 None  20200613  \n",
       "1                 None  20200613  \n",
       "2                 None  20200613  \n",
       "3                 None  20200613  \n",
       "4                 None  20200613  "
      ]
     },
     "execution_count": 3,
     "metadata": {},
     "output_type": "execute_result"
    }
   ],
   "source": [
    "go_terms.head()"
   ]
  },
  {
   "cell_type": "code",
   "execution_count": 4,
   "metadata": {},
   "outputs": [
    {
     "data": {
      "text/plain": [
       "array(['UniProtKB'], dtype=object)"
      ]
     },
     "execution_count": 4,
     "metadata": {},
     "output_type": "execute_result"
    }
   ],
   "source": [
    "go_terms['GENE PRODUCT DB'].unique()"
   ]
  },
  {
   "cell_type": "code",
   "execution_count": 5,
   "metadata": {},
   "outputs": [
    {
     "data": {
      "text/plain": [
       "array(['part_of', 'involved_in', 'enables', 'contributes_to',\n",
       "       'acts_upstream_of_or_within', 'colocalizes_with',\n",
       "       'NOT|involved_in', 'NOT|enables', 'acts_upstream_of',\n",
       "       'is_active_in', 'acts_upstream_of_positive_effect', 'NOT|part_of',\n",
       "       'NOT|acts_upstream_of_or_within',\n",
       "       'acts_upstream_of_or_within_positive_effect',\n",
       "       'acts_upstream_of_negative_effect',\n",
       "       'acts_upstream_of_or_within_negative_effect', 'NOT|contributes_to',\n",
       "       'NOT|colocalizes_with',\n",
       "       'NOT|acts_upstream_of_or_within_negative_effect'], dtype=object)"
      ]
     },
     "execution_count": 5,
     "metadata": {},
     "output_type": "execute_result"
    }
   ],
   "source": [
    "go_terms['QUALIFIER'].unique()"
   ]
  },
  {
   "cell_type": "code",
   "execution_count": 6,
   "metadata": {},
   "outputs": [
    {
     "name": "stdout",
     "output_type": "stream",
     "text": [
      "removing ['NOT|involved_in', 'NOT|enables', 'NOT|part_of', 'NOT|acts_upstream_of_or_within', 'NOT|contributes_to', 'NOT|colocalizes_with', 'NOT|acts_upstream_of_or_within_negative_effect']\n",
      "['part_of' 'involved_in' 'enables' 'contributes_to'\n",
      " 'acts_upstream_of_or_within' 'colocalizes_with' 'acts_upstream_of'\n",
      " 'is_active_in' 'acts_upstream_of_positive_effect'\n",
      " 'acts_upstream_of_or_within_positive_effect'\n",
      " 'acts_upstream_of_negative_effect'\n",
      " 'acts_upstream_of_or_within_negative_effect']\n"
     ]
    }
   ],
   "source": [
    "# ignore the NOT annotations for now\n",
    "not_qualifiers = [qual for qual in go_terms['QUALIFIER'].unique() if 'NOT' in qual]\n",
    "print(f\"removing {not_qualifiers}\")\n",
    "go_terms = go_terms[~go_terms['QUALIFIER'].isin(not_qualifiers)]\n",
    "\n",
    "print(go_terms['QUALIFIER'].unique())"
   ]
  },
  {
   "cell_type": "code",
   "execution_count": 7,
   "metadata": {},
   "outputs": [],
   "source": [
    "# Create the ontology object and backpropogate GO labels\n",
    "\n",
    "import sys\n",
    "# sys.path.append('/home/pstjohn/Research/20201119_fairseq/go_annotation')\n",
    "sys.path.append('/home/jlaw/projects/2020-01-deepgreen/fairseq-uniparc-fork/go_annotation')\n",
    "\n",
    "from ontology import ontology\n",
    "from ontology import Ontology\n",
    "# ont = Ontology()\n",
    "# ont.total_nodes"
   ]
  },
  {
   "cell_type": "code",
   "execution_count": 8,
   "metadata": {},
   "outputs": [
    {
     "name": "stdout",
     "output_type": "stream",
     "text": [
      "28629\n"
     ]
    }
   ],
   "source": [
    "terms = go_terms['GO TERM'].unique()\n",
    "print(len(terms))"
   ]
  },
  {
   "cell_type": "code",
   "execution_count": 9,
   "metadata": {},
   "outputs": [
    {
     "name": "stdout",
     "output_type": "stream",
     "text": [
      "reading obo file: /home/jlaw/projects/2020-01-deepgreen/fairseq-uniparc-fork/inputs/2020-12-swissprot/go-basic.obo.gz\n",
      "32579\n"
     ]
    }
   ],
   "source": [
    "base_dir = \"/home/jlaw/projects/2020-01-deepgreen/fairseq-uniparc-fork\"\n",
    "go_obo_file = f\"{base_dir}/inputs/2020-12-swissprot/go-basic.obo.gz\"\n",
    "terms_file = f\"{base_dir}/inputs/2020-12-swissprot/terms-rerun.csv.gz\"\n",
    "# first, read all GO terms. Then we'll limit the terms to those with at least 1 annotation\n",
    "ont_obj = ontology.Ontology(obo_file=go_obo_file)\n",
    "anc_terms = ont_obj.get_ancestors(terms)\n",
    "print(len(anc_terms))\n",
    "terms = sorted(anc_terms)"
   ]
  },
  {
   "cell_type": "code",
   "execution_count": 10,
   "metadata": {},
   "outputs": [],
   "source": [
    "import gzip"
   ]
  },
  {
   "cell_type": "code",
   "execution_count": 37,
   "metadata": {},
   "outputs": [],
   "source": [
    "# write these terms\n",
    "# os.makedirs(dirname(terms_file), exist_ok=True)\n",
    "with gzip.open(terms_file, 'wb') as out:\n",
    "    out.write(('\\n'.join(terms)+'\\n').encode())"
   ]
  },
  {
   "cell_type": "code",
   "execution_count": 38,
   "metadata": {},
   "outputs": [
    {
     "name": "stdout",
     "output_type": "stream",
     "text": [
      "reading obo file: /home/jlaw/projects/2020-01-deepgreen/fairseq-uniparc-fork/inputs/2020-12-swissprot/go-basic.obo.gz\n",
      "\tReading restrict_terms_file: /home/jlaw/projects/2020-01-deepgreen/fairseq-uniparc-fork/inputs/2020-12-swissprot/terms-rerun.csv.gz\n"
     ]
    }
   ],
   "source": [
    "# now create another ontology object with only the part of the ontology with annotations\n",
    "ont_obj = ontology.Ontology(obo_file=go_obo_file, restrict_terms_file=terms_file)"
   ]
  },
  {
   "cell_type": "code",
   "execution_count": 13,
   "metadata": {},
   "outputs": [
    {
     "data": {
      "text/html": [
       "<div>\n",
       "<style scoped>\n",
       "    .dataframe tbody tr th:only-of-type {\n",
       "        vertical-align: middle;\n",
       "    }\n",
       "\n",
       "    .dataframe tbody tr th {\n",
       "        vertical-align: top;\n",
       "    }\n",
       "\n",
       "    .dataframe thead th {\n",
       "        text-align: right;\n",
       "    }\n",
       "</style>\n",
       "<table border=\"1\" class=\"dataframe\">\n",
       "  <thead>\n",
       "    <tr style=\"text-align: right;\">\n",
       "      <th></th>\n",
       "      <th>prot</th>\n",
       "      <th>term</th>\n",
       "      <th>hierarchy</th>\n",
       "    </tr>\n",
       "  </thead>\n",
       "  <tbody>\n",
       "    <tr>\n",
       "      <th>0</th>\n",
       "      <td>A2CKF6</td>\n",
       "      <td>GO:0005576</td>\n",
       "      <td>C</td>\n",
       "    </tr>\n",
       "    <tr>\n",
       "      <th>1</th>\n",
       "      <td>A2CKF6</td>\n",
       "      <td>GO:0009405</td>\n",
       "      <td>P</td>\n",
       "    </tr>\n",
       "    <tr>\n",
       "      <th>2</th>\n",
       "      <td>A2CKF6</td>\n",
       "      <td>GO:0005576</td>\n",
       "      <td>C</td>\n",
       "    </tr>\n",
       "    <tr>\n",
       "      <th>3</th>\n",
       "      <td>A2CKF6</td>\n",
       "      <td>GO:0090729</td>\n",
       "      <td>F</td>\n",
       "    </tr>\n",
       "    <tr>\n",
       "      <th>4</th>\n",
       "      <td>A2CKF6</td>\n",
       "      <td>GO:0035792</td>\n",
       "      <td>C</td>\n",
       "    </tr>\n",
       "  </tbody>\n",
       "</table>\n",
       "</div>"
      ],
      "text/plain": [
       "     prot        term hierarchy\n",
       "0  A2CKF6  GO:0005576         C\n",
       "1  A2CKF6  GO:0009405         P\n",
       "2  A2CKF6  GO:0005576         C\n",
       "3  A2CKF6  GO:0090729         F\n",
       "4  A2CKF6  GO:0035792         C"
      ]
     },
     "execution_count": 13,
     "metadata": {},
     "output_type": "execute_result"
    }
   ],
   "source": [
    "# columns: prot, term, hierarchy\n",
    "prot_ids = set(go_terms['GENE PRODUCT ID'].unique())\n",
    "ann_df = go_terms[['GENE PRODUCT ID', 'GO TERM', 'GO ASPECT']]\n",
    "ann_df.columns = ['prot', 'term', 'hierarchy']\n",
    "ann_df.head()"
   ]
  },
  {
   "cell_type": "code",
   "execution_count": 39,
   "metadata": {},
   "outputs": [],
   "source": [
    "# now build the annotation matrix and propagate annotations upward\n",
    "prots, leaf_ann_mat = ontology.build_ann_matrix(ann_df, ont_obj)\n",
    "ann_mat = ontology.propagate_ann_up_dag(leaf_ann_mat, ont_obj.dag_matrix.T)"
   ]
  },
  {
   "cell_type": "code",
   "execution_count": 40,
   "metadata": {},
   "outputs": [
    {
     "data": {
      "text/plain": [
       "28726184"
      ]
     },
     "execution_count": 40,
     "metadata": {},
     "output_type": "execute_result"
    }
   ],
   "source": [
    "# this has slightly more because I included the 'part_of' edge types\n",
    "len(ann_mat.data)"
   ]
  },
  {
   "cell_type": "code",
   "execution_count": 38,
   "metadata": {},
   "outputs": [
    {
     "data": {
      "text/plain": [
       "26772821"
      ]
     },
     "execution_count": 38,
     "metadata": {},
     "output_type": "execute_result"
    }
   ],
   "source": [
    "len(ann_mat.data)"
   ]
  },
  {
   "cell_type": "code",
   "execution_count": 16,
   "metadata": {},
   "outputs": [
    {
     "data": {
      "text/plain": [
       "<AxesSubplot:ylabel='Frequency'>"
      ]
     },
     "execution_count": 16,
     "metadata": {},
     "output_type": "execute_result"
    },
    {
     "data": {
      "image/png": "[encoded data removed]",
      "text/plain": [
       "<Figure size 432x288 with 1 Axes>"
      ]
     },
     "metadata": {
      "needs_background": "light"
     },
     "output_type": "display_data"
    }
   ],
   "source": [
    "# Prepare for fairseq input\n",
    "swissprot['str_sep_sequence'] = swissprot.sequence.str.replace(\"\", \" \").str.strip()\n",
    "\n",
    "# Restrict swissprot to those with GO annotations\n",
    "swissprot_annotated = swissprot[swissprot.accession.isin(go_terms['GENE PRODUCT ID'].unique())]\n",
    "swissprot_annotated.length.plot.hist(range=(0, 2048), bins=30)"
   ]
  },
  {
   "cell_type": "code",
   "execution_count": 17,
   "metadata": {},
   "outputs": [
    {
     "name": "stdout",
     "output_type": "stream",
     "text": [
      "174015\n"
     ]
    }
   ],
   "source": [
    "uniref50_clusters = swissprot_annotated['UniRef50 ID'].unique()\n",
    "\n",
    "# Remove cafa3 target data from swissprot data\n",
    "uniref50_nocafa3 = np.array(list(set(uniref50_clusters) - set(cafa3_accessions['test'])))\n",
    "\n",
    "# Split swissprot into training and test\n",
    "print(len(uniref50_nocafa3))\n",
    "np.random.seed(1)\n",
    "np.random.shuffle(uniref50_nocafa3)\n",
    "test, valid, train = np.split(uniref50_nocafa3, [3000, 6000])\n",
    "\n",
    "swissprot_train = swissprot_annotated[swissprot_annotated['UniRef50 ID'].isin(train)].sample(frac=1., random_state=1)\n",
    "swissprot_valid = swissprot_annotated[swissprot_annotated['UniRef50 ID'].isin(valid)].sample(frac=1., random_state=1)\n",
    "swissprot_test = swissprot_annotated[swissprot_annotated['UniRef50 ID'].isin(test)].sample(frac=1., random_state=1)"
   ]
  },
  {
   "cell_type": "code",
   "execution_count": 20,
   "metadata": {},
   "outputs": [],
   "source": [
    "# Create the sequence input data files\n",
    "swissprot_dest_dir = '/projects/deepgreen/jlaw/swissprot_go_annotation/2020_12_fairseq_swissprot'\n",
    "\n",
    "swissprot_train['str_sep_sequence'].to_csv(os.path.join(swissprot_dest_dir, 'input0', 'train.raw'), index=False, header=None)\n",
    "swissprot_valid['str_sep_sequence'].to_csv(os.path.join(swissprot_dest_dir, 'input0', 'valid.raw'), index=False, header=None)\n",
    "swissprot_test['str_sep_sequence'].to_csv(os.path.join(swissprot_dest_dir, 'input0', 'test.raw'), index=False, header=None)"
   ]
  },
  {
   "cell_type": "code",
   "execution_count": 97,
   "metadata": {},
   "outputs": [
    {
     "data": {
      "text/plain": [
       "32012"
      ]
     },
     "execution_count": 97,
     "metadata": {},
     "output_type": "execute_result"
    }
   ],
   "source": [
    "# # Create the ontology object and backpropogate GO labels\n",
    "\n",
    "# import sys\n",
    "# sys.path.append('/home/pstjohn/Research/20201119_fairseq/go_annotation')\n",
    "\n",
    "# from ontology import Ontology\n",
    "# ont = Ontology()\n",
    "# ont.total_nodes"
   ]
  },
  {
   "cell_type": "code",
   "execution_count": 22,
   "metadata": {},
   "outputs": [],
   "source": [
    "grouped_go_terms = go_terms.groupby('GENE PRODUCT ID')['GO TERM'].apply(lambda x: x.values)"
   ]
  },
  {
   "cell_type": "code",
   "execution_count": 29,
   "metadata": {},
   "outputs": [],
   "source": [
    "from tqdm import tqdm\n",
    "\n",
    "from scipy.sparse import coo_matrix, save_npz\n",
    "\n",
    "def get_sparse_indices(accessions):\n",
    "    for i, row in tqdm(enumerate(accessions)):\n",
    "        for index in ont_obj.terms_to_indices(ont_obj.get_ancestors(grouped_go_terms.loc[row])):\n",
    "            yield (i, index)\n",
    "            \n",
    "def get_csr_matrix(accessions):\n",
    "    indices = np.array(list(get_sparse_indices(accessions)))\n",
    "    values = np.ones(len(indices))\n",
    "    cm = coo_matrix((values, (indices[:, 0], indices[:, 1])), shape=(len(accessions), ont_obj.total_nodes))\n",
    "    return cm.asformat('csr')\n"
   ]
  },
  {
   "cell_type": "code",
   "execution_count": 41,
   "metadata": {},
   "outputs": [
    {
     "name": "stderr",
     "output_type": "stream",
     "text": [
      "520980it [03:27, 2514.92it/s]\n",
      "9826it [00:03, 2702.24it/s]\n",
      "8585it [00:03, 2500.77it/s]\n"
     ]
    }
   ],
   "source": [
    "train_mat = get_csr_matrix(swissprot_train.accession)\n",
    "valid_mat = get_csr_matrix(swissprot_valid.accession)\n",
    "test_mat = get_csr_matrix(swissprot_test.accession)"
   ]
  },
  {
   "cell_type": "code",
   "execution_count": 50,
   "metadata": {},
   "outputs": [
    {
     "name": "stdout",
     "output_type": "stream",
     "text": [
      "27683353.0\n",
      "489727.0\n",
      "464492.0\n"
     ]
    }
   ],
   "source": [
    "for mat in [train_mat, valid_mat, test_mat]:\n",
    "    print(sum(mat.data))"
   ]
  },
  {
   "cell_type": "code",
   "execution_count": 43,
   "metadata": {},
   "outputs": [],
   "source": [
    "save_npz(os.path.join(swissprot_dest_dir, 'label', 'train.npz'), train_mat)\n",
    "save_npz(os.path.join(swissprot_dest_dir, 'label', 'valid.npz'), valid_mat)\n",
    "save_npz(os.path.join(swissprot_dest_dir, 'label', 'test.npz'), test_mat)"
   ]
  },
  {
   "cell_type": "code",
   "execution_count": 44,
   "metadata": {},
   "outputs": [],
   "source": [
    "# also create the npz files using the strategy I developed to see if it results in different values\n",
    "prots, leaf_ann_mat = ontology.build_ann_matrix(ann_df, ont_obj)\n",
    "ann_mat = ontology.propagate_ann_up_dag(leaf_ann_mat, ont_obj.dag_matrix.T)"
   ]
  },
  {
   "cell_type": "code",
   "execution_count": 45,
   "metadata": {},
   "outputs": [
    {
     "name": "stdout",
     "output_type": "stream",
     "text": [
      "28726184\n"
     ]
    }
   ],
   "source": [
    "print(len(ann_mat.data))"
   ]
  },
  {
   "cell_type": "code",
   "execution_count": 46,
   "metadata": {},
   "outputs": [],
   "source": [
    "prot_index = {prot: i for i, prot in enumerate(prots)}\n",
    "train_idx = [prot_index[p] for p in swissprot_train.accession]\n",
    "valid_idx = [prot_index[p] for p in swissprot_valid.accession]\n",
    "test_idx = [prot_index[p] for p in swissprot_test.accession]\n",
    "train_mat_2 = ann_mat[train_idx,:]\n",
    "valid_mat_2 = ann_mat[valid_idx,:]\n",
    "test_mat_2 = ann_mat[test_idx,:]"
   ]
  },
  {
   "cell_type": "code",
   "execution_count": 49,
   "metadata": {},
   "outputs": [
    {
     "name": "stdout",
     "output_type": "stream",
     "text": [
      "27683353\n",
      "489727\n",
      "464492\n"
     ]
    }
   ],
   "source": [
    "for mat in [train_mat_2, valid_mat_2, test_mat_2]:\n",
    "    print(sum(mat.data))"
   ]
  },
  {
   "cell_type": "code",
   "execution_count": 54,
   "metadata": {},
   "outputs": [
    {
     "data": {
      "text/plain": [
       "(array([  840,   842,  1153,  1155,  1171,  1251,  1490,  1907,  1908,\n",
       "         1931,  1933,  2732,  3065,  3103,  3104,  3133,  3138,  3206,\n",
       "         3233,  3234,  3246,  3252,  4107,  4108,  4110,  4111,  4232,\n",
       "         4243,  4703,  5782,  5784,  5790,  6009,  6091,  6105,  6129,\n",
       "         6497,  6602,  6625,  6946,  7009,  7740,  7741,  8995,  9869,\n",
       "        10567, 10628, 10729, 10839, 10841, 10889, 11270, 11361, 11363,\n",
       "        11775, 11825, 12794, 14435, 14866, 14891, 15582, 15598, 15599,\n",
       "        15601, 15603, 15684, 15685, 16414, 16697, 18821, 18878, 18879,\n",
       "        19573, 19575, 19616, 19620, 19702, 19951, 19952, 20206, 20267,\n",
       "        20275, 21054, 21184, 22502, 24610, 25423, 25757, 25824, 25849,\n",
       "        25998, 27014, 28052, 28243]),)"
      ]
     },
     "execution_count": 54,
     "metadata": {},
     "output_type": "execute_result"
    }
   ],
   "source": [
    "# make sure these matrices are the same\n",
    "np.where(test_mat[0].A.flatten() > 0)"
   ]
  },
  {
   "cell_type": "code",
   "execution_count": 55,
   "metadata": {},
   "outputs": [
    {
     "data": {
      "text/plain": [
       "(array([  840,   842,  1153,  1155,  1171,  1251,  1490,  1907,  1908,\n",
       "         1931,  1933,  2732,  3065,  3103,  3104,  3133,  3138,  3206,\n",
       "         3233,  3234,  3246,  3252,  4107,  4108,  4110,  4111,  4232,\n",
       "         4243,  4703,  5782,  5784,  5790,  6009,  6091,  6105,  6129,\n",
       "         6497,  6602,  6625,  6946,  7009,  7740,  7741,  8995,  9869,\n",
       "        10567, 10628, 10729, 10839, 10841, 10889, 11270, 11361, 11363,\n",
       "        11775, 11825, 12794, 14435, 14866, 14891, 15582, 15598, 15599,\n",
       "        15601, 15603, 15684, 15685, 16414, 16697, 18821, 18878, 18879,\n",
       "        19573, 19575, 19616, 19620, 19702, 19951, 19952, 20206, 20267,\n",
       "        20275, 21054, 21184, 22502, 24610, 25423, 25757, 25824, 25849,\n",
       "        25998, 27014, 28052, 28243]),)"
      ]
     },
     "execution_count": 55,
     "metadata": {},
     "output_type": "execute_result"
    }
   ],
   "source": [
    "# make sure these matrices are the same\n",
    "np.where(test_mat_2[0].A.flatten() > 0)"
   ]
  },
  {
   "cell_type": "code",
   "execution_count": 101,
   "metadata": {},
   "outputs": [],
   "source": [
    "# with open(os.path.join(swissprot_dest_dir, 'label', 'train.label'), 'w') as f:\n",
    "#     for row in tqdm(swissprot_train.accession):\n",
    "#         arr = ont.terms_to_indices(ont.get_ancestors(grouped_go_terms.loc[row]))\n",
    "#         f.write(' '.join(np.array(arr, dtype=str)))\n",
    "#         f.write('\\n')        \n",
    "        \n",
    "# with open(os.path.join(swissprot_dest_dir, 'label', 'valid.label'), 'w') as f:\n",
    "#     for row in tqdm(swissprot_valid.accession):\n",
    "#         arr = ont.terms_to_indices(ont.get_ancestors(grouped_go_terms.loc[row]))\n",
    "#         f.write(' '.join(np.array(arr, dtype=str)))\n",
    "#         f.write('\\n')        \n",
    "        \n",
    "# with open(os.path.join(swissprot_dest_dir, 'label', 'test.label'), 'w') as f:\n",
    "#     for row in tqdm(swissprot_test.accession):\n",
    "#         arr = ont.terms_to_indices(ont.get_ancestors(grouped_go_terms.loc[row]))\n",
    "#         f.write(' '.join(np.array(arr, dtype=str)))\n",
    "#         f.write('\\n')        "
   ]
  },
  {
   "cell_type": "code",
   "execution_count": null,
   "metadata": {},
   "outputs": [],
   "source": [
    "# command I used: \n",
    "#conda activate /projects/deepgreen/jlaw/envs/fairseq\n",
    "!fairseq-preprocess \\\n",
    "    --only-source \\\n",
    "    --srcdict /projects/deepgreen/pstjohn/uniparc_training_data/dict.txt \\\n",
    "    --trainpref ./input0/train.raw \\\n",
    "    --validpref ./input0/valid.raw \\\n",
    "    --testpref ./input0/test.raw  \\\n",
    "    --destdir ./input0/ \\\n",
    "    --workers 10"
   ]
  },
  {
   "cell_type": "raw",
   "metadata": {},
   "source": [
    "# log of fairseq-preprocess command copied here:\n",
    "\n",
    "2021-05-27 12:19:09 | INFO | fairseq_cli.preprocess | Namespace(align_suffix=None, alignfile=None, all_gather_list_size=16384, azureml_logging=False, bf16=False, bpe=None, cpu=False, criterion='cross_entropy', dataset_impl='mmap', destdir='./input0/', empty_cache_freq=0, fp16=False, fp16_init_scale=128, fp16_no_flatten_grads=False, fp16_scale_tolerance=0.0, fp16_scale_window=None, joined_dictionary=False, log_format=None, log_interval=100, lr_scheduler='fixed', memory_efficient_bf16=False, memory_efficient_fp16=False, min_loss_scale=0.0001, model_parallel_size=1, no_progress_bar=False, nwordssrc=-1, nwordstgt=-1, only_source=True, optimizer=None, padding_factor=8, profile=False, quantization_config_path=None, reset_logging=True, scoring='bleu', seed=1, source_lang=None, srcdict='/projects/deepgreen/pstjohn/uniparc_training_data/dict.txt', target_lang=None, task='translation', tensorboard_logdir=None, testpref='./input0/test.raw', tgtdict=None, threshold_loss_scale=None, thresholdsrc=0, thresholdtgt=0, tokenizer=None, tpu=False, trainpref='./input0/train.raw', user_dir=None, validpref='./input0/valid.raw', wandb_project=None, workers=10)\n",
    "2021-05-27 12:19:09 | INFO | fairseq_cli.preprocess | [None] Dictionary: 32 types\n",
    "2021-05-27 12:21:51 | INFO | fairseq_cli.preprocess | [None] ./input0/train.raw: 520980 sents, 190837292 tokens, 0.00028% replaced by <unk>\n",
    "2021-05-27 12:21:51 | INFO | fairseq_cli.preprocess | [None] Dictionary: 32 types\n",
    "2021-05-27 12:21:55 | INFO | fairseq_cli.preprocess | [None] ./input0/valid.raw: 9826 sents, 3780858 tokens, 0.000185% replaced by <unk>\n",
    "2021-05-27 12:21:55 | INFO | fairseq_cli.preprocess | [None] Dictionary: 32 types\n",
    "2021-05-27 12:21:58 | INFO | fairseq_cli.preprocess | [None] ./input0/test.raw: 8585 sents, 3131114 tokens, 6.39e-05% replaced by <unk>\n",
    "2021-05-27 12:21:58 | INFO | fairseq_cli.preprocess | Wrote preprocessed data to ./input0/"
   ]
  },
  {
   "cell_type": "code",
   "execution_count": null,
   "metadata": {},
   "outputs": [],
   "source": [
    "# copied the output to summit here: /ccs/proj/bie108/jlaw/swissprot_go_annotation"
   ]
  },
  {
   "cell_type": "code",
   "execution_count": 102,
   "metadata": {},
   "outputs": [
    {
     "name": "stdout",
     "output_type": "stream",
     "text": [
      "2020-12-28 13:50:20 | INFO | fairseq_cli.preprocess | Namespace(align_suffix=None, alignfile=None, all_gather_list_size=16384, bf16=False, bpe=None, cpu=False, criterion='cross_entropy', dataset_impl='mmap', destdir='/projects/deepgreen/pstjohn/swissprot_go_annotation/fairseq_swissprot/input0', empty_cache_freq=0, fp16=False, fp16_init_scale=128, fp16_no_flatten_grads=False, fp16_scale_tolerance=0.0, fp16_scale_window=None, joined_dictionary=False, log_format=None, log_interval=100, lr_scheduler='fixed', memory_efficient_bf16=False, memory_efficient_fp16=False, min_loss_scale=0.0001, model_parallel_size=1, no_progress_bar=False, nwordssrc=-1, nwordstgt=-1, only_source=True, optimizer=None, padding_factor=8, profile=False, quantization_config_path=None, reset_logging=True, scoring='bleu', seed=1, source_lang=None, srcdict='/projects/deepgreen/pstjohn/uniparc_training_data/dict.txt', target_lang=None, task='translation', tensorboard_logdir=None, testpref='/projects/deepgreen/pstjohn/swissprot_go_annotation/fairseq_swissprot/input0/test.raw', tgtdict=None, threshold_loss_scale=None, thresholdsrc=0, thresholdtgt=0, tokenizer=None, tpu=False, trainpref='/projects/deepgreen/pstjohn/swissprot_go_annotation/fairseq_swissprot/input0/train.raw', user_dir=None, validpref='/projects/deepgreen/pstjohn/swissprot_go_annotation/fairseq_swissprot/input0/valid.raw', wandb_project=None, workers=60)\n",
      "2020-12-28 13:50:20 | INFO | fairseq_cli.preprocess | [None] Dictionary: 32 types\n",
      "2020-12-28 13:52:37 | INFO | fairseq_cli.preprocess | [None] /projects/deepgreen/pstjohn/swissprot_go_annotation/fairseq_swissprot/input0/train.raw: 520355 sents, 190844759 tokens, 0.000249% replaced by <unk>\n",
      "2020-12-28 13:52:37 | INFO | fairseq_cli.preprocess | [None] Dictionary: 32 types\n",
      "2020-12-28 13:52:40 | INFO | fairseq_cli.preprocess | [None] /projects/deepgreen/pstjohn/swissprot_go_annotation/fairseq_swissprot/input0/valid.raw: 9068 sents, 3409903 tokens, 0.000352% replaced by <unk>\n",
      "2020-12-28 13:52:40 | INFO | fairseq_cli.preprocess | [None] Dictionary: 32 types\n",
      "2020-12-28 13:52:43 | INFO | fairseq_cli.preprocess | [None] /projects/deepgreen/pstjohn/swissprot_go_annotation/fairseq_swissprot/input0/test.raw: 9974 sents, 3497735 tokens, 0.00157% replaced by <unk>\n",
      "2020-12-28 13:52:43 | INFO | fairseq_cli.preprocess | Wrote preprocessed data to /projects/deepgreen/pstjohn/swissprot_go_annotation/fairseq_swissprot/input0\n"
     ]
    }
   ],
   "source": [
    "!fairseq-preprocess \\\n",
    "    --only-source \\\n",
    "    --srcdict /projects/deepgreen/pstjohn/uniparc_training_data/dict.txt \\\n",
    "    --trainpref /projects/deepgreen/pstjohn/swissprot_go_annotation/fairseq_swissprot/input0/train.raw \\\n",
    "    --validpref /projects/deepgreen/pstjohn/swissprot_go_annotation/fairseq_swissprot/input0/valid.raw \\\n",
    "    --testpref /projects/deepgreen/pstjohn/swissprot_go_annotation/fairseq_swissprot/input0/test.raw \\\n",
    "    --destdir /projects/deepgreen/pstjohn/swissprot_go_annotation/fairseq_swissprot/input0 \\\n",
    "    --workers 60"
   ]
  }
 ],
 "metadata": {
  "kernelspec": {
   "display_name": "Python 3",
   "language": "python",
   "name": "python3"
  },
  "language_info": {
   "codemirror_mode": {
    "name": "ipython",
    "version": 3
   },
   "file_extension": ".py",
   "mimetype": "text/x-python",
   "name": "python",
   "nbconvert_exporter": "python",
   "pygments_lexer": "ipython3",
   "version": "3.7.9"
  }
 },
 "nbformat": 4,
 "nbformat_minor": 4
}
