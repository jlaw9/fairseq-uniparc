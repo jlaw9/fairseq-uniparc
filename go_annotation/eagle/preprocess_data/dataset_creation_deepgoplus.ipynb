{
 "cells": [
  {
   "cell_type": "markdown",
   "metadata": {},
   "source": [
    "## Preprocess DeepGoPlus data to work with our fairsesq setup"
   ]
  },
  {
   "cell_type": "code",
   "execution_count": 1,
   "metadata": {},
   "outputs": [
    {
     "name": "stdout",
     "output_type": "stream",
     "text": [
      "base_dir: /home/jlaw/projects/2020-01-deepgreen/fairseq-uniparc-fork\n"
     ]
    }
   ],
   "source": [
    "import os, sys\n",
    "import numpy as np\n",
    "import pandas as pd\n",
    "import pickle\n",
    "import gzip\n",
    "from scipy.sparse import save_npz, load_npz\n",
    "\n",
    "import matplotlib.pyplot as plt\n",
    "import seaborn as sns\n",
    "sns.set(context='talk', style='ticks',\n",
    "        color_codes=True, rc={'legend.frameon': False})\n",
    "\n",
    "# sys.path.append(\"../../\")\n",
    "from os.path import dirname\n",
    "curr_dir = os.path.abspath(\"\")\n",
    "base_dir = dirname(dirname(dirname(curr_dir)))\n",
    "print(f\"base_dir: {base_dir}\")\n",
    "sys.path.append(base_dir)\n",
    "from go_annotation.ontology import ontology\n",
    "\n",
    "%matplotlib inline"
   ]
  },
  {
   "cell_type": "code",
   "execution_count": 2,
   "metadata": {},
   "outputs": [
    {
     "name": "stdout",
     "output_type": "stream",
     "text": [
      "numpy version: 1.19.2\n",
      "pandas version: 1.2.2\n",
      "seaborn version: 0.11.1\n"
     ]
    }
   ],
   "source": [
    "print(f\"numpy version: {np.__version__}\")\n",
    "print(f\"pandas version: {pd.__version__}\")\n",
    "print(f\"seaborn version: {sns.__version__}\")"
   ]
  },
  {
   "cell_type": "code",
   "execution_count": 17,
   "metadata": {},
   "outputs": [
    {
     "data": {
      "text/plain": [
       "<module 'go_annotation.ontology.ontology' from '/home/jlaw/projects/2020-01-deepgreen/fairseq-uniparc-fork/go_annotation/ontology/ontology.py'>"
      ]
     },
     "execution_count": 17,
     "metadata": {},
     "output_type": "execute_result"
    }
   ],
   "source": [
    "import importlib\n",
    "importlib.reload(ontology)"
   ]
  },
  {
   "cell_type": "markdown",
   "metadata": {},
   "source": [
    "## First explore the deepgoplus data "
   ]
  },
  {
   "cell_type": "code",
   "execution_count": 3,
   "metadata": {},
   "outputs": [],
   "source": [
    "data_dir = \"/projects/deepgreen/jlaw/inputs/deepgoplus/deepgoplus_data_2016\""
   ]
  },
  {
   "cell_type": "code",
   "execution_count": 5,
   "metadata": {},
   "outputs": [
    {
     "data": {
      "text/html": [
       "<div>\n",
       "<style scoped>\n",
       "    .dataframe tbody tr th:only-of-type {\n",
       "        vertical-align: middle;\n",
       "    }\n",
       "\n",
       "    .dataframe tbody tr th {\n",
       "        vertical-align: top;\n",
       "    }\n",
       "\n",
       "    .dataframe thead th {\n",
       "        text-align: right;\n",
       "    }\n",
       "</style>\n",
       "<table border=\"1\" class=\"dataframe\">\n",
       "  <thead>\n",
       "    <tr style=\"text-align: right;\">\n",
       "      <th></th>\n",
       "      <th>index</th>\n",
       "      <th>proteins</th>\n",
       "      <th>accessions</th>\n",
       "      <th>sequences</th>\n",
       "      <th>annotations</th>\n",
       "      <th>interpros</th>\n",
       "      <th>orgs</th>\n",
       "    </tr>\n",
       "  </thead>\n",
       "  <tbody>\n",
       "    <tr>\n",
       "      <th>0</th>\n",
       "      <td>225</td>\n",
       "      <td>11K_PAVHV</td>\n",
       "      <td>P0DJZ0;</td>\n",
       "      <td>MQNNTTGMDTKSLKNCGQPKAVCTHCKHSPPCPQPGCVTKRPPVPP...</td>\n",
       "      <td>[GO:0044217, GO:0043656, GO:0005575, GO:004421...</td>\n",
       "      <td>[]</td>\n",
       "      <td>648237</td>\n",
       "    </tr>\n",
       "    <tr>\n",
       "      <th>1</th>\n",
       "      <td>240</td>\n",
       "      <td>128UP_DROME</td>\n",
       "      <td>P32234; Q9V648;</td>\n",
       "      <td>MSTILEKISAIESEMARTQKNKATSAHLGLLKAKLAKLRRELISPK...</td>\n",
       "      <td>[GO:0097367, GO:0043168, GO:0003674, GO:190126...</td>\n",
       "      <td>[IPR031167, IPR031662, IPR006074, IPR006073, I...</td>\n",
       "      <td>7227</td>\n",
       "    </tr>\n",
       "    <tr>\n",
       "      <th>2</th>\n",
       "      <td>252</td>\n",
       "      <td>13KDA_SCYCA</td>\n",
       "      <td>P83011;</td>\n",
       "      <td>MIFTAXDRSAIEXV</td>\n",
       "      <td>[GO:0044464, GO:0043226, GO:0005575, GO:004322...</td>\n",
       "      <td>[]</td>\n",
       "      <td>7830</td>\n",
       "    </tr>\n",
       "    <tr>\n",
       "      <th>3</th>\n",
       "      <td>253</td>\n",
       "      <td>13KDA_TRISC</td>\n",
       "      <td>P83010;</td>\n",
       "      <td>AGEPANNEDRFNY</td>\n",
       "      <td>[GO:0044464, GO:0043226, GO:0005575, GO:004322...</td>\n",
       "      <td>[]</td>\n",
       "      <td>30494</td>\n",
       "    </tr>\n",
       "    <tr>\n",
       "      <th>4</th>\n",
       "      <td>259</td>\n",
       "      <td>140U_DROME</td>\n",
       "      <td>P81928; Q9VFM8;</td>\n",
       "      <td>MNFLWKGRRFLIAGILPTFEGAADEIVDKENKTYKAFLASKPPEET...</td>\n",
       "      <td>[GO:0032501, GO:0044699, GO:0007275, GO:004470...</td>\n",
       "      <td>[IPR003397]</td>\n",
       "      <td>7227</td>\n",
       "    </tr>\n",
       "    <tr>\n",
       "      <th>...</th>\n",
       "      <td>...</td>\n",
       "      <td>...</td>\n",
       "      <td>...</td>\n",
       "      <td>...</td>\n",
       "      <td>...</td>\n",
       "      <td>...</td>\n",
       "      <td>...</td>\n",
       "    </tr>\n",
       "    <tr>\n",
       "      <th>65023</th>\n",
       "      <td>550268</td>\n",
       "      <td>ZYX_HUMAN</td>\n",
       "      <td>Q15942; A4D2G6; B4DQX7; Q6I9S4;</td>\n",
       "      <td>MAAPRPSPAISVSVSAPAFYAPQKKFGPVVAPKPKVNPFRPGDSEP...</td>\n",
       "      <td>[GO:0071840, GO:0071560, GO:0070887, GO:000591...</td>\n",
       "      <td>[IPR001781]</td>\n",
       "      <td>9606</td>\n",
       "    </tr>\n",
       "    <tr>\n",
       "      <th>65024</th>\n",
       "      <td>550269</td>\n",
       "      <td>ZYX_MOUSE</td>\n",
       "      <td>Q62523; P70461; Q3UGQ3;</td>\n",
       "      <td>MAAPRPPPAISVSVSAPAFYAPQKKFAPVVAPKPKVNPFRPGDSEP...</td>\n",
       "      <td>[GO:0007178, GO:0071560, GO:0070887, GO:007136...</td>\n",
       "      <td>[IPR001781]</td>\n",
       "      <td>10090</td>\n",
       "    </tr>\n",
       "    <tr>\n",
       "      <th>65025</th>\n",
       "      <td>550270</td>\n",
       "      <td>ZYX_XENLA</td>\n",
       "      <td>A5H447;</td>\n",
       "      <td>MDPAAPATRMTSSFTINISTPSFYNPPKKFAPVVPPKPKINPFKAP...</td>\n",
       "      <td>[GO:0010467, GO:1901362, GO:0080090, GO:000680...</td>\n",
       "      <td>[IPR001781]</td>\n",
       "      <td>8355</td>\n",
       "    </tr>\n",
       "    <tr>\n",
       "      <th>65026</th>\n",
       "      <td>550274</td>\n",
       "      <td>ZZZ3_HUMAN</td>\n",
       "      <td>Q8IYH5; B7WPC6; Q6N004; Q6N070; Q8IYP0; Q8IYR1...</td>\n",
       "      <td>MAASRSTRVTRSTVGLNGLDESFCGRTLRNRSIAHPEEISSNSQVR...</td>\n",
       "      <td>[GO:0044464, GO:0043226, GO:0071840, GO:001604...</td>\n",
       "      <td>[IPR009057, IPR017930, IPR001005, IPR000433]</td>\n",
       "      <td>9606</td>\n",
       "    </tr>\n",
       "    <tr>\n",
       "      <th>65027</th>\n",
       "      <td>550275</td>\n",
       "      <td>ZZZ3_MOUSE</td>\n",
       "      <td>Q6KAQ7; Q3TMK6; Q3V189;</td>\n",
       "      <td>MVGTCHSMAASRSTRVTRSTVGLNGLDESFCGRTLRNRSIAHPEEI...</td>\n",
       "      <td>[GO:0005654, GO:0044464, GO:0000123, GO:004322...</td>\n",
       "      <td>[IPR009057, IPR017930, IPR001005, IPR000433]</td>\n",
       "      <td>10090</td>\n",
       "    </tr>\n",
       "  </tbody>\n",
       "</table>\n",
       "<p>65028 rows × 7 columns</p>\n",
       "</div>"
      ],
      "text/plain": [
       "        index     proteins                                         accessions  \\\n",
       "0         225    11K_PAVHV                                            P0DJZ0;   \n",
       "1         240  128UP_DROME                                    P32234; Q9V648;   \n",
       "2         252  13KDA_SCYCA                                            P83011;   \n",
       "3         253  13KDA_TRISC                                            P83010;   \n",
       "4         259   140U_DROME                                    P81928; Q9VFM8;   \n",
       "...       ...          ...                                                ...   \n",
       "65023  550268    ZYX_HUMAN                    Q15942; A4D2G6; B4DQX7; Q6I9S4;   \n",
       "65024  550269    ZYX_MOUSE                            Q62523; P70461; Q3UGQ3;   \n",
       "65025  550270    ZYX_XENLA                                            A5H447;   \n",
       "65026  550274   ZZZ3_HUMAN  Q8IYH5; B7WPC6; Q6N004; Q6N070; Q8IYP0; Q8IYR1...   \n",
       "65027  550275   ZZZ3_MOUSE                            Q6KAQ7; Q3TMK6; Q3V189;   \n",
       "\n",
       "                                               sequences  \\\n",
       "0      MQNNTTGMDTKSLKNCGQPKAVCTHCKHSPPCPQPGCVTKRPPVPP...   \n",
       "1      MSTILEKISAIESEMARTQKNKATSAHLGLLKAKLAKLRRELISPK...   \n",
       "2                                         MIFTAXDRSAIEXV   \n",
       "3                                          AGEPANNEDRFNY   \n",
       "4      MNFLWKGRRFLIAGILPTFEGAADEIVDKENKTYKAFLASKPPEET...   \n",
       "...                                                  ...   \n",
       "65023  MAAPRPSPAISVSVSAPAFYAPQKKFGPVVAPKPKVNPFRPGDSEP...   \n",
       "65024  MAAPRPPPAISVSVSAPAFYAPQKKFAPVVAPKPKVNPFRPGDSEP...   \n",
       "65025  MDPAAPATRMTSSFTINISTPSFYNPPKKFAPVVPPKPKINPFKAP...   \n",
       "65026  MAASRSTRVTRSTVGLNGLDESFCGRTLRNRSIAHPEEISSNSQVR...   \n",
       "65027  MVGTCHSMAASRSTRVTRSTVGLNGLDESFCGRTLRNRSIAHPEEI...   \n",
       "\n",
       "                                             annotations  \\\n",
       "0      [GO:0044217, GO:0043656, GO:0005575, GO:004421...   \n",
       "1      [GO:0097367, GO:0043168, GO:0003674, GO:190126...   \n",
       "2      [GO:0044464, GO:0043226, GO:0005575, GO:004322...   \n",
       "3      [GO:0044464, GO:0043226, GO:0005575, GO:004322...   \n",
       "4      [GO:0032501, GO:0044699, GO:0007275, GO:004470...   \n",
       "...                                                  ...   \n",
       "65023  [GO:0071840, GO:0071560, GO:0070887, GO:000591...   \n",
       "65024  [GO:0007178, GO:0071560, GO:0070887, GO:007136...   \n",
       "65025  [GO:0010467, GO:1901362, GO:0080090, GO:000680...   \n",
       "65026  [GO:0044464, GO:0043226, GO:0071840, GO:001604...   \n",
       "65027  [GO:0005654, GO:0044464, GO:0000123, GO:004322...   \n",
       "\n",
       "                                               interpros    orgs  \n",
       "0                                                     []  648237  \n",
       "1      [IPR031167, IPR031662, IPR006074, IPR006073, I...    7227  \n",
       "2                                                     []    7830  \n",
       "3                                                     []   30494  \n",
       "4                                            [IPR003397]    7227  \n",
       "...                                                  ...     ...  \n",
       "65023                                        [IPR001781]    9606  \n",
       "65024                                        [IPR001781]   10090  \n",
       "65025                                        [IPR001781]    8355  \n",
       "65026       [IPR009057, IPR017930, IPR001005, IPR000433]    9606  \n",
       "65027       [IPR009057, IPR017930, IPR001005, IPR000433]   10090  \n",
       "\n",
       "[65028 rows x 7 columns]"
      ]
     },
     "execution_count": 5,
     "metadata": {},
     "output_type": "execute_result"
    }
   ],
   "source": [
    "train_data = pickle.load(open(f\"{data_dir}/train_data.pkl\", 'rb'))\n",
    "train_data"
   ]
  },
  {
   "cell_type": "code",
   "execution_count": 6,
   "metadata": {},
   "outputs": [
    {
     "data": {
      "text/plain": [
       "9606       14160\n",
       "10090       9898\n",
       "3702        8333\n",
       "559292      4929\n",
       "284812      4559\n",
       "           ...  \n",
       "190902         1\n",
       "104060         1\n",
       "66188          1\n",
       "11132          1\n",
       "1408143        1\n",
       "Name: orgs, Length: 1598, dtype: int64"
      ]
     },
     "execution_count": 6,
     "metadata": {},
     "output_type": "execute_result"
    }
   ],
   "source": [
    "train_data['orgs'].value_counts()"
   ]
  },
  {
   "cell_type": "code",
   "execution_count": 8,
   "metadata": {},
   "outputs": [
    {
     "data": {
      "text/html": [
       "<div>\n",
       "<style scoped>\n",
       "    .dataframe tbody tr th:only-of-type {\n",
       "        vertical-align: middle;\n",
       "    }\n",
       "\n",
       "    .dataframe tbody tr th {\n",
       "        vertical-align: top;\n",
       "    }\n",
       "\n",
       "    .dataframe thead th {\n",
       "        text-align: right;\n",
       "    }\n",
       "</style>\n",
       "<table border=\"1\" class=\"dataframe\">\n",
       "  <thead>\n",
       "    <tr style=\"text-align: right;\">\n",
       "      <th></th>\n",
       "      <th>level_0</th>\n",
       "      <th>index</th>\n",
       "      <th>proteins</th>\n",
       "      <th>accessions</th>\n",
       "      <th>sequences</th>\n",
       "      <th>annotations</th>\n",
       "      <th>interpros</th>\n",
       "      <th>orgs</th>\n",
       "    </tr>\n",
       "  </thead>\n",
       "  <tbody>\n",
       "    <tr>\n",
       "      <th>84</th>\n",
       "      <td>95</td>\n",
       "      <td>617</td>\n",
       "      <td>1B48_HUMAN</td>\n",
       "      <td>P30486; Q29764;</td>\n",
       "      <td>MLVMAPRTVLLLLSAALALTETWAGSHSMRYFYTSVSRPGRGEPRF...</td>\n",
       "      <td>[GO:0030139, GO:0098576, GO:0030662, GO:003065...</td>\n",
       "      <td>[IPR007110, IPR013783, IPR003006, IPR003597, I...</td>\n",
       "      <td>9606</td>\n",
       "    </tr>\n",
       "    <tr>\n",
       "      <th>181</th>\n",
       "      <td>204</td>\n",
       "      <td>1028</td>\n",
       "      <td>3BHS7_MOUSE</td>\n",
       "      <td>Q9EQC1; A2RTR5;</td>\n",
       "      <td>MADSAQVPTLVYLVTGGCGFLGEHIVRMLLEREPRLRELRVFDLHL...</td>\n",
       "      <td>[GO:0060326, GO:0008152, GO:0030595, GO:007088...</td>\n",
       "      <td>[IPR002225, IPR016040]</td>\n",
       "      <td>10090</td>\n",
       "    </tr>\n",
       "    <tr>\n",
       "      <th>183</th>\n",
       "      <td>208</td>\n",
       "      <td>1043</td>\n",
       "      <td>3BP1_MOUSE</td>\n",
       "      <td>P55194; E9QMQ2; Q99KK8;</td>\n",
       "      <td>MAESFKELDPDSSMGKALEMTCAIQNQLARILAEFEMTLERDVLQP...</td>\n",
       "      <td>[GO:0005515, GO:0005488, GO:0017124, GO:001990...</td>\n",
       "      <td>[IPR027267, IPR004148, IPR008936, IPR000198]</td>\n",
       "      <td>10090</td>\n",
       "    </tr>\n",
       "    <tr>\n",
       "      <th>304</th>\n",
       "      <td>394</td>\n",
       "      <td>2418</td>\n",
       "      <td>6PGD_DROME</td>\n",
       "      <td>P41572; Q9W519;</td>\n",
       "      <td>MSGQADIALIGLAVMGQNLILNMDEKGFVVCAYNRTVAKVKEFLAN...</td>\n",
       "      <td>[GO:0044710, GO:0008152, GO:0010906, GO:004426...</td>\n",
       "      <td>[IPR008927, IPR013328, IPR012284, IPR006114, I...</td>\n",
       "      <td>7227</td>\n",
       "    </tr>\n",
       "    <tr>\n",
       "      <th>326</th>\n",
       "      <td>427</td>\n",
       "      <td>2607</td>\n",
       "      <td>8ODP_RAT</td>\n",
       "      <td>P53369;</td>\n",
       "      <td>MSTSRLYTLVLVLQPQRVLLGMKKRGFGAGRWNGFGGKVQEGETIE...</td>\n",
       "      <td>[GO:0010035, GO:0005622, GO:0061458, GO:004444...</td>\n",
       "      <td>[IPR020476, IPR020084, IPR000086, IPR015797, I...</td>\n",
       "      <td>10116</td>\n",
       "    </tr>\n",
       "    <tr>\n",
       "      <th>...</th>\n",
       "      <td>...</td>\n",
       "      <td>...</td>\n",
       "      <td>...</td>\n",
       "      <td>...</td>\n",
       "      <td>...</td>\n",
       "      <td>...</td>\n",
       "      <td>...</td>\n",
       "      <td>...</td>\n",
       "    </tr>\n",
       "    <tr>\n",
       "      <th>55732</th>\n",
       "      <td>67106</td>\n",
       "      <td>552113</td>\n",
       "      <td>ZN809_MOUSE</td>\n",
       "      <td>G3X9G7; Q4KL58; Q8BIJ2;</td>\n",
       "      <td>MGLVSFEDVAVDFTLEEWQDLDAAQRTLYRDVMLETYSSLVFLDPC...</td>\n",
       "      <td>[GO:0019080, GO:0001171, GO:0006351, GO:005079...</td>\n",
       "      <td>[IPR001909, IPR007087, IPR015880, IPR013087]</td>\n",
       "      <td>10090</td>\n",
       "    </tr>\n",
       "    <tr>\n",
       "      <th>55751</th>\n",
       "      <td>67125</td>\n",
       "      <td>552243</td>\n",
       "      <td>ZNF8_MOUSE</td>\n",
       "      <td>Q8BGV5; Q52KP6; Q8BJ50;</td>\n",
       "      <td>MDHQDKAATVAMASRPQATQLQEPVTFRDVAVDFTQEEWGQLDPTQ...</td>\n",
       "      <td>[GO:0010468, GO:0006351, GO:0006725, GO:005078...</td>\n",
       "      <td>[IPR001909, IPR007087, IPR015880, IPR013087]</td>\n",
       "      <td>10090</td>\n",
       "    </tr>\n",
       "    <tr>\n",
       "      <th>55763</th>\n",
       "      <td>67138</td>\n",
       "      <td>552282</td>\n",
       "      <td>ZNRF4_HUMAN</td>\n",
       "      <td>Q8WWF5; A8K886; O75866;</td>\n",
       "      <td>MPLCRPEHLMPRASRVPVAASLPLSHAVIPTQLPSRPGHRPPGRPR...</td>\n",
       "      <td>[GO:0008152, GO:0005622, GO:0044432, GO:000646...</td>\n",
       "      <td>[IPR003137, IPR001841, IPR013083]</td>\n",
       "      <td>9606</td>\n",
       "    </tr>\n",
       "    <tr>\n",
       "      <th>55764</th>\n",
       "      <td>67139</td>\n",
       "      <td>552284</td>\n",
       "      <td>ZNRF4_MOUSE</td>\n",
       "      <td>Q9DAH2; Q9WTN2;</td>\n",
       "      <td>MARFAWTRVAPVALVTFWLVLSLSPTDAQVNLSSVDFLDLPALLGV...</td>\n",
       "      <td>[GO:0005622, GO:0005575, GO:0005623, GO:000573...</td>\n",
       "      <td>[IPR001841, IPR013083]</td>\n",
       "      <td>10090</td>\n",
       "    </tr>\n",
       "    <tr>\n",
       "      <th>55796</th>\n",
       "      <td>67176</td>\n",
       "      <td>552531</td>\n",
       "      <td>ZOP1_ARATH</td>\n",
       "      <td>Q7XA66; Q94AV7; Q9FX87;</td>\n",
       "      <td>MTEYWVSQGNKWCEFCKIWIQNNPTSIRNHDLGKRHRECVDKKLTD...</td>\n",
       "      <td>[GO:0010468, GO:0080188, GO:0044446, GO:000672...</td>\n",
       "      <td>[IPR000690, IPR003604, IPR013085]</td>\n",
       "      <td>3702</td>\n",
       "    </tr>\n",
       "  </tbody>\n",
       "</table>\n",
       "<p>1788 rows × 8 columns</p>\n",
       "</div>"
      ],
      "text/plain": [
       "       level_0   index     proteins               accessions  \\\n",
       "84          95     617   1B48_HUMAN          P30486; Q29764;   \n",
       "181        204    1028  3BHS7_MOUSE          Q9EQC1; A2RTR5;   \n",
       "183        208    1043   3BP1_MOUSE  P55194; E9QMQ2; Q99KK8;   \n",
       "304        394    2418   6PGD_DROME          P41572; Q9W519;   \n",
       "326        427    2607     8ODP_RAT                  P53369;   \n",
       "...        ...     ...          ...                      ...   \n",
       "55732    67106  552113  ZN809_MOUSE  G3X9G7; Q4KL58; Q8BIJ2;   \n",
       "55751    67125  552243   ZNF8_MOUSE  Q8BGV5; Q52KP6; Q8BJ50;   \n",
       "55763    67138  552282  ZNRF4_HUMAN  Q8WWF5; A8K886; O75866;   \n",
       "55764    67139  552284  ZNRF4_MOUSE          Q9DAH2; Q9WTN2;   \n",
       "55796    67176  552531   ZOP1_ARATH  Q7XA66; Q94AV7; Q9FX87;   \n",
       "\n",
       "                                               sequences  \\\n",
       "84     MLVMAPRTVLLLLSAALALTETWAGSHSMRYFYTSVSRPGRGEPRF...   \n",
       "181    MADSAQVPTLVYLVTGGCGFLGEHIVRMLLEREPRLRELRVFDLHL...   \n",
       "183    MAESFKELDPDSSMGKALEMTCAIQNQLARILAEFEMTLERDVLQP...   \n",
       "304    MSGQADIALIGLAVMGQNLILNMDEKGFVVCAYNRTVAKVKEFLAN...   \n",
       "326    MSTSRLYTLVLVLQPQRVLLGMKKRGFGAGRWNGFGGKVQEGETIE...   \n",
       "...                                                  ...   \n",
       "55732  MGLVSFEDVAVDFTLEEWQDLDAAQRTLYRDVMLETYSSLVFLDPC...   \n",
       "55751  MDHQDKAATVAMASRPQATQLQEPVTFRDVAVDFTQEEWGQLDPTQ...   \n",
       "55763  MPLCRPEHLMPRASRVPVAASLPLSHAVIPTQLPSRPGHRPPGRPR...   \n",
       "55764  MARFAWTRVAPVALVTFWLVLSLSPTDAQVNLSSVDFLDLPALLGV...   \n",
       "55796  MTEYWVSQGNKWCEFCKIWIQNNPTSIRNHDLGKRHRECVDKKLTD...   \n",
       "\n",
       "                                             annotations  \\\n",
       "84     [GO:0030139, GO:0098576, GO:0030662, GO:003065...   \n",
       "181    [GO:0060326, GO:0008152, GO:0030595, GO:007088...   \n",
       "183    [GO:0005515, GO:0005488, GO:0017124, GO:001990...   \n",
       "304    [GO:0044710, GO:0008152, GO:0010906, GO:004426...   \n",
       "326    [GO:0010035, GO:0005622, GO:0061458, GO:004444...   \n",
       "...                                                  ...   \n",
       "55732  [GO:0019080, GO:0001171, GO:0006351, GO:005079...   \n",
       "55751  [GO:0010468, GO:0006351, GO:0006725, GO:005078...   \n",
       "55763  [GO:0008152, GO:0005622, GO:0044432, GO:000646...   \n",
       "55764  [GO:0005622, GO:0005575, GO:0005623, GO:000573...   \n",
       "55796  [GO:0010468, GO:0080188, GO:0044446, GO:000672...   \n",
       "\n",
       "                                               interpros   orgs  \n",
       "84     [IPR007110, IPR013783, IPR003006, IPR003597, I...   9606  \n",
       "181                               [IPR002225, IPR016040]  10090  \n",
       "183         [IPR027267, IPR004148, IPR008936, IPR000198]  10090  \n",
       "304    [IPR008927, IPR013328, IPR012284, IPR006114, I...   7227  \n",
       "326    [IPR020476, IPR020084, IPR000086, IPR015797, I...  10116  \n",
       "...                                                  ...    ...  \n",
       "55732       [IPR001909, IPR007087, IPR015880, IPR013087]  10090  \n",
       "55751       [IPR001909, IPR007087, IPR015880, IPR013087]  10090  \n",
       "55763                  [IPR003137, IPR001841, IPR013083]   9606  \n",
       "55764                             [IPR001841, IPR013083]  10090  \n",
       "55796                  [IPR000690, IPR003604, IPR013085]   3702  \n",
       "\n",
       "[1788 rows x 8 columns]"
      ]
     },
     "execution_count": 8,
     "metadata": {},
     "output_type": "execute_result"
    }
   ],
   "source": [
    "test_data = pickle.load(open(f\"{data_dir}/test_data.pkl\", 'rb'))\n",
    "test_data"
   ]
  },
  {
   "cell_type": "code",
   "execution_count": 9,
   "metadata": {},
   "outputs": [
    {
     "name": "stdout",
     "output_type": "stream",
     "text": [
      "65028, 1788, 1788 unique to test, 65028 unique to train\n"
     ]
    }
   ],
   "source": [
    "train_prots = set(list(train_data['proteins']))\n",
    "test_prots = set(list(test_data['proteins']))\n",
    "print(f\"{len(train_prots)}, {len(test_prots)}, {len(test_prots - train_prots)} unique to test, {len(train_prots - test_prots)} unique to train\")"
   ]
  },
  {
   "cell_type": "code",
   "execution_count": 16,
   "metadata": {},
   "outputs": [
    {
     "data": {
      "text/html": [
       "<div>\n",
       "<style scoped>\n",
       "    .dataframe tbody tr th:only-of-type {\n",
       "        vertical-align: middle;\n",
       "    }\n",
       "\n",
       "    .dataframe tbody tr th {\n",
       "        vertical-align: top;\n",
       "    }\n",
       "\n",
       "    .dataframe thead th {\n",
       "        text-align: right;\n",
       "    }\n",
       "</style>\n",
       "<table border=\"1\" class=\"dataframe\">\n",
       "  <thead>\n",
       "    <tr style=\"text-align: right;\">\n",
       "      <th></th>\n",
       "      <th>terms</th>\n",
       "    </tr>\n",
       "  </thead>\n",
       "  <tbody>\n",
       "    <tr>\n",
       "      <th>0</th>\n",
       "      <td>GO:0044217</td>\n",
       "    </tr>\n",
       "    <tr>\n",
       "      <th>1</th>\n",
       "      <td>GO:0043656</td>\n",
       "    </tr>\n",
       "    <tr>\n",
       "      <th>2</th>\n",
       "      <td>GO:0005575</td>\n",
       "    </tr>\n",
       "    <tr>\n",
       "      <th>3</th>\n",
       "      <td>GO:0044215</td>\n",
       "    </tr>\n",
       "    <tr>\n",
       "      <th>4</th>\n",
       "      <td>GO:0018995</td>\n",
       "    </tr>\n",
       "    <tr>\n",
       "      <th>...</th>\n",
       "      <td>...</td>\n",
       "    </tr>\n",
       "    <tr>\n",
       "      <th>5096</th>\n",
       "      <td>GO:0000314</td>\n",
       "    </tr>\n",
       "    <tr>\n",
       "      <th>5097</th>\n",
       "      <td>GO:0005665</td>\n",
       "    </tr>\n",
       "    <tr>\n",
       "      <th>5098</th>\n",
       "      <td>GO:0005839</td>\n",
       "    </tr>\n",
       "    <tr>\n",
       "      <th>5099</th>\n",
       "      <td>GO:0004812</td>\n",
       "    </tr>\n",
       "    <tr>\n",
       "      <th>5100</th>\n",
       "      <td>GO:0016876</td>\n",
       "    </tr>\n",
       "  </tbody>\n",
       "</table>\n",
       "<p>5101 rows × 1 columns</p>\n",
       "</div>"
      ],
      "text/plain": [
       "           terms\n",
       "0     GO:0044217\n",
       "1     GO:0043656\n",
       "2     GO:0005575\n",
       "3     GO:0044215\n",
       "4     GO:0018995\n",
       "...          ...\n",
       "5096  GO:0000314\n",
       "5097  GO:0005665\n",
       "5098  GO:0005839\n",
       "5099  GO:0004812\n",
       "5100  GO:0016876\n",
       "\n",
       "[5101 rows x 1 columns]"
      ]
     },
     "execution_count": 16,
     "metadata": {},
     "output_type": "execute_result"
    }
   ],
   "source": [
    "terms = pickle.load(open(f\"{data_dir}/terms.pkl\", 'rb'))\n",
    "terms"
   ]
  },
  {
   "cell_type": "code",
   "execution_count": 21,
   "metadata": {},
   "outputs": [],
   "source": [
    "# write these terms to file\n",
    "terms_file = f\"{base_dir}/inputs/deepgoplus/terms.csv.gz\"\n",
    "with gzip.open(terms_file, 'w') as out:\n",
    "    out_str = '\\n'.join(sorted(terms['terms'].tolist())) + '\\n'\n",
    "    out.write(out_str.encode())"
   ]
  },
  {
   "cell_type": "code",
   "execution_count": 14,
   "metadata": {},
   "outputs": [
    {
     "name": "stdout",
     "output_type": "stream",
     "text": [
      "5038\n"
     ]
    }
   ],
   "source": [
    "from collections import defaultdict\n",
    "# make sure the terms in their file match the terms in the annotations column\n",
    "all_ann = [a for anns in train_data['annotations'] for a in anns]\n",
    "term_counts = defaultdict(int)\n",
    "for t in all_ann:\n",
    "    term_counts[t] += 1\n"
   ]
  },
  {
   "cell_type": "code",
   "execution_count": 15,
   "metadata": {},
   "outputs": [
    {
     "name": "stdout",
     "output_type": "stream",
     "text": [
      "5101\n"
     ]
    }
   ],
   "source": [
    "terms_over_50 = [t for t, count in term_counts.items() if count >= 50]\n",
    "print(len(terms_over_50))"
   ]
  },
  {
   "cell_type": "code",
   "execution_count": 17,
   "metadata": {},
   "outputs": [
    {
     "name": "stdout",
     "output_type": "stream",
     "text": [
      "282\n"
     ]
    }
   ],
   "source": [
    "from collections import defaultdict\n",
    "# make sure the terms in their file match the terms in the annotations column\n",
    "all_ann = [a for anns in test_data['annotations'] for a in anns]\n",
    "term_counts = defaultdict(int)\n",
    "for t in all_ann:\n",
    "    term_counts[t] += 1\n",
    "\n",
    "terms_over_50 = [t for t, count in term_counts.items() if count >= 50]\n",
    "print(len(terms_over_50))"
   ]
  },
  {
   "cell_type": "markdown",
   "metadata": {},
   "source": [
    "## Setup the fairseq inputs"
   ]
  },
  {
   "cell_type": "code",
   "execution_count": 22,
   "metadata": {},
   "outputs": [
    {
     "data": {
      "text/html": [
       "<div>\n",
       "<style scoped>\n",
       "    .dataframe tbody tr th:only-of-type {\n",
       "        vertical-align: middle;\n",
       "    }\n",
       "\n",
       "    .dataframe tbody tr th {\n",
       "        vertical-align: top;\n",
       "    }\n",
       "\n",
       "    .dataframe thead th {\n",
       "        text-align: right;\n",
       "    }\n",
       "</style>\n",
       "<table border=\"1\" class=\"dataframe\">\n",
       "  <thead>\n",
       "    <tr style=\"text-align: right;\">\n",
       "      <th></th>\n",
       "      <th>index</th>\n",
       "      <th>proteins</th>\n",
       "      <th>accessions</th>\n",
       "      <th>sequences</th>\n",
       "      <th>annotations</th>\n",
       "      <th>interpros</th>\n",
       "      <th>orgs</th>\n",
       "    </tr>\n",
       "  </thead>\n",
       "  <tbody>\n",
       "    <tr>\n",
       "      <th>0</th>\n",
       "      <td>225</td>\n",
       "      <td>11K_PAVHV</td>\n",
       "      <td>P0DJZ0;</td>\n",
       "      <td>MQNNTTGMDTKSLKNCGQPKAVCTHCKHSPPCPQPGCVTKRPPVPP...</td>\n",
       "      <td>[GO:0044217, GO:0043656, GO:0005575, GO:004421...</td>\n",
       "      <td>[]</td>\n",
       "      <td>648237</td>\n",
       "    </tr>\n",
       "    <tr>\n",
       "      <th>1</th>\n",
       "      <td>240</td>\n",
       "      <td>128UP_DROME</td>\n",
       "      <td>P32234; Q9V648;</td>\n",
       "      <td>MSTILEKISAIESEMARTQKNKATSAHLGLLKAKLAKLRRELISPK...</td>\n",
       "      <td>[GO:0097367, GO:0043168, GO:0003674, GO:190126...</td>\n",
       "      <td>[IPR031167, IPR031662, IPR006074, IPR006073, I...</td>\n",
       "      <td>7227</td>\n",
       "    </tr>\n",
       "    <tr>\n",
       "      <th>2</th>\n",
       "      <td>252</td>\n",
       "      <td>13KDA_SCYCA</td>\n",
       "      <td>P83011;</td>\n",
       "      <td>MIFTAXDRSAIEXV</td>\n",
       "      <td>[GO:0044464, GO:0043226, GO:0005575, GO:004322...</td>\n",
       "      <td>[]</td>\n",
       "      <td>7830</td>\n",
       "    </tr>\n",
       "    <tr>\n",
       "      <th>3</th>\n",
       "      <td>253</td>\n",
       "      <td>13KDA_TRISC</td>\n",
       "      <td>P83010;</td>\n",
       "      <td>AGEPANNEDRFNY</td>\n",
       "      <td>[GO:0044464, GO:0043226, GO:0005575, GO:004322...</td>\n",
       "      <td>[]</td>\n",
       "      <td>30494</td>\n",
       "    </tr>\n",
       "    <tr>\n",
       "      <th>4</th>\n",
       "      <td>259</td>\n",
       "      <td>140U_DROME</td>\n",
       "      <td>P81928; Q9VFM8;</td>\n",
       "      <td>MNFLWKGRRFLIAGILPTFEGAADEIVDKENKTYKAFLASKPPEET...</td>\n",
       "      <td>[GO:0032501, GO:0044699, GO:0007275, GO:004470...</td>\n",
       "      <td>[IPR003397]</td>\n",
       "      <td>7227</td>\n",
       "    </tr>\n",
       "  </tbody>\n",
       "</table>\n",
       "</div>"
      ],
      "text/plain": [
       "   index     proteins       accessions  \\\n",
       "0    225    11K_PAVHV          P0DJZ0;   \n",
       "1    240  128UP_DROME  P32234; Q9V648;   \n",
       "2    252  13KDA_SCYCA          P83011;   \n",
       "3    253  13KDA_TRISC          P83010;   \n",
       "4    259   140U_DROME  P81928; Q9VFM8;   \n",
       "\n",
       "                                           sequences  \\\n",
       "0  MQNNTTGMDTKSLKNCGQPKAVCTHCKHSPPCPQPGCVTKRPPVPP...   \n",
       "1  MSTILEKISAIESEMARTQKNKATSAHLGLLKAKLAKLRRELISPK...   \n",
       "2                                     MIFTAXDRSAIEXV   \n",
       "3                                      AGEPANNEDRFNY   \n",
       "4  MNFLWKGRRFLIAGILPTFEGAADEIVDKENKTYKAFLASKPPEET...   \n",
       "\n",
       "                                         annotations  \\\n",
       "0  [GO:0044217, GO:0043656, GO:0005575, GO:004421...   \n",
       "1  [GO:0097367, GO:0043168, GO:0003674, GO:190126...   \n",
       "2  [GO:0044464, GO:0043226, GO:0005575, GO:004322...   \n",
       "3  [GO:0044464, GO:0043226, GO:0005575, GO:004322...   \n",
       "4  [GO:0032501, GO:0044699, GO:0007275, GO:004470...   \n",
       "\n",
       "                                           interpros    orgs  \n",
       "0                                                 []  648237  \n",
       "1  [IPR031167, IPR031662, IPR006074, IPR006073, I...    7227  \n",
       "2                                                 []    7830  \n",
       "3                                                 []   30494  \n",
       "4                                        [IPR003397]    7227  "
      ]
     },
     "execution_count": 22,
     "metadata": {},
     "output_type": "execute_result"
    }
   ],
   "source": [
    "train_data.head()"
   ]
  },
  {
   "cell_type": "code",
   "execution_count": 49,
   "metadata": {},
   "outputs": [],
   "source": [
    "def plot_num_ann(ann_mat):\n",
    "    # plot the number of annotations per term\n",
    "    num_ann_per_term = np.ravel(ann_mat.sum(axis=0))\n",
    "    # print(num_ann_per_prot)\n",
    "    S = pd.Series(num_ann_per_term)\n",
    "    S[S < 1000].plot.hist(bins=30)\n",
    "    plt.xlabel(\"# Annotations per term (< 1000)\")\n",
    "    plt.show()\n",
    "    plt.close()"
   ]
  },
  {
   "cell_type": "code",
   "execution_count": 27,
   "metadata": {},
   "outputs": [
    {
     "name": "stderr",
     "output_type": "stream",
     "text": [
      "/lustre/eaglefs/projects/deepgreen/jlaw/envs/fairseq/lib/python3.7/site-packages/ipykernel_launcher.py:2: SettingWithCopyWarning: \n",
      "A value is trying to be set on a copy of a slice from a DataFrame.\n",
      "Try using .loc[row_indexer,col_indexer] = value instead\n",
      "\n",
      "See the caveats in the documentation: https://pandas.pydata.org/pandas-docs/stable/user_guide/indexing.html#returning-a-view-versus-a-copy\n",
      "  \n"
     ]
    },
    {
     "data": {
      "text/html": [
       "<div>\n",
       "<style scoped>\n",
       "    .dataframe tbody tr th:only-of-type {\n",
       "        vertical-align: middle;\n",
       "    }\n",
       "\n",
       "    .dataframe tbody tr th {\n",
       "        vertical-align: top;\n",
       "    }\n",
       "\n",
       "    .dataframe thead th {\n",
       "        text-align: right;\n",
       "    }\n",
       "</style>\n",
       "<table border=\"1\" class=\"dataframe\">\n",
       "  <thead>\n",
       "    <tr style=\"text-align: right;\">\n",
       "      <th></th>\n",
       "      <th>prot</th>\n",
       "      <th>term</th>\n",
       "    </tr>\n",
       "  </thead>\n",
       "  <tbody>\n",
       "    <tr>\n",
       "      <th>0</th>\n",
       "      <td>P0DJZ0</td>\n",
       "      <td>GO:0044217</td>\n",
       "    </tr>\n",
       "    <tr>\n",
       "      <th>0</th>\n",
       "      <td>P0DJZ0</td>\n",
       "      <td>GO:0043656</td>\n",
       "    </tr>\n",
       "    <tr>\n",
       "      <th>0</th>\n",
       "      <td>P0DJZ0</td>\n",
       "      <td>GO:0005575</td>\n",
       "    </tr>\n",
       "    <tr>\n",
       "      <th>0</th>\n",
       "      <td>P0DJZ0</td>\n",
       "      <td>GO:0044215</td>\n",
       "    </tr>\n",
       "    <tr>\n",
       "      <th>0</th>\n",
       "      <td>P0DJZ0</td>\n",
       "      <td>GO:0018995</td>\n",
       "    </tr>\n",
       "  </tbody>\n",
       "</table>\n",
       "</div>"
      ],
      "text/plain": [
       "     prot        term\n",
       "0  P0DJZ0  GO:0044217\n",
       "0  P0DJZ0  GO:0043656\n",
       "0  P0DJZ0  GO:0005575\n",
       "0  P0DJZ0  GO:0044215\n",
       "0  P0DJZ0  GO:0018995"
      ]
     },
     "execution_count": 27,
     "metadata": {},
     "output_type": "execute_result"
    }
   ],
   "source": [
    "df = train_data[['accessions', 'annotations']]\n",
    "df['accessions'] = df['accessions'].apply(lambda x: x.split(';')[0])\n",
    "df = df.explode('annotations')\n",
    "df.columns = ['prot', 'term']\n",
    "df.head()"
   ]
  },
  {
   "cell_type": "code",
   "execution_count": 34,
   "metadata": {},
   "outputs": [
    {
     "name": "stdout",
     "output_type": "stream",
     "text": [
      "reading obo file: /home/jlaw/projects/2020-01-deepgreen/fairseq-uniparc-fork/inputs/deepgoplus/go.obo.gz\n",
      "28402 mapped to 28402 terms (0 terms skipped)\n",
      "28402\n"
     ]
    }
   ],
   "source": [
    "go_obo_file = f\"{base_dir}/inputs/deepgoplus/go.obo.gz\"\n",
    "terms_file = f\"{base_dir}/inputs/deepgoplus/terms.csv.gz\"\n",
    "ont_obj = ontology.Ontology(obo_file=go_obo_file)\n",
    "mapped_terms = ont_obj.map_and_filter_terms(terms)\n",
    "anc_terms = ont_obj.get_ancestors(mapped_terms)\n",
    "print(len(anc_terms))"
   ]
  },
  {
   "cell_type": "code",
   "execution_count": 36,
   "metadata": {},
   "outputs": [
    {
     "name": "stdout",
     "output_type": "stream",
     "text": [
      "reading obo file: /home/jlaw/projects/2020-01-deepgreen/fairseq-uniparc-fork/inputs/deepgoplus/go.obo.gz\n",
      "\tReading restrict_terms_file: /home/jlaw/projects/2020-01-deepgreen/fairseq-uniparc-fork/inputs/deepgoplus/terms.csv.gz\n",
      "5101\n"
     ]
    }
   ],
   "source": [
    "# restrict the ontology to the terms with 50 or more anntations with which they evaluated\n",
    "ont_obj = ontology.Ontology(obo_file=go_obo_file, restrict_terms_file=terms_file)\n",
    "print(len(ont_obj.terms))"
   ]
  },
  {
   "cell_type": "code",
   "execution_count": 37,
   "metadata": {},
   "outputs": [
    {
     "name": "stdout",
     "output_type": "stream",
     "text": [
      "\t204875 annotations missed (23301) terms\n"
     ]
    }
   ],
   "source": [
    "# now build the annotation matrix and propagate annotations upward\n",
    "prots, leaf_ann_mat = ontology.build_ann_matrix(df, ont_obj)\n",
    "ann_mat = ontology.propagate_ann_up_dag(leaf_ann_mat, ont_obj.dag_matrix.T)"
   ]
  },
  {
   "cell_type": "code",
   "execution_count": 41,
   "metadata": {},
   "outputs": [
    {
     "data": {
      "text/plain": [
       "Text(0.5, 0, '# Annotations per term (< 1000)')"
      ]
     },
     "execution_count": 41,
     "metadata": {},
     "output_type": "execute_result"
    },
    {
     "data": {
      "image/png": "[encoded data removed]",
      "text/plain": [
       "<Figure size 432x288 with 1 Axes>"
      ]
     },
     "metadata": {
      "needs_background": "light"
     },
     "output_type": "display_data"
    }
   ],
   "source": [
    "# plot the number of annotations per term\n",
    "num_ann_per_term = np.ravel(ann_mat.sum(axis=0))\n",
    "# print(num_ann_per_prot)\n",
    "S = pd.Series(num_ann_per_term)\n",
    "S[S < 1000].plot.hist(bins=30)\n",
    "plt.xlabel(\"# Annotations per term (< 1000)\")\n",
    "# swissprot_annotated.length.plot.hist(range=(0, 2048), bins=30)"
   ]
  },
  {
   "cell_type": "code",
   "execution_count": 43,
   "metadata": {},
   "outputs": [
    {
     "data": {
      "text/plain": [
       "(65015, 5101)"
      ]
     },
     "execution_count": 43,
     "metadata": {},
     "output_type": "execute_result"
    }
   ],
   "source": [
    "ann_mat.shape"
   ]
  },
  {
   "cell_type": "code",
   "execution_count": 44,
   "metadata": {},
   "outputs": [
    {
     "data": {
      "text/plain": [
       "'GO:0008150'"
      ]
     },
     "execution_count": 44,
     "metadata": {},
     "output_type": "execute_result"
    }
   ],
   "source": [
    "# biological process\n",
    "ont_obj.terms[num_ann_per_term.argmax()]"
   ]
  },
  {
   "cell_type": "code",
   "execution_count": 47,
   "metadata": {},
   "outputs": [
    {
     "data": {
      "text/html": [
       "<div>\n",
       "<style scoped>\n",
       "    .dataframe tbody tr th:only-of-type {\n",
       "        vertical-align: middle;\n",
       "    }\n",
       "\n",
       "    .dataframe tbody tr th {\n",
       "        vertical-align: top;\n",
       "    }\n",
       "\n",
       "    .dataframe thead th {\n",
       "        text-align: right;\n",
       "    }\n",
       "</style>\n",
       "<table border=\"1\" class=\"dataframe\">\n",
       "  <thead>\n",
       "    <tr style=\"text-align: right;\">\n",
       "      <th></th>\n",
       "      <th>index</th>\n",
       "      <th>proteins</th>\n",
       "      <th>accessions</th>\n",
       "      <th>sequences</th>\n",
       "      <th>annotations</th>\n",
       "      <th>interpros</th>\n",
       "      <th>orgs</th>\n",
       "    </tr>\n",
       "  </thead>\n",
       "  <tbody>\n",
       "    <tr>\n",
       "      <th>0</th>\n",
       "      <td>225</td>\n",
       "      <td>11K_PAVHV</td>\n",
       "      <td>P0DJZ0;</td>\n",
       "      <td>MQNNTTGMDTKSLKNCGQPKAVCTHCKHSPPCPQPGCVTKRPPVPP...</td>\n",
       "      <td>[GO:0044217, GO:0043656, GO:0005575, GO:004421...</td>\n",
       "      <td>[]</td>\n",
       "      <td>648237</td>\n",
       "    </tr>\n",
       "    <tr>\n",
       "      <th>1</th>\n",
       "      <td>240</td>\n",
       "      <td>128UP_DROME</td>\n",
       "      <td>P32234; Q9V648;</td>\n",
       "      <td>MSTILEKISAIESEMARTQKNKATSAHLGLLKAKLAKLRRELISPK...</td>\n",
       "      <td>[GO:0097367, GO:0043168, GO:0003674, GO:190126...</td>\n",
       "      <td>[IPR031167, IPR031662, IPR006074, IPR006073, I...</td>\n",
       "      <td>7227</td>\n",
       "    </tr>\n",
       "  </tbody>\n",
       "</table>\n",
       "</div>"
      ],
      "text/plain": [
       "   index     proteins       accessions  \\\n",
       "0    225    11K_PAVHV          P0DJZ0;   \n",
       "1    240  128UP_DROME  P32234; Q9V648;   \n",
       "\n",
       "                                           sequences  \\\n",
       "0  MQNNTTGMDTKSLKNCGQPKAVCTHCKHSPPCPQPGCVTKRPPVPP...   \n",
       "1  MSTILEKISAIESEMARTQKNKATSAHLGLLKAKLAKLRRELISPK...   \n",
       "\n",
       "                                         annotations  \\\n",
       "0  [GO:0044217, GO:0043656, GO:0005575, GO:004421...   \n",
       "1  [GO:0097367, GO:0043168, GO:0003674, GO:190126...   \n",
       "\n",
       "                                           interpros    orgs  \n",
       "0                                                 []  648237  \n",
       "1  [IPR031167, IPR031662, IPR006074, IPR006073, I...    7227  "
      ]
     },
     "execution_count": 47,
     "metadata": {},
     "output_type": "execute_result"
    }
   ],
   "source": [
    "train_data.head(2)"
   ]
  },
  {
   "cell_type": "code",
   "execution_count": 48,
   "metadata": {},
   "outputs": [
    {
     "data": {
      "text/html": [
       "<div>\n",
       "<style scoped>\n",
       "    .dataframe tbody tr th:only-of-type {\n",
       "        vertical-align: middle;\n",
       "    }\n",
       "\n",
       "    .dataframe tbody tr th {\n",
       "        vertical-align: top;\n",
       "    }\n",
       "\n",
       "    .dataframe thead th {\n",
       "        text-align: right;\n",
       "    }\n",
       "</style>\n",
       "<table border=\"1\" class=\"dataframe\">\n",
       "  <thead>\n",
       "    <tr style=\"text-align: right;\">\n",
       "      <th></th>\n",
       "      <th>level_0</th>\n",
       "      <th>index</th>\n",
       "      <th>proteins</th>\n",
       "      <th>accessions</th>\n",
       "      <th>sequences</th>\n",
       "      <th>annotations</th>\n",
       "      <th>interpros</th>\n",
       "      <th>orgs</th>\n",
       "    </tr>\n",
       "  </thead>\n",
       "  <tbody>\n",
       "    <tr>\n",
       "      <th>84</th>\n",
       "      <td>95</td>\n",
       "      <td>617</td>\n",
       "      <td>1B48_HUMAN</td>\n",
       "      <td>P30486; Q29764;</td>\n",
       "      <td>MLVMAPRTVLLLLSAALALTETWAGSHSMRYFYTSVSRPGRGEPRF...</td>\n",
       "      <td>[GO:0030139, GO:0098576, GO:0030662, GO:003065...</td>\n",
       "      <td>[IPR007110, IPR013783, IPR003006, IPR003597, I...</td>\n",
       "      <td>9606</td>\n",
       "    </tr>\n",
       "    <tr>\n",
       "      <th>181</th>\n",
       "      <td>204</td>\n",
       "      <td>1028</td>\n",
       "      <td>3BHS7_MOUSE</td>\n",
       "      <td>Q9EQC1; A2RTR5;</td>\n",
       "      <td>MADSAQVPTLVYLVTGGCGFLGEHIVRMLLEREPRLRELRVFDLHL...</td>\n",
       "      <td>[GO:0060326, GO:0008152, GO:0030595, GO:007088...</td>\n",
       "      <td>[IPR002225, IPR016040]</td>\n",
       "      <td>10090</td>\n",
       "    </tr>\n",
       "  </tbody>\n",
       "</table>\n",
       "</div>"
      ],
      "text/plain": [
       "     level_0  index     proteins       accessions  \\\n",
       "84        95    617   1B48_HUMAN  P30486; Q29764;   \n",
       "181      204   1028  3BHS7_MOUSE  Q9EQC1; A2RTR5;   \n",
       "\n",
       "                                             sequences  \\\n",
       "84   MLVMAPRTVLLLLSAALALTETWAGSHSMRYFYTSVSRPGRGEPRF...   \n",
       "181  MADSAQVPTLVYLVTGGCGFLGEHIVRMLLEREPRLRELRVFDLHL...   \n",
       "\n",
       "                                           annotations  \\\n",
       "84   [GO:0030139, GO:0098576, GO:0030662, GO:003065...   \n",
       "181  [GO:0060326, GO:0008152, GO:0030595, GO:007088...   \n",
       "\n",
       "                                             interpros   orgs  \n",
       "84   [IPR007110, IPR013783, IPR003006, IPR003597, I...   9606  \n",
       "181                             [IPR002225, IPR016040]  10090  "
      ]
     },
     "execution_count": 48,
     "metadata": {},
     "output_type": "execute_result"
    }
   ],
   "source": [
    "test_data.head(2)"
   ]
  },
  {
   "cell_type": "code",
   "execution_count": null,
   "metadata": {},
   "outputs": [],
   "source": [
    "# for the test and validation set, I'm going to leave all the training data in\n",
    "# and have the validation set be the deepgoplus test data, since they use a temporal holdout strategy\n",
    "# e.g., train with data from Jan 2016 and evaluate with data new to Oct 2016."
   ]
  },
  {
   "cell_type": "code",
   "execution_count": 62,
   "metadata": {},
   "outputs": [],
   "source": [
    "# since the proteins in the train and test data for deepgoplus are disjoint,\n",
    "# we can use the same function to build the datasets\n",
    "def setup_and_write_split(data_df, obo_file, terms_file, out_dir, split='train'):\n",
    "    df = data_df[['accessions', 'sequences', 'annotations']]\n",
    "    df['accessions'] = df['accessions'].apply(lambda x: x.split(';')[0])\n",
    "    df = df.explode('annotations')\n",
    "    df.columns = ['prot', 'sequence', 'term']\n",
    "    terms = df['term'].unique()\n",
    "    print(df.head(3))\n",
    "    \n",
    "    ont_obj = ontology.Ontology(obo_file=obo_file)\n",
    "    mapped_terms = ont_obj.map_and_filter_terms(terms)\n",
    "    anc_terms = ont_obj.get_ancestors(mapped_terms)\n",
    "    print(f'{len(anc_terms)} total terms')\n",
    "    \n",
    "    # restrict the ontology to the terms with 50 or more anntations with which they evaluated\n",
    "    ont_obj = ontology.Ontology(obo_file=go_obo_file, restrict_terms_file=terms_file)\n",
    "    print(f'{len(ont_obj.terms)} after limiting to terms file')\n",
    "    \n",
    "    # now build the annotation matrix and propagate annotations upward\n",
    "    prots, leaf_ann_mat = ontology.build_ann_matrix(df, ont_obj)\n",
    "    ann_mat = ontology.propagate_ann_up_dag(leaf_ann_mat, ont_obj.dag_matrix.T)\n",
    "    print(f\"{len(ann_mat.data)} total annotations\")\n",
    "    \n",
    "    print(ann_mat.shape)\n",
    "    plot_num_ann(ann_mat)\n",
    "    \n",
    "    # now write the raw sequence file and the spare annotation matrix\n",
    "    write_fairseq_files(df, ont_obj, ann_mat, prots, out_dir, split=split)\n",
    "    return df, ont_obj, ann_mat, prots"
   ]
  },
  {
   "cell_type": "code",
   "execution_count": 64,
   "metadata": {},
   "outputs": [
    {
     "name": "stderr",
     "output_type": "stream",
     "text": [
      "/lustre/eaglefs/projects/deepgreen/jlaw/envs/fairseq/lib/python3.7/site-packages/ipykernel_launcher.py:5: SettingWithCopyWarning: \n",
      "A value is trying to be set on a copy of a slice from a DataFrame.\n",
      "Try using .loc[row_indexer,col_indexer] = value instead\n",
      "\n",
      "See the caveats in the documentation: https://pandas.pydata.org/pandas-docs/stable/user_guide/indexing.html#returning-a-view-versus-a-copy\n",
      "  \"\"\"\n"
     ]
    },
    {
     "name": "stdout",
     "output_type": "stream",
     "text": [
      "     prot                                           sequence        term\n",
      "0  P0DJZ0  MQNNTTGMDTKSLKNCGQPKAVCTHCKHSPPCPQPGCVTKRPPVPP...  GO:0044217\n",
      "0  P0DJZ0  MQNNTTGMDTKSLKNCGQPKAVCTHCKHSPPCPQPGCVTKRPPVPP...  GO:0043656\n",
      "0  P0DJZ0  MQNNTTGMDTKSLKNCGQPKAVCTHCKHSPPCPQPGCVTKRPPVPP...  GO:0005575\n",
      "reading obo file: /home/jlaw/projects/2020-01-deepgreen/fairseq-uniparc-fork/inputs/deepgoplus/go.obo.gz\n",
      "28402 mapped to 28402 terms (0 terms skipped)\n",
      "28402 total terms\n",
      "reading obo file: /home/jlaw/projects/2020-01-deepgreen/fairseq-uniparc-fork/inputs/deepgoplus/go.obo.gz\n",
      "\tReading restrict_terms_file: /home/jlaw/projects/2020-01-deepgreen/fairseq-uniparc-fork/inputs/deepgoplus/terms.csv.gz\n",
      "5101 after limiting to terms file\n",
      "\t204875 annotations missed (23301) terms\n",
      "4039241 total annotations\n",
      "(65015, 5101)\n"
     ]
    },
    {
     "data": {
      "image/png": "[encoded data removed]",
      "text/plain": [
       "<Figure size 432x288 with 1 Axes>"
      ]
     },
     "metadata": {
      "needs_background": "light"
     },
     "output_type": "display_data"
    },
    {
     "name": "stdout",
     "output_type": "stream",
     "text": [
      "writing 65015 prot sequences to /projects/deepgreen/jlaw/swissprot_go_annotation/2021_06_fairseq_deepgoplus/input0/train.raw\n",
      "/projects/deepgreen/jlaw/swissprot_go_annotation/2021_06_fairseq_deepgoplus/input0/train-ids.txt\n",
      "(65015, 5101)\n",
      "writing /projects/deepgreen/jlaw/swissprot_go_annotation/2021_06_fairseq_deepgoplus/label/train.npz\n"
     ]
    }
   ],
   "source": [
    "base_out_dir = \"/projects/deepgreen/jlaw/swissprot_go_annotation/2021_06_fairseq_deepgoplus\"\n",
    "df, ont_obj, ann_mat, prots = setup_and_write_split(train_data, go_obo_file, terms_file, base_out_dir, split='train')"
   ]
  },
  {
   "cell_type": "code",
   "execution_count": 65,
   "metadata": {},
   "outputs": [
    {
     "name": "stderr",
     "output_type": "stream",
     "text": [
      "/lustre/eaglefs/projects/deepgreen/jlaw/envs/fairseq/lib/python3.7/site-packages/ipykernel_launcher.py:5: SettingWithCopyWarning: \n",
      "A value is trying to be set on a copy of a slice from a DataFrame.\n",
      "Try using .loc[row_indexer,col_indexer] = value instead\n",
      "\n",
      "See the caveats in the documentation: https://pandas.pydata.org/pandas-docs/stable/user_guide/indexing.html#returning-a-view-versus-a-copy\n",
      "  \"\"\"\n"
     ]
    },
    {
     "name": "stdout",
     "output_type": "stream",
     "text": [
      "      prot                                           sequence        term\n",
      "84  P30486  MLVMAPRTVLLLLSAALALTETWAGSHSMRYFYTSVSRPGRGEPRF...  GO:0030139\n",
      "84  P30486  MLVMAPRTVLLLLSAALALTETWAGSHSMRYFYTSVSRPGRGEPRF...  GO:0098576\n",
      "84  P30486  MLVMAPRTVLLLLSAALALTETWAGSHSMRYFYTSVSRPGRGEPRF...  GO:0030662\n",
      "reading obo file: /home/jlaw/projects/2020-01-deepgreen/fairseq-uniparc-fork/inputs/deepgoplus/go.obo.gz\n",
      "6818 mapped to 6817 terms (1 terms skipped)\n",
      "6817 total terms\n",
      "reading obo file: /home/jlaw/projects/2020-01-deepgreen/fairseq-uniparc-fork/inputs/deepgoplus/go.obo.gz\n",
      "\tReading restrict_terms_file: /home/jlaw/projects/2020-01-deepgreen/fairseq-uniparc-fork/inputs/deepgoplus/terms.csv.gz\n",
      "5101 after limiting to terms file\n",
      "\t4091 annotations missed (2763) terms\n",
      "80894 total annotations\n",
      "(1786, 5101)\n"
     ]
    },
    {
     "data": {
      "image/png": "[encoded data removed]",
      "text/plain": [
       "<Figure size 432x288 with 1 Axes>"
      ]
     },
     "metadata": {
      "needs_background": "light"
     },
     "output_type": "display_data"
    },
    {
     "name": "stdout",
     "output_type": "stream",
     "text": [
      "writing 1786 prot sequences to /projects/deepgreen/jlaw/swissprot_go_annotation/2021_06_fairseq_deepgoplus/input0/valid.raw\n",
      "/projects/deepgreen/jlaw/swissprot_go_annotation/2021_06_fairseq_deepgoplus/input0/valid-ids.txt\n",
      "(1786, 5101)\n",
      "writing /projects/deepgreen/jlaw/swissprot_go_annotation/2021_06_fairseq_deepgoplus/label/valid.npz\n"
     ]
    }
   ],
   "source": [
    "df, ont_obj, ann_mat, prots = setup_and_write_split(test_data, go_obo_file, terms_file, base_out_dir, split='valid')"
   ]
  },
  {
   "cell_type": "code",
   "execution_count": 61,
   "metadata": {},
   "outputs": [],
   "source": [
    "def write_fairseq_files(df, ont_obj, ann_mat, prots, base_out_dir, split='train'):\n",
    "    out_dir = f\"{base_out_dir}/input0\"\n",
    "    out_file = f\"{out_dir}/{split}.raw\"\n",
    "    os.makedirs(os.path.dirname(out_file), exist_ok=True)\n",
    "    sequences = dict(zip(df['prot'], df['sequence']))\n",
    "    \n",
    "    write_split_prots(prots, sequences, out_file)\n",
    "    # also write the uniprot IDs to keep track of which proteins are in each set\n",
    "    out_file = f\"{out_dir}/{split}-ids.txt\"\n",
    "    print(out_file)\n",
    "    pd.Series(prots).to_csv(out_file, index=None, header=None)\n",
    "    \n",
    "    out_dir = f\"{base_out_dir}/label\"\n",
    "    os.makedirs(out_dir, exist_ok=True)\n",
    "\n",
    "    print(ann_mat.shape)\n",
    "    out_file = f\"{out_dir}/{split}.npz\"\n",
    "    print(f\"writing {out_file}\")\n",
    "    save_npz(out_file, ann_mat)\n",
    "\n",
    "def write_split_prots(prot_split, sequences, out_file):\n",
    "    print(f\"writing {len(prot_split)} prot sequences to {out_file}\")\n",
    "    with open(out_file, 'w') as out:\n",
    "        for prot in prot_split:\n",
    "            out.write(' '.join(sequences[prot]) + '\\n')"
   ]
  },
  {
   "cell_type": "code",
   "execution_count": 61,
   "metadata": {},
   "outputs": [
    {
     "name": "stdout",
     "output_type": "stream",
     "text": [
      "# annotations in each group; train: 1096839, valid: 62466, test: 62867\n"
     ]
    }
   ],
   "source": [
    "print(f\"# annotations in each group; train: {len(df[df['prot'].isin(train)])}, valid: {len(df[df['prot'].isin(valid)])}, test: {len(df[df['prot'].isin(test)])}\")"
   ]
  },
  {
   "cell_type": "code",
   "execution_count": null,
   "metadata": {},
   "outputs": [],
   "source": [
    "# plot the protein sizes\n",
    "S[S < 2500].hist()\n",
    "plt.xlabel(\"Protein Length (< 2500)\")\n",
    "plt.ylabel(\"Frequency\")\n"
   ]
  },
  {
   "cell_type": "code",
   "execution_count": 75,
   "metadata": {},
   "outputs": [
    {
     "data": {
      "text/plain": [
       "0.1867632345904563"
      ]
     },
     "execution_count": 75,
     "metadata": {},
     "output_type": "execute_result"
    }
   ],
   "source": [
    "len(S[S > 768]) / len(S)"
   ]
  },
  {
   "cell_type": "code",
   "execution_count": 76,
   "metadata": {},
   "outputs": [
    {
     "name": "stdout",
     "output_type": "stream",
     "text": [
      "137934\n"
     ]
    }
   ],
   "source": [
    "print(len(prots))"
   ]
  },
  {
   "cell_type": "code",
   "execution_count": 81,
   "metadata": {},
   "outputs": [],
   "source": [
    "os.chdir(base_out_dir)"
   ]
  },
  {
   "cell_type": "code",
   "execution_count": 82,
   "metadata": {},
   "outputs": [
    {
     "name": "stdout",
     "output_type": "stream",
     "text": [
      "Error: mkl-service + Intel(R) MKL: MKL_THREADING_LAYER=INTEL is incompatible with libgomp.so.1 library.\n",
      "\tTry to import numpy first or set the threading layer accordingly. Set MKL_SERVICE_FORCE_INTEL to force it.\n"
     ]
    }
   ],
   "source": [
    "# command I used: \n",
    "!fairseq-preprocess \\\n",
    "    --trainpref ./input0/train.raw \\\n",
    "    --validpref ./input0/valid.raw \\\n",
    "    --destdir ./input0/ \\\n",
    "    --only-source"
   ]
  }
 ],
 "metadata": {
  "kernelspec": {
   "display_name": "Python 3",
   "language": "python",
   "name": "python3"
  },
  "language_info": {
   "codemirror_mode": {
    "name": "ipython",
    "version": 3
   },
   "file_extension": ".py",
   "mimetype": "text/x-python",
   "name": "python",
   "nbconvert_exporter": "python",
   "pygments_lexer": "ipython3",
   "version": "3.7.9"
  }
 },
 "nbformat": 4,
 "nbformat_minor": 4
}
