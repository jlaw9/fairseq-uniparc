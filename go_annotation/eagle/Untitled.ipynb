{
 "cells": [
  {
   "cell_type": "code",
   "execution_count": 1,
   "metadata": {},
   "outputs": [],
   "source": [
    "import numpy as np\n",
    "import matplotlib.pyplot as plt\n",
    "import seaborn as sns\n",
    "import torch\n",
    "from fairseq.data import data_utils\n",
    "from fairseq.models.roberta import RobertaModel"
   ]
  },
  {
   "cell_type": "code",
   "execution_count": 3,
   "metadata": {},
   "outputs": [],
   "source": [
    "import sys\n",
    "sys.path.append('../..')\n",
    "from go_annotation.ontology import Ontology\n",
    "\n",
    "%matplotlib inline\n",
    "sns.set(context='talk', style='ticks',\n",
    "        color_codes=True, rc={'legend.frameon': False})"
   ]
  },
  {
   "cell_type": "code",
   "execution_count": 4,
   "metadata": {},
   "outputs": [],
   "source": [
    "roberta = RobertaModel.from_pretrained(\n",
    "    '/projects/deepgreen/pstjohn/roberta_base_checkpoint',\n",
    "    data_name_or_path='/projects/deepgreen/pstjohn/swissprot_go_annotation/fairseq_swissprot/',\n",
    "    checkpoint_file='roberta.base_go_swissprot.pt')\n",
    "\n",
    "_ = roberta.eval()  # disable dropout (or leave in train mode to finetune)\n",
    "\n",
    "device = torch.device(\"cuda:0\" if torch.cuda.is_available() else \"cpu\")\n",
    "_ = roberta.to(device)"
   ]
  },
  {
   "cell_type": "code",
   "execution_count": 31,
   "metadata": {},
   "outputs": [],
   "source": [
    "ont = Ontology()\n",
    "_ancestor_array = ont.ancestor_array()\n",
    "\n",
    "\n",
    "def normalize_logits(logits):\n",
    "    bsz = logits.shape[0]\n",
    "    index_tensor = logits.new_tensor(_ancestor_array, dtype=torch.int64)\n",
    "    index_tensor = index_tensor.unsqueeze(0).expand((bsz, -1, -1))  # Array of ancestors, offset by one\n",
    "    padded_logits = torch.nn.functional.pad(logits, (1, 0), value=float('inf'))  # Make 0 index return inf\n",
    "    padded_logits = padded_logits.unsqueeze(-1).expand((-1, -1, index_tensor.shape[2]))\n",
    "    normed_logits = torch.gather(padded_logits, 1, index_tensor)\n",
    "    normed_logits, _ = torch.min(normed_logits, -1)\n",
    "\n",
    "    return normed_logits\n",
    "\n",
    "import requests\n",
    "fasta = requests.get('https://www.uniprot.org/uniprot/P00362.fasta').text\n",
    "\n",
    "def encode(fasta):\n",
    "    input_sequence = ''.join(fasta.split('\\n')[1:]).replace('', ' ')\n",
    "    return roberta.task.source_dictionary.encode_line(input_sequence)\n",
    "\n",
    "tokens = encode(fasta)"
   ]
  },
  {
   "cell_type": "code",
   "execution_count": 19,
   "metadata": {},
   "outputs": [
    {
     "data": {
      "text/plain": [
       "'MAVKVGINGFGRIGRNVFRAALKNPDIEVVAVNDLTDANTLAHLLKYDSVHGRLDAEVSVNGNNLVVNGKEIIVKAERDPENLAWGEIGVDIVVESTGRFTKREDAAKHLEAGAKKVIISAPAKNEDITIVMGVNQDKYDPKAHHVISNASCTTNCLAPFAKVLHEQFGIVRGMMTTVHSYTNDQRILDLPHKDLRRARAAAESIIPTTTGAAKAVALVLPELKGKLNGMAMRVPTPNVSVVDLVAELEKEVTVEEVNAALKAAAEGELKGILAYSEEPLVSRDYNGSTVSSTIDALSTMVIDGKMVKVVSWYDNETGYSHRVVDLAAYIASKGL'"
      ]
     },
     "execution_count": 19,
     "metadata": {},
     "output_type": "execute_result"
    }
   ],
   "source": [
    "''.join(fasta.split('\\n')[1:])"
   ]
  },
  {
   "cell_type": "code",
   "execution_count": 22,
   "metadata": {},
   "outputs": [
    {
     "data": {
      "text/plain": [
       "torch.Size([336])"
      ]
     },
     "execution_count": 22,
     "metadata": {},
     "output_type": "execute_result"
    }
   ],
   "source": [
    "tokens.shape"
   ]
  },
  {
   "cell_type": "code",
   "execution_count": 36,
   "metadata": {},
   "outputs": [
    {
     "data": {
      "text/plain": [
       "tensor([[-12.6296, -12.6296, -12.6296,  ..., -15.5963, -14.9519, -14.9519]],\n",
       "       device='cuda:0', grad_fn=<MinBackward0>)"
      ]
     },
     "execution_count": 36,
     "metadata": {},
     "output_type": "execute_result"
    }
   ],
   "source": [
    "logits, _ = roberta.model(tokens.long().cuda().unsqueeze(0),\n",
    "                          features_only=True,\n",
    "                          classification_head_name='go_prediction')\n",
    "\n",
    "normalize_logits(logits)"
   ]
  },
  {
   "cell_type": "code",
   "execution_count": 46,
   "metadata": {},
   "outputs": [
    {
     "ename": "IndexError",
     "evalue": "boolean index did not match indexed array along dimension 0; dimension is 44232 but corresponding boolean dimension is 32012",
     "output_type": "error",
     "traceback": [
      "\u001b[0;31m---------------------------------------------------------------------------\u001b[0m",
      "\u001b[0;31mIndexError\u001b[0m                                Traceback (most recent call last)",
      "\u001b[0;32m<ipython-input-46-78559f07189e>\u001b[0m in \u001b[0;36m<module>\u001b[0;34m\u001b[0m\n\u001b[0;32m----> 1\u001b[0;31m \u001b[0mnp\u001b[0m\u001b[0;34m.\u001b[0m\u001b[0marray\u001b[0m\u001b[0;34m(\u001b[0m\u001b[0mont\u001b[0m\u001b[0;34m.\u001b[0m\u001b[0mG\u001b[0m\u001b[0;34m.\u001b[0m\u001b[0mnodes\u001b[0m\u001b[0;34m)\u001b[0m\u001b[0;34m[\u001b[0m\u001b[0;34m(\u001b[0m\u001b[0mlogits\u001b[0m \u001b[0;34m>\u001b[0m \u001b[0;36m0\u001b[0m\u001b[0;34m)\u001b[0m\u001b[0;34m.\u001b[0m\u001b[0mdetach\u001b[0m\u001b[0;34m(\u001b[0m\u001b[0;34m)\u001b[0m\u001b[0;34m.\u001b[0m\u001b[0mcpu\u001b[0m\u001b[0;34m(\u001b[0m\u001b[0;34m)\u001b[0m\u001b[0;34m.\u001b[0m\u001b[0mnumpy\u001b[0m\u001b[0;34m(\u001b[0m\u001b[0;34m)\u001b[0m\u001b[0;34m.\u001b[0m\u001b[0mflatten\u001b[0m\u001b[0;34m(\u001b[0m\u001b[0;34m)\u001b[0m\u001b[0;34m]\u001b[0m\u001b[0;34m\u001b[0m\u001b[0;34m\u001b[0m\u001b[0m\n\u001b[0m",
      "\u001b[0;31mIndexError\u001b[0m: boolean index did not match indexed array along dimension 0; dimension is 44232 but corresponding boolean dimension is 32012"
     ]
    }
   ],
   "source": [
    "np.array(ont.G.nodes)[(logits > 0).detach().cpu().numpy().flatten()]"
   ]
  },
  {
   "cell_type": "code",
   "execution_count": 50,
   "metadata": {},
   "outputs": [
    {
     "data": {
      "text/plain": [
       "{'name': 'mitochondrion inheritance',\n",
       " 'namespace': 'biological_process',\n",
       " 'index': 0}"
      ]
     },
     "execution_count": 50,
     "metadata": {},
     "output_type": "execute_result"
    }
   ],
   "source": [
    "ont.G.nodes['GO:0000001']"
   ]
  },
  {
   "cell_type": "code",
   "execution_count": 53,
   "metadata": {},
   "outputs": [],
   "source": [
    "import pandas as pd"
   ]
  },
  {
   "cell_type": "code",
   "execution_count": 57,
   "metadata": {},
   "outputs": [],
   "source": []
  },
  {
   "cell_type": "code",
   "execution_count": null,
   "metadata": {},
   "outputs": [],
   "source": [
    "ont.nod"
   ]
  },
  {
   "cell_type": "code",
   "execution_count": 59,
   "metadata": {},
   "outputs": [],
   "source": [
    "df = pd.DataFrame(data_iter())"
   ]
  },
  {
   "cell_type": "code",
   "execution_count": null,
   "metadata": {},
   "outputs": [],
   "source": []
  },
  {
   "cell_type": "code",
   "execution_count": null,
   "metadata": {},
   "outputs": [],
   "source": [
    "node_attr_dict_factory"
   ]
  }
 ],
 "metadata": {
  "kernelspec": {
   "display_name": "Python 3",
   "language": "python",
   "name": "python3"
  },
  "language_info": {
   "codemirror_mode": {
    "name": "ipython",
    "version": 3
   },
   "file_extension": ".py",
   "mimetype": "text/x-python",
   "name": "python",
   "nbconvert_exporter": "python",
   "pygments_lexer": "ipython3",
   "version": "3.7.9"
  }
 },
 "nbformat": 4,
 "nbformat_minor": 4
}
