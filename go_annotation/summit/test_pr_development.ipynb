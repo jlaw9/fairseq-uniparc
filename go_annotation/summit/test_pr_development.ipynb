{
 "cells": [
  {
   "cell_type": "code",
   "execution_count": 1,
   "metadata": {},
   "outputs": [],
   "source": [
    "from fairseq.models.roberta import RobertaModel\n",
    "\n",
    "import sys\n",
    "sys.path.append('../..')\n",
    "from go_annotation import fairseq_layers"
   ]
  },
  {
   "cell_type": "code",
   "execution_count": 2,
   "metadata": {},
   "outputs": [],
   "source": [
    "roberta = RobertaModel.from_pretrained('/gpfs/alpine/scratch/pstjohn/bie108/fairseq-uniparc/122820_go_swissprot_finetune/',\n",
    "                                       data_name_or_path='/ccs/home/pstjohn/project_work/swissprot_go_annotation/fairseq_swissprot/',\n",
    "                                       checkpoint_file='checkpoint_best.pt')\n",
    "\n",
    "_ = roberta.eval()  # disable dropout (or leave in train mode to finetune)"
   ]
  },
  {
   "cell_type": "code",
   "execution_count": 4,
   "metadata": {},
   "outputs": [],
   "source": [
    "import torch\n",
    "\n",
    "from go_annotation.ontology import Ontology\n",
    "ont = Ontology()\n",
    "\n",
    "_ancestor_array = ont.ancestor_array()\n",
    "\n",
    "def normalize_logits(logits):\n",
    "    bsz = logits.shape[0]\n",
    "    index_tensor = logits.new_tensor(_ancestor_array, dtype=torch.int64)\n",
    "    index_tensor = index_tensor.unsqueeze(0).expand((bsz, -1, -1))  # Array of ancestors, offset by one\n",
    "    padded_logits = torch.nn.functional.pad(logits, (1, 0), value=float('inf'))  # Make 0 index return inf\n",
    "    padded_logits = padded_logits.unsqueeze(-1).expand((-1, -1, index_tensor.shape[2]))\n",
    "    normed_logits = torch.gather(padded_logits, 1, index_tensor)\n",
    "    normed_logits, _ = torch.min(normed_logits, -1)\n",
    "    \n",
    "    return normed_logits"
   ]
  },
  {
   "cell_type": "code",
   "execution_count": 8,
   "metadata": {},
   "outputs": [],
   "source": [
    "device = torch.device(\"cuda:0\" if torch.cuda.is_available() else \"cpu\")\n",
    "_ = roberta.to(device)"
   ]
  },
  {
   "cell_type": "code",
   "execution_count": 12,
   "metadata": {},
   "outputs": [],
   "source": [
    "def encode(sequence):\n",
    "    return roberta.task.source_dictionary.encode_line(sequence)"
   ]
  },
  {
   "cell_type": "code",
   "execution_count": 49,
   "metadata": {},
   "outputs": [],
   "source": [
    "from itertools import islice\n",
    "import numpy as np\n",
    "from scipy.sparse import load_npz\n",
    "\n",
    "def inputs_generator(filename):\n",
    "    batch_size = 4\n",
    "    with open(filename, 'r') as f:\n",
    "        encoded_lines = (encode(line) for line in f)   \n",
    "        for batch in iter(lambda: tuple(islice(encoded_lines, batch_size)), ()):\n",
    "            yield data_utils.collate_tokens(\n",
    "                batch, pad_idx=roberta.task.source_dictionary.pad()).long().to(device)\n",
    "\n",
    "def targets_generator(filename):\n",
    "    y_true_test = load_npz(filename)\n",
    "    dense_rows = (np.asarray(row.todense()) for row in y_true_test)\n",
    "    for batch in iter(lambda: tuple(islice(dense_rows, batch_size)), ()):\n",
    "        yield np.vstack(batch)\n",
    "            \n",
    "inputs_filename = '/ccs/home/pstjohn/project_work/swissprot_go_annotation/fairseq_swissprot_debug/input0/test.raw'\n",
    "targets_filename = '/ccs/home/pstjohn/project_work/swissprot_go_annotation/fairseq_swissprot_debug/label/test.npz'"
   ]
  },
  {
   "cell_type": "code",
   "execution_count": 57,
   "metadata": {},
   "outputs": [],
   "source": [
    "from sklearn.metrics import precision_recall_curve\n",
    "\n",
    "for inputs, targets in zip(inputs_generator(inputs_filename), targets_generator(targets_filename)):\n",
    "    \n",
    "    with torch.no_grad():\n",
    "        logits, _ = roberta.model(inputs,\n",
    "                                  features_only=True,\n",
    "                                  classification_head_name='go_prediction')\n",
    "        \n",
    "        normed_logits = normalize_logits(logits)\n",
    "        batch_pred = torch.sigmoid(normed_logits)    \n",
    "    \n",
    "    break"
   ]
  },
  {
   "cell_type": "code",
   "execution_count": 68,
   "metadata": {},
   "outputs": [],
   "source": [
    "import matplotlib.pyplot as plt\n",
    "import seaborn as sns\n",
    "sns.set(context='talk', style='ticks',\n",
    "        color_codes=True, rc={'legend.frameon': False})\n",
    "\n",
    "%matplotlib inline"
   ]
  },
  {
   "cell_type": "code",
   "execution_count": 67,
   "metadata": {},
   "outputs": [],
   "source": [
    "precision, recall, thresholds = precision_recall_curve(targets.flatten(), batch_pred.detach().cpu().numpy().flatten())"
   ]
  },
  {
   "cell_type": "code",
   "execution_count": 69,
   "metadata": {},
   "outputs": [
    {
     "data": {
      "text/plain": [
       "[<matplotlib.lines.Line2D at 0x7fff019e49b0>]"
      ]
     },
     "execution_count": 69,
     "metadata": {},
     "output_type": "execute_result"
    },
    {
     "data": {
      "image/png": "[encoded data removed]",
      "text/plain": [
       "<Figure size 432x288 with 1 Axes>"
      ]
     },
     "metadata": {
      "needs_background": "light"
     },
     "output_type": "display_data"
    }
   ],
   "source": [
    "plt.plot(precision, recall)"
   ]
  },
  {
   "cell_type": "code",
   "execution_count": 63,
   "metadata": {},
   "outputs": [
    {
     "data": {
      "text/plain": [
       "(4, 32012)"
      ]
     },
     "execution_count": 63,
     "metadata": {},
     "output_type": "execute_result"
    }
   ],
   "source": [
    ".shape"
   ]
  },
  {
   "cell_type": "code",
   "execution_count": null,
   "metadata": {},
   "outputs": [],
   "source": []
  },
  {
   "cell_type": "code",
   "execution_count": 29,
   "metadata": {},
   "outputs": [],
   "source": []
  },
  {
   "cell_type": "code",
   "execution_count": 32,
   "metadata": {},
   "outputs": [],
   "source": []
  },
  {
   "cell_type": "code",
   "execution_count": 18,
   "metadata": {},
   "outputs": [],
   "source": [
    "from fairseq.data import data_utils"
   ]
  },
  {
   "cell_type": "code",
   "execution_count": 21,
   "metadata": {},
   "outputs": [
    {
     "data": {
      "text/plain": [
       "tensor([[20, 19,  4,  ...,  8, 19,  2],\n",
       "        [ 5, 16, 13,  ...,  1,  1,  1],\n",
       "        [20, 16, 14,  ...,  1,  1,  1],\n",
       "        [20,  5, 15,  ...,  1,  1,  1]], dtype=torch.int32)"
      ]
     },
     "execution_count": 21,
     "metadata": {},
     "output_type": "execute_result"
    }
   ],
   "source": []
  },
  {
   "cell_type": "code",
   "execution_count": 17,
   "metadata": {},
   "outputs": [
    {
     "ename": "RuntimeError",
     "evalue": "stack expects each tensor to be equal size, but got [408] at entry 0 and [166] at entry 1",
     "output_type": "error",
     "traceback": [
      "\u001b[0;31m---------------------------------------------------------------------------\u001b[0m",
      "\u001b[0;31mRuntimeError\u001b[0m                              Traceback (most recent call last)",
      "\u001b[0;32m<ipython-input-17-cb7b0b249ce8>\u001b[0m in \u001b[0;36m<module>\u001b[0;34m\u001b[0m\n\u001b[0;32m----> 1\u001b[0;31m \u001b[0mtorch\u001b[0m\u001b[0;34m.\u001b[0m\u001b[0mstack\u001b[0m\u001b[0;34m(\u001b[0m\u001b[0mbatch\u001b[0m\u001b[0;34m)\u001b[0m\u001b[0;34m\u001b[0m\u001b[0;34m\u001b[0m\u001b[0m\n\u001b[0m",
      "\u001b[0;31mRuntimeError\u001b[0m: stack expects each tensor to be equal size, but got [408] at entry 0 and [166] at entry 1"
     ]
    }
   ],
   "source": [
    "torch.stack(batch)"
   ]
  },
  {
   "cell_type": "code",
   "execution_count": null,
   "metadata": {},
   "outputs": [],
   "source": []
  }
 ],
 "metadata": {
  "kernelspec": {
   "display_name": "Python 3",
   "language": "python",
   "name": "python3"
  },
  "language_info": {
   "codemirror_mode": {
    "name": "ipython",
    "version": 3
   },
   "file_extension": ".py",
   "mimetype": "text/x-python",
   "name": "python",
   "nbconvert_exporter": "python",
   "pygments_lexer": "ipython3",
   "version": "3.6.10"
  }
 },
 "nbformat": 4,
 "nbformat_minor": 4
}
