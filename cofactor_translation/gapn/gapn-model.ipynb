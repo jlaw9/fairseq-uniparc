{
 "cells": [
  {
   "cell_type": "code",
   "execution_count": 1,
   "id": "a1d6ed29-8d07-4740-99bd-37885e87c978",
   "metadata": {},
   "outputs": [],
   "source": [
    "import os\n",
    "import sys\n",
    "from tqdm import tqdm\n",
    "import pandas as pd\n",
    "import numpy as np\n",
    "from scipy.stats import linregress\n",
    "import matplotlib.pyplot as plt\n",
    "import seaborn as sns\n",
    "\n",
    "%matplotlib inline\n",
    "sns.set(context='notebook', style='ticks',\n",
    "        color_codes=True, rc={'legend.frameon': False})"
   ]
  },
  {
   "cell_type": "code",
   "execution_count": 2,
   "id": "bf58436f-919b-4204-b88d-d6a9ee678817",
   "metadata": {},
   "outputs": [
    {
     "data": {
      "text/plain": [
       "True"
      ]
     },
     "execution_count": 2,
     "metadata": {},
     "output_type": "execute_result"
    }
   ],
   "source": [
    "import torch\n",
    "torch.cuda.is_available()"
   ]
  },
  {
   "cell_type": "code",
   "execution_count": 3,
   "id": "e8f886fa-ce66-4210-a381-4be11ed41c4a",
   "metadata": {},
   "outputs": [
    {
     "data": {
      "text/html": [
       "<div>\n",
       "<style scoped>\n",
       "    .dataframe tbody tr th:only-of-type {\n",
       "        vertical-align: middle;\n",
       "    }\n",
       "\n",
       "    .dataframe tbody tr th {\n",
       "        vertical-align: top;\n",
       "    }\n",
       "\n",
       "    .dataframe thead th {\n",
       "        text-align: right;\n",
       "    }\n",
       "</style>\n",
       "<table border=\"1\" class=\"dataframe\">\n",
       "  <thead>\n",
       "    <tr style=\"text-align: right;\">\n",
       "      <th></th>\n",
       "      <th>Sequence</th>\n",
       "      <th>WT_mutations</th>\n",
       "      <th>NAD+_initial_rate</th>\n",
       "      <th>NADP+_initial_rate</th>\n",
       "    </tr>\n",
       "  </thead>\n",
       "  <tbody>\n",
       "    <tr>\n",
       "      <th>pSM038</th>\n",
       "      <td>MTKQYKNYVNGEWKLSENEIKIYEPASGAELGSVPAMSTEEVDYVY...</td>\n",
       "      <td>G209V</td>\n",
       "      <td>0.80667</td>\n",
       "      <td>39.055556</td>\n",
       "    </tr>\n",
       "    <tr>\n",
       "      <th>pSM050</th>\n",
       "      <td>MTKQYKNYVNGEWKLSENEIKIYEPASGAELGSVPAMSTEEVDYVY...</td>\n",
       "      <td>K176F + S210E</td>\n",
       "      <td>-0.00333</td>\n",
       "      <td>1.566667</td>\n",
       "    </tr>\n",
       "  </tbody>\n",
       "</table>\n",
       "</div>"
      ],
      "text/plain": [
       "                                                 Sequence   WT_mutations  \\\n",
       "pSM038  MTKQYKNYVNGEWKLSENEIKIYEPASGAELGSVPAMSTEEVDYVY...          G209V   \n",
       "pSM050  MTKQYKNYVNGEWKLSENEIKIYEPASGAELGSVPAMSTEEVDYVY...  K176F + S210E   \n",
       "\n",
       "        NAD+_initial_rate  NADP+_initial_rate  \n",
       "pSM038            0.80667           39.055556  \n",
       "pSM050           -0.00333            1.566667  "
      ]
     },
     "execution_count": 3,
     "metadata": {},
     "output_type": "execute_result"
    }
   ],
   "source": [
    "gapn_data_file = \"20210831-GapN-data-up-to-SM130.csv\"\n",
    "df = pd.read_csv(gapn_data_file, index_col=0)\n",
    "df = df.dropna()\n",
    "# TODO drop the barcode of the sequences: MGSSHHHHHHSSGLVPRGSH\n",
    "df['Sequence'] = df['Sequence'].apply(lambda x: x.replace('MGSSHHHHHHSSGLVPRGSH', ''))\n",
    "df.head(2)"
   ]
  },
  {
   "cell_type": "code",
   "execution_count": 4,
   "id": "a2ffb2e2-bd3d-4387-9054-60469cab7225",
   "metadata": {},
   "outputs": [
    {
     "data": {
      "text/plain": [
       "<AxesSubplot:ylabel='Frequency'>"
      ]
     },
     "execution_count": 4,
     "metadata": {},
     "output_type": "execute_result"
    },
    {
     "data": {
      "image/png": "[encoded data removed]",
      "text/plain": [
       "<Figure size 432x288 with 1 Axes>"
      ]
     },
     "metadata": {},
     "output_type": "display_data"
    }
   ],
   "source": [
    "df['NAD+_initial_rate'].plot.hist()"
   ]
  },
  {
   "cell_type": "code",
   "execution_count": 5,
   "id": "119bba00-28ac-4ec7-acb7-85efa6e66162",
   "metadata": {},
   "outputs": [
    {
     "data": {
      "text/plain": [
       "[('pSM038',\n",
       "  'MTKQYKNYVNGEWKLSENEIKIYEPASGAELGSVPAMSTEEVDYVYASAKKAQPAWRALSYIERAAYLHKVADILMRDKEKIGAILSKEVAKGYKSAVSEVVRTAEIINYAAEEGLRMEGEVLEGGSFEAASKKKIAVVRREPVGLVLAISPFNYPVNLAGSKIAPALIAGNVIAFKPPTQGSISGLLLAEAFAEAGLPAGVFNTITGRVSEIGDYIVEHQAVNFINFTGSTGIGERIGKMAGMRPIMLELGGKDSAIVLEDADLELTAKNIIAGAFGYSGQRCTAVKRVLVMESVADELVEKIREKVLALTIGNPEDDADITPLIDTKSADYVEGLINDANDKGATALTEIKREGNLICPILFDKVTTDMRLAWEEPFGPVLPIIRVTSVEEAIEISNKSEYGLQASIFTNDFPRAFGIAEQLEVGTVHINNKTQRGTDNFPFLGAKKSGAGIQGVKYSIEAMTTVKSVVFDIK*'),\n",
       " ('pSM050',\n",
       "  'MTKQYKNYVNGEWKLSENEIKIYEPASGAELGSVPAMSTEEVDYVYASAKKAQPAWRALSYIERAAYLHKVADILMRDKEKIGAILSKEVAKGYKSAVSEVVRTAEIINYAAEEGLRMEGEVLEGGSFEAASKKKIAVVRREPVGLVLAISPFNYPVNLAGSKIAPALIAGNVIAFFPPTQGSISGLLLAEAFAEAGLPAGVFNTITGRGEEIGDYIVEHQAVNFINFTGSTGIGERIGKMAGMRPIMLELGGKDSAIVLEDADLELTAKNIIAGAFGYSGQRCTAVKRVLVMESVADELVEKIREKVLALTIGNPEDDADITPLIDTKSADYVEGLINDANDKGATALTEIKREGNLICPILFDKVTTDMRLAWEEPFGPVLPIIRVTSVEEAIEISNKSEYGLQASIFTNDFPRAFGIAEQLEVGTVHINNKTQRGTDNFPFLGAKKSGAGIQGVKYSIEAMTTVKSVVFDIK*')]"
      ]
     },
     "execution_count": 5,
     "metadata": {},
     "output_type": "execute_result"
    }
   ],
   "source": [
    "list(df['Sequence'].items())[:2]"
   ]
  },
  {
   "cell_type": "code",
   "execution_count": 6,
   "id": "be00f89b-be49-4bcf-86f2-d091887e824e",
   "metadata": {},
   "outputs": [
    {
     "name": "stderr",
     "output_type": "stream",
     "text": [
      "Using cache found in /tmp/.cache/torch/facebookresearch_esm_master\n"
     ]
    },
    {
     "name": "stdout",
     "output_type": "stream",
     "text": [
      "Using batch size 8\n"
     ]
    },
    {
     "name": "stderr",
     "output_type": "stream",
     "text": [
      "100%|██████████| 10/10 [00:00<00:00, 14.96it/s]\n"
     ]
    },
    {
     "data": {
      "text/plain": [
       "(74, 768)"
      ]
     },
     "execution_count": 6,
     "metadata": {},
     "output_type": "execute_result"
    }
   ],
   "source": [
    "model_name = \"esm1_t6_43M_UR50S\"\n",
    "# model_name = \"esm1b_t33_650M_UR50S\"\n",
    "torch.hub.set_dir('/tmp/.cache/torch')\n",
    "# torch.hub.set_dir('/gpfs/alpine/scratch/jlaw/bie108/torch/hub')\n",
    "# TODO Try this model: esm1v_t33_650M_UR90S\n",
    "model, alphabet = torch.hub.load(\"facebookresearch/esm\", model_name)\n",
    "\n",
    "batch_converter = alphabet.get_batch_converter()\n",
    "batch_labels, batch_strs, batch_tokens = batch_converter(list(df['Sequence'].items()))\n",
    "\n",
    "device = 'cuda:0' if torch.cuda.is_available() else 'cpu'\n",
    "model = model.to(device)\n",
    "print(\"Using batch size 8\")\n",
    "batch_dataloader = torch.utils.data.DataLoader(batch_tokens, batch_size=8)\n",
    "\n",
    "output = []\n",
    "with torch.no_grad():\n",
    "    for batch in tqdm(batch_dataloader):\n",
    "        result = model(batch.to(device), repr_layers=[6])  # because this is the 6-layer transformer\n",
    "        output += [result['representations'][6].detach().cpu().numpy()]\n",
    "\n",
    "outputs = np.vstack(output)\n",
    "\n",
    "# Generate per-sequence representations via averaging\n",
    "# NOTE: token 0 is always a beginning-of-sequence token, so the first residue is token 1.\n",
    "representations = []\n",
    "for output, seq in zip(outputs, df['Sequence']):\n",
    "    representations += [output[1 : len(seq) + 1].mean(0)]\n",
    "    \n",
    "representations = np.vstack(representations)\n",
    "representations.shape"
   ]
  },
  {
   "cell_type": "code",
   "execution_count": 61,
   "id": "7bf1db06-aa54-4199-bf8d-c8a8afa7f3b4",
   "metadata": {},
   "outputs": [
    {
     "name": "stdout",
     "output_type": "stream",
     "text": [
      "KFold(n_splits=5, random_state=None, shuffle=True)\n",
      "model_name\talpha\tavg_slope\tavg_mae\tavg_rmse\n",
      "esm1_t6_43M_UR50S\t1e-06\t100\t0.82\t20.11\t0.39\n",
      "esm1_t6_43M_UR50S\t1e-05\t100\t0.83\t18.11\t0.37\n",
      "esm1_t6_43M_UR50S\t0.0001\t100\t0.81\t17.65\t0.39\n",
      "esm1_t6_43M_UR50S\t0.001\t100\t0.80\t21.03\t0.40\n",
      "esm1_t6_43M_UR50S\t0.01\t100\t0.67\t26.86\t0.49\n",
      "esm1_t6_43M_UR50S\t0.1\t100\t0.35\t42.41\t0.74\n",
      "esm1_t6_43M_UR50S\t1\t100\t0.07\t60.37\t0.98\n",
      "esm1_t6_43M_UR50S\t10\t100\t0.00\t62.81\t1.06\n",
      "best_rmse: 0.37, best_alpha: 1e-05\n"
     ]
    }
   ],
   "source": [
    "import itertools\n",
    "from sklearn.model_selection import KFold\n",
    "from sklearn.linear_model import LogisticRegression, Ridge\n",
    "from sklearn.svm import SVR\n",
    "# Kernel ridge regression (KRR) combines ridge regression (linear least squares with l2-norm regularization) with the kernel trick.\n",
    "# https://scikit-learn.org/stable/modules/generated/sklearn.kernel_ridge.KernelRidge.html\n",
    "# \"The form of the model learned by KRR is identical to support vector regression (SVR). \n",
    "# However, different loss functions are used: \n",
    "# KRR uses squared error loss while support vector regression uses epsilon-insensitive loss, \n",
    "# both combined with l2 regularization. In contrast to SVR, fitting a KRR model can be done in closed-form and is typically faster for medium-sized datasets. On the other hand, the learned model is non-sparse and thus slower than SVR, which learns a sparse model for epsilon > 0, at prediction-time.\n",
    "from sklearn.kernel_ridge import KernelRidge\n",
    "\n",
    "# alg = \"svr\"\n",
    "alg = 'krr'\n",
    "kernel = 'laplacian'\n",
    "# normalize_vals = True\n",
    "wt_nadph = 41.342\n",
    "log_transform = True\n",
    "\n",
    "# now run K-fold CV using ridge regression\n",
    "X = representations\n",
    "y = df['NAD+_initial_rate'].astype(float)\n",
    "# take the exponent of the training data and predicted probabilities so nothing is < 0\n",
    "\n",
    "y_train_test = y\n",
    "if normalize_vals:\n",
    "    y_train_test = np.asarray([max(0,x/41.342) for x in y])\n",
    "if log_transform:\n",
    "    y_train_test = np.asarray([np.log(max(1,x)) for x in y])\n",
    "\n",
    "kf = KFold(n_splits=5, shuffle=True)\n",
    "print(kf)\n",
    "\n",
    "alphas = [1e-6, 1e-5, 0.0001, 0.001, 0.01, 0.1, 1, 10]\n",
    "gammas = [0.01, 0.1, 1, 10, 100]\n",
    "# alphas = [.01]\n",
    "repetitions = 10\n",
    "best_alpha = 0\n",
    "best_rmse = 10000\n",
    "best_y_pred = []\n",
    "# print(\"model_name\\talpha\\tgamma\\tavg_slope\\tavg_mae\\tavg_rmse\")\n",
    "print(\"model_name\\talpha\\tavg_slope\\tavg_mae\\tavg_rmse\")\n",
    "# for alpha, gamma in itertools.product(alphas, gammas):\n",
    "for alpha in alphas:\n",
    "    y_preds = []\n",
    "    maes = []\n",
    "    rmses = []\n",
    "    slopes = []\n",
    "    for rep in range(repetitions):\n",
    "        y_pred = np.zeros(len(y))\n",
    "        for train_index, test_index in kf.split(X):\n",
    "        #     print(\"TRAIN:\", train_index, \"TEST:\", test_index)\n",
    "            X_train, X_test = X[train_index], X[test_index]\n",
    "            y_train, y_test = y_train_test[train_index], y_train_test[test_index]\n",
    "            if alg == 'krr':\n",
    "#                 clf = KernelRidge(alpha=alpha, kernel='poly', gamma=gamma)\n",
    "                clf = KernelRidge(alpha=alpha, kernel=kernel)\n",
    "            elif alg == \"ridge\":\n",
    "                clf = Ridge(alpha=alpha)\n",
    "\n",
    "            clf.fit(X_train, y_train)\n",
    "            y_pred[test_index] = clf.predict(X_test)\n",
    "\n",
    "        y_preds.append(y_pred)\n",
    "        # mean avg error\n",
    "        mae = np.sum(np.abs(y_train_test - y_pred))\n",
    "        # also compute the root mean squared error\n",
    "        rmse = np.sqrt(np.sum((y_train_test - y_pred)**2) / len(y))\n",
    "        maes.append(mae)\n",
    "        rmses.append(rmse)\n",
    "        # and the slope\n",
    "        slope, intercept, r_value, p_value, std_err = linregress(y_train_test, y_pred)\n",
    "        slopes.append(slope)\n",
    "        \n",
    "    avg_mae = np.mean(mae)\n",
    "    avg_slope = np.mean(slopes)\n",
    "    avg_rmse = np.mean(rmses)\n",
    "    print(f\"{model_name}\\t{alpha}\\t{gamma}\\t{avg_slope:0.2f}\\t{avg_mae:0.2f}\\t{avg_rmse:0.2f}\")\n",
    "    \n",
    "    if avg_rmse < best_rmse:\n",
    "        best_rmse = avg_rmse\n",
    "#         best_alpha = (alpha, gamma)\n",
    "        best_alpha = alpha\n",
    "        best_y_pred = y_preds\n",
    "y_preds = best_y_pred\n",
    "print(f\"best_rmse: {best_rmse:0.2f}, best_alpha: {str(best_alpha)}\")"
   ]
  },
  {
   "cell_type": "code",
   "execution_count": 62,
   "id": "021d2e01-e396-49b9-afe4-ee88a450629f",
   "metadata": {},
   "outputs": [
    {
     "data": {
      "text/html": [
       "<div>\n",
       "<style scoped>\n",
       "    .dataframe tbody tr th:only-of-type {\n",
       "        vertical-align: middle;\n",
       "    }\n",
       "\n",
       "    .dataframe tbody tr th {\n",
       "        vertical-align: top;\n",
       "    }\n",
       "\n",
       "    .dataframe thead th {\n",
       "        text-align: right;\n",
       "    }\n",
       "</style>\n",
       "<table border=\"1\" class=\"dataframe\">\n",
       "  <thead>\n",
       "    <tr style=\"text-align: right;\">\n",
       "      <th></th>\n",
       "      <th>y</th>\n",
       "      <th>y_pred</th>\n",
       "    </tr>\n",
       "  </thead>\n",
       "  <tbody>\n",
       "    <tr>\n",
       "      <th>0</th>\n",
       "      <td>1.0</td>\n",
       "      <td>1.155363</td>\n",
       "    </tr>\n",
       "    <tr>\n",
       "      <th>1</th>\n",
       "      <td>1.0</td>\n",
       "      <td>0.950636</td>\n",
       "    </tr>\n",
       "  </tbody>\n",
       "</table>\n",
       "</div>"
      ],
      "text/plain": [
       "     y    y_pred\n",
       "0  1.0  1.155363\n",
       "1  1.0  0.950636"
      ]
     },
     "execution_count": 62,
     "metadata": {},
     "output_type": "execute_result"
    }
   ],
   "source": [
    "if log_transform:\n",
    "    y_preds = [np.exp(ys) for ys in y_preds]\n",
    "df2 = pd.DataFrame({'y': np.exp(y_train_test), 'y_pred': np.mean(y_preds, axis=0)})\n",
    "df2.head(2)"
   ]
  },
  {
   "cell_type": "code",
   "execution_count": 63,
   "id": "f720f00d-91e1-4071-ae27-5986b821631e",
   "metadata": {},
   "outputs": [
    {
     "data": {
      "text/plain": [
       "Text(0.5, 0, 'exp(log y)')"
      ]
     },
     "execution_count": 63,
     "metadata": {},
     "output_type": "execute_result"
    },
    {
     "data": {
      "image/png": "[encoded data removed]",
      "text/plain": [
       "<Figure size 432x288 with 1 Axes>"
      ]
     },
     "metadata": {},
     "output_type": "display_data"
    }
   ],
   "source": [
    "f, ax = plt.subplots()\n",
    "color = \"#3291a8\"\n",
    "std_dev = np.std(y_preds, axis=0)\n",
    "ax.errorbar(df2['y'], df2['y_pred'], yerr=np.max(y_preds, axis=0) - df2['y_pred'], fmt='o', lolims=True, ms=0, lw=1, ls=None, capsize=.5, ecolor=color)\n",
    "ax.errorbar(df2['y'], df2['y_pred'], yerr=df2['y_pred'] - np.min(y_preds, axis=0), fmt='o', uplims=True, ms=0, lw=1, ls=None, capsize=.5, ecolor=color)\n",
    "ax.errorbar(df2['y'], df2['y_pred'], yerr=std_dev, fmt=\"o\", ms=8, lw=3, color=color)\n",
    "# df2.plot.scatter(x='y', y=\"y_pred\", s=1, ax=ax)\n",
    "plt.suptitle(f\"GapN NAD+ {alg} {kernel} (alpha={best_alpha})\", fontsize=14)\n",
    "ax.set_title(f\"5-fold CV ({repetitions}x), ESM model: {model_name}\", fontsize=12)\n",
    "ax.set_ylabel(\"exp(log y_pred)\")\n",
    "ax.set_xlabel(\"exp(log y)\")\n",
    "\n",
    "# out_file = f\"viz/gapn-nadh-ridge-{model_name}.svg\"\n",
    "# print(out_file)\n",
    "# os.makedirs(os.path.dirname(out_file), exist_ok=True)\n",
    "# plt.savefig(out_file, bbox_inches='tight')\n",
    "# plt.savefig(out_file.replace('.svg','.png'), bbox_inches='tight')\n",
    "# plt.savefig(out_file.replace('.svg','.pdf'), bbox_inches='tight')"
   ]
  },
  {
   "cell_type": "code",
   "execution_count": 21,
   "id": "e0ffbdd6-d5ca-40f2-a688-3230f2ae537d",
   "metadata": {},
   "outputs": [
    {
     "data": {
      "text/plain": [
       "(array([ 7.,  7.,  8.,  7.,  9.,  7., 13.,  8.,  3.,  5.]),\n",
       " array([-1.93407059, -0.82428169,  0.2855072 ,  1.3952961 ,  2.50508499,\n",
       "         3.61487389,  4.72466278,  5.83445168,  6.94424057,  8.05402946,\n",
       "         9.16381836]),\n",
       " <BarContainer object of 10 artists>)"
      ]
     },
     "execution_count": 21,
     "metadata": {},
     "output_type": "execute_result"
    },
    {
     "data": {
      "image/png": "[encoded data removed]",
      "text/plain": [
       "<Figure size 432x288 with 1 Axes>"
      ]
     },
     "metadata": {},
     "output_type": "display_data"
    }
   ],
   "source": [
    "plt.hist(y_pred)\n"
   ]
  },
  {
   "cell_type": "code",
   "execution_count": null,
   "id": "11cef2ba-75cb-4924-8ee6-1d8f11e7cfd4",
   "metadata": {},
   "outputs": [],
   "source": []
  }
 ],
 "metadata": {
  "kernelspec": {
   "display_name": "Python 3",
   "language": "python",
   "name": "python3"
  },
  "language_info": {
   "codemirror_mode": {
    "name": "ipython",
    "version": 3
   },
   "file_extension": ".py",
   "mimetype": "text/x-python",
   "name": "python",
   "nbconvert_exporter": "python",
   "pygments_lexer": "ipython3",
   "version": "3.7.10"
  }
 },
 "nbformat": 4,
 "nbformat_minor": 5
}
