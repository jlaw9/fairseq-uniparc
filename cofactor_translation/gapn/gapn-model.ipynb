{
 "cells": [
  {
   "cell_type": "code",
   "execution_count": 1,
   "id": "a1d6ed29-8d07-4740-99bd-37885e87c978",
   "metadata": {},
   "outputs": [],
   "source": [
    "import os\n",
    "import sys\n",
    "from tqdm import tqdm\n",
    "import pandas as pd\n",
    "import numpy as np\n",
    "from scipy.stats import linregress\n",
    "import matplotlib.pyplot as plt\n",
    "import seaborn as sns\n",
    "\n",
    "%matplotlib inline\n",
    "sns.set(context='notebook', style='ticks',\n",
    "        color_codes=True, rc={'legend.frameon': False})"
   ]
  },
  {
   "cell_type": "code",
   "execution_count": 2,
   "id": "bf58436f-919b-4204-b88d-d6a9ee678817",
   "metadata": {},
   "outputs": [
    {
     "data": {
      "text/plain": [
       "True"
      ]
     },
     "execution_count": 2,
     "metadata": {},
     "output_type": "execute_result"
    }
   ],
   "source": [
    "import torch\n",
    "torch.cuda.is_available()"
   ]
  },
  {
   "cell_type": "code",
   "execution_count": 158,
   "id": "e8f886fa-ce66-4210-a381-4be11ed41c4a",
   "metadata": {},
   "outputs": [
    {
     "data": {
      "text/html": [
       "<div>\n",
       "<style scoped>\n",
       "    .dataframe tbody tr th:only-of-type {\n",
       "        vertical-align: middle;\n",
       "    }\n",
       "\n",
       "    .dataframe tbody tr th {\n",
       "        vertical-align: top;\n",
       "    }\n",
       "\n",
       "    .dataframe thead th {\n",
       "        text-align: right;\n",
       "    }\n",
       "</style>\n",
       "<table border=\"1\" class=\"dataframe\">\n",
       "  <thead>\n",
       "    <tr style=\"text-align: right;\">\n",
       "      <th></th>\n",
       "      <th>Sequence</th>\n",
       "      <th>WT_mutations</th>\n",
       "      <th>NAD+_initial_rate</th>\n",
       "      <th>NADP+_initial_rate</th>\n",
       "    </tr>\n",
       "  </thead>\n",
       "  <tbody>\n",
       "    <tr>\n",
       "      <th>pSM038</th>\n",
       "      <td>MTKQYKNYVNGEWKLSENEIKIYEPASGAELGSVPAMSTEEVDYVY...</td>\n",
       "      <td>G209V</td>\n",
       "      <td>0.80667</td>\n",
       "      <td>39.055556</td>\n",
       "    </tr>\n",
       "    <tr>\n",
       "      <th>pSM050</th>\n",
       "      <td>MTKQYKNYVNGEWKLSENEIKIYEPASGAELGSVPAMSTEEVDYVY...</td>\n",
       "      <td>K176F + S210E</td>\n",
       "      <td>-0.00333</td>\n",
       "      <td>1.566667</td>\n",
       "    </tr>\n",
       "  </tbody>\n",
       "</table>\n",
       "</div>"
      ],
      "text/plain": [
       "                                                 Sequence   WT_mutations  \\\n",
       "pSM038  MTKQYKNYVNGEWKLSENEIKIYEPASGAELGSVPAMSTEEVDYVY...          G209V   \n",
       "pSM050  MTKQYKNYVNGEWKLSENEIKIYEPASGAELGSVPAMSTEEVDYVY...  K176F + S210E   \n",
       "\n",
       "        NAD+_initial_rate  NADP+_initial_rate  \n",
       "pSM038            0.80667           39.055556  \n",
       "pSM050           -0.00333            1.566667  "
      ]
     },
     "execution_count": 158,
     "metadata": {},
     "output_type": "execute_result"
    }
   ],
   "source": [
    "gapn_data_file = \"20210831-GapN-data-up-to-SM130.csv\"\n",
    "df = pd.read_csv(gapn_data_file, index_col=0)\n",
    "df = df.dropna()\n",
    "# drop the barcode of the sequences: MGSSHHHHHHSSGLVPRGSH\n",
    "df['Sequence'] = df['Sequence'].apply(lambda x: x.replace('MGSSHHHHHHSSGLVPRGSH', '').strip('*'))\n",
    "df.head(2)"
   ]
  },
  {
   "cell_type": "code",
   "execution_count": 157,
   "id": "46b7d746-06f6-437f-a324-e8e3aa91304f",
   "metadata": {},
   "outputs": [
    {
     "data": {
      "text/plain": [
       "pSM038           [G209V]\n",
       "pSM050    [K176F, S210E]\n",
       "Name: WT_mutations, dtype: object"
      ]
     },
     "execution_count": 157,
     "metadata": {},
     "output_type": "execute_result"
    }
   ],
   "source": [
    "# extract the mutations for each sequence\n",
    "seq_mutations = df['WT_mutations'].apply(lambda x: [mut.strip() for mut in x.split(' + ')])\n",
    "seq_mutations.head(2)"
   ]
  },
  {
   "cell_type": "code",
   "execution_count": 88,
   "id": "375234b1-725f-4014-8d94-6d19264daba1",
   "metadata": {},
   "outputs": [
    {
     "data": {
      "text/plain": [
       "defaultdict(int,\n",
       "            {'G209V': 29,\n",
       "             'K176F': 8,\n",
       "             'S210E': 14,\n",
       "             'T179E': 28,\n",
       "             'T179F': 1,\n",
       "             'G209E': 1,\n",
       "             'K176H': 3,\n",
       "             'N153A': 5,\n",
       "             'P151A': 3,\n",
       "             'Q180I': 3,\n",
       "             'P151S': 4,\n",
       "             'R208W': 1,\n",
       "             'I212V': 3,\n",
       "             'I149V': 3,\n",
       "             'K176W': 2,\n",
       "             'G209A': 8,\n",
       "             'R208L': 1,\n",
       "             'G209H': 1,\n",
       "             'I149F': 1,\n",
       "             'K176I': 1,\n",
       "             'P178D': 3,\n",
       "             'T179V': 1,\n",
       "             'G209M': 1,\n",
       "             'K176M': 1,\n",
       "             'P177L': 1,\n",
       "             'P178S': 25,\n",
       "             'T179S': 5,\n",
       "             'G207V': 2,\n",
       "             'R208P': 2,\n",
       "             'I233V': 2,\n",
       "             'I233T': 2,\n",
       "             'P178N': 2,\n",
       "             'P178T': 2,\n",
       "             'F152N': 2,\n",
       "             'F152Q': 2,\n",
       "             'P178A': 13,\n",
       "             'T179Q': 10,\n",
       "             'T179N': 3,\n",
       "             'R208Y': 8,\n",
       "             'R208F': 8,\n",
       "             'I19F': 14})"
      ]
     },
     "execution_count": 88,
     "metadata": {},
     "output_type": "execute_result"
    }
   ],
   "source": [
    "from collections import defaultdict\n",
    "mut_counts = defaultdict(int)\n",
    "for muts in seq_mutations.values:\n",
    "    if 'F152W' in \n",
    "    for mut in muts:\n",
    "        mut_counts[mut] += 1\n",
    "# mutations = set([mut for muts in seq_mutations.values for mut in muts])\n",
    "# mutations\n",
    "mut_counts"
   ]
  },
  {
   "cell_type": "code",
   "execution_count": 165,
   "id": "13c491f8-202b-4c58-ba86-4a49cf21197a",
   "metadata": {},
   "outputs": [
    {
     "name": "stdout",
     "output_type": "stream",
     "text": [
      "41 unique mutations over 16 positions\n"
     ]
    }
   ],
   "source": [
    "print(f\"{len(mut_counts)} unique mutations over \"\n",
    "      f\"{len(set([m[1:-1] for m in mut_counts]))} positions\")"
   ]
  },
  {
   "cell_type": "code",
   "execution_count": 4,
   "id": "a2ffb2e2-bd3d-4387-9054-60469cab7225",
   "metadata": {},
   "outputs": [
    {
     "data": {
      "text/plain": [
       "<AxesSubplot:ylabel='Frequency'>"
      ]
     },
     "execution_count": 4,
     "metadata": {},
     "output_type": "execute_result"
    },
    {
     "data": {
      "image/png": "[encoded data removed]",
      "text/plain": [
       "<Figure size 432x288 with 1 Axes>"
      ]
     },
     "metadata": {},
     "output_type": "display_data"
    }
   ],
   "source": [
    "df['NAD+_initial_rate'].plot.hist()"
   ]
  },
  {
   "cell_type": "code",
   "execution_count": 6,
   "id": "be00f89b-be49-4bcf-86f2-d091887e824e",
   "metadata": {},
   "outputs": [
    {
     "name": "stderr",
     "output_type": "stream",
     "text": [
      "Using cache found in /tmp/.cache/torch/facebookresearch_esm_master\n"
     ]
    },
    {
     "name": "stdout",
     "output_type": "stream",
     "text": [
      "Using batch size 8\n"
     ]
    },
    {
     "name": "stderr",
     "output_type": "stream",
     "text": [
      "100%|██████████| 10/10 [00:00<00:00, 14.96it/s]\n"
     ]
    },
    {
     "data": {
      "text/plain": [
       "(74, 768)"
      ]
     },
     "execution_count": 6,
     "metadata": {},
     "output_type": "execute_result"
    }
   ],
   "source": [
    "model_name = \"esm1_t6_43M_UR50S\"\n",
    "# model_name = \"esm1b_t33_650M_UR50S\"\n",
    "torch.hub.set_dir('/tmp/.cache/torch')\n",
    "# torch.hub.set_dir('/gpfs/alpine/scratch/jlaw/bie108/torch/hub')\n",
    "# TODO Try this model: esm1v_t33_650M_UR90S\n",
    "model, alphabet = torch.hub.load(\"facebookresearch/esm\", model_name)\n",
    "\n",
    "batch_converter = alphabet.get_batch_converter()\n",
    "batch_labels, batch_strs, batch_tokens = batch_converter(list(df['Sequence'].items()))\n",
    "\n",
    "device = 'cuda:0' if torch.cuda.is_available() else 'cpu'\n",
    "model = model.to(device)\n",
    "print(\"Using batch size 8\")\n",
    "batch_dataloader = torch.utils.data.DataLoader(batch_tokens, batch_size=8)\n",
    "\n",
    "output = []\n",
    "with torch.no_grad():\n",
    "    for batch in tqdm(batch_dataloader):\n",
    "        result = model(batch.to(device), repr_layers=[6])  # because this is the 6-layer transformer\n",
    "        output += [result['representations'][6].detach().cpu().numpy()]\n",
    "\n",
    "outputs = np.vstack(output)\n",
    "\n",
    "# Generate per-sequence representations via averaging\n",
    "# NOTE: token 0 is always a beginning-of-sequence token, so the first residue is token 1.\n",
    "representations = []\n",
    "for output, seq in zip(outputs, df['Sequence']):\n",
    "    representations += [output[1 : len(seq) + 1].mean(0)]\n",
    "    \n",
    "representations = np.vstack(representations)\n",
    "representations.shape"
   ]
  },
  {
   "cell_type": "code",
   "execution_count": 67,
   "id": "b49e0639-38fc-438d-adec-da938e052ec1",
   "metadata": {},
   "outputs": [
    {
     "data": {
      "text/plain": [
       "477"
      ]
     },
     "execution_count": 67,
     "metadata": {},
     "output_type": "execute_result"
    }
   ],
   "source": [
    "len(output)"
   ]
  },
  {
   "cell_type": "code",
   "execution_count": 71,
   "id": "a4e6a9b7-93cf-4fe5-873e-aac80f97613f",
   "metadata": {},
   "outputs": [
    {
     "data": {
      "text/plain": [
       "476"
      ]
     },
     "execution_count": 71,
     "metadata": {},
     "output_type": "execute_result"
    }
   ],
   "source": [
    "len(df['Sequence'][3])"
   ]
  },
  {
   "cell_type": "code",
   "execution_count": 72,
   "id": "180583b3-0f75-49dd-977b-e1557b234e70",
   "metadata": {},
   "outputs": [],
   "source": [
    "residue_level_embed = []\n",
    "for output, seq in zip(outputs, df['Sequence']):\n",
    "    residue_level_embed += [output[1 : len(seq) + 1]]"
   ]
  },
  {
   "cell_type": "code",
   "execution_count": 74,
   "id": "e10ff815-f6a0-401b-a0ec-996de0132591",
   "metadata": {},
   "outputs": [],
   "source": [
    "# write the representations to file\n",
    "# out_file = f\"{model_name}_gapn_var_embed.npz\"\n",
    "# np.savez(out_file, representations)\n",
    "out_file = f\"{model_name}_gapn_var_residue_embed.npz\"\n",
    "np.savez(out_file, residue_level_embed)"
   ]
  },
  {
   "cell_type": "code",
   "execution_count": 167,
   "id": "9b434ec0-c768-42be-9061-35991a186765",
   "metadata": {},
   "outputs": [],
   "source": [
    "import itertools\n",
    "from sklearn.model_selection import KFold\n",
    "from sklearn.linear_model import LogisticRegression, Ridge\n",
    "from sklearn.svm import SVR\n",
    "# Kernel ridge regression (KRR) combines ridge regression (linear least squares with l2-norm regularization) with the kernel trick.\n",
    "# https://scikit-learn.org/stable/modules/generated/sklearn.kernel_ridge.KernelRidge.html\n",
    "# \"The form of the model learned by KRR is identical to support vector regression (SVR). \n",
    "# However, different loss functions are used: \n",
    "# KRR uses squared error loss while support vector regression uses epsilon-insensitive loss, \n",
    "# both combined with l2 regularization. In contrast to SVR, fitting a KRR model can be done in closed-form and is typically faster for medium-sized datasets. On the other hand, the learned model is non-sparse and thus slower than SVR, which learns a sparse model for epsilon > 0, at prediction-time.\n",
    "from sklearn.kernel_ridge import KernelRidge\n",
    "\n",
    "# alg = \"svr\"\n",
    "alg = 'krr'\n",
    "kernel = 'laplacian'\n",
    "normalize_vals = False\n",
    "wt_nadph = 41.342\n",
    "# log_transform = True\n",
    "log_transform = False\n",
    "\n",
    "# now run K-fold CV using ridge regression\n",
    "X = representations\n",
    "y = df['NAD+_initial_rate'].astype(float)\n",
    "# take the exponent of the training data and predicted probabilities so nothing is < 0\n",
    "\n",
    "y_train_test = y\n",
    "if normalize_vals:\n",
    "    y_train_test = np.asarray([max(0,x/wt_nadph) for x in y])\n",
    "if log_transform:\n",
    "    y_train_test = np.asarray([np.log(max(1,x)) for x in y])"
   ]
  },
  {
   "cell_type": "code",
   "execution_count": 110,
   "id": "7bf1db06-aa54-4199-bf8d-c8a8afa7f3b4",
   "metadata": {},
   "outputs": [
    {
     "name": "stdout",
     "output_type": "stream",
     "text": [
      "KFold(n_splits=5, random_state=None, shuffle=True)\n",
      "model_name\talpha\tavg_slope\tavg_mae\tavg_rmse\n",
      "esm1_t6_43M_UR50S\t1e-06\t100\t0.75\t122.17\t2.70\n",
      "esm1_t6_43M_UR50S\t1e-05\t100\t0.74\t131.39\t2.78\n",
      "esm1_t6_43M_UR50S\t0.0001\t100\t0.75\t127.97\t2.66\n",
      "esm1_t6_43M_UR50S\t0.001\t100\t0.73\t120.30\t2.80\n",
      "esm1_t6_43M_UR50S\t0.01\t100\t0.60\t138.42\t3.18\n",
      "esm1_t6_43M_UR50S\t0.1\t100\t0.30\t222.88\t4.34\n",
      "esm1_t6_43M_UR50S\t1\t100\t0.06\t303.37\t5.50\n",
      "esm1_t6_43M_UR50S\t10\t100\t-0.01\t305.91\t5.89\n",
      "best_rmse: 2.66, best_alpha: 0.0001\n"
     ]
    }
   ],
   "source": [
    "# This block has plain cross-validation\n",
    "kf = KFold(n_splits=5, shuffle=True)\n",
    "\n",
    "alphas = [1e-6, 1e-5, 0.0001, 0.001, 0.01, 0.1, 1, 10]\n",
    "gammas = [0.01, 0.1, 1, 10, 100]\n",
    "# alphas = [.01]\n",
    "repetitions = 10\n",
    "best_alpha = 0\n",
    "best_rmse = 10000\n",
    "best_y_pred = []\n",
    "# print(\"model_name\\talpha\\tgamma\\tavg_slope\\tavg_mae\\tavg_rmse\")\n",
    "print(\"model_name\\talpha\\tavg_slope\\tavg_mae\\tavg_rmse\")\n",
    "# for alpha, gamma in itertools.product(alphas, gammas):\n",
    "for alpha in alphas:\n",
    "    y_preds = []\n",
    "    maes = []\n",
    "    rmses = []\n",
    "    slopes = []\n",
    "    for rep in range(repetitions):\n",
    "        y_pred = np.zeros(len(y))\n",
    "        for train_index, test_index in kf.split(X):\n",
    "        #     print(\"TRAIN:\", train_index, \"TEST:\", test_index)\n",
    "            X_train, X_test = X[train_index], X[test_index]\n",
    "            y_train, y_test = y_train_test[train_index], y_train_test[test_index]\n",
    "            if alg == 'krr':\n",
    "#                 clf = KernelRidge(alpha=alpha, kernel='poly', gamma=gamma)\n",
    "                clf = KernelRidge(alpha=alpha, kernel=kernel)\n",
    "            elif alg == \"ridge\":\n",
    "                clf = Ridge(alpha=alpha)\n",
    "\n",
    "            clf.fit(X_train, y_train)\n",
    "            y_pred[test_index] = clf.predict(X_test)\n",
    "\n",
    "        y_preds.append(y_pred)\n",
    "        # mean avg error\n",
    "        mae = np.sum(np.abs(y_train_test - y_pred))\n",
    "        # also compute the root mean squared error\n",
    "        rmse = np.sqrt(np.sum((y_train_test - y_pred)**2) / len(y))\n",
    "        maes.append(mae)\n",
    "        rmses.append(rmse)\n",
    "        # and the slope\n",
    "        slope, intercept, r_value, p_value, std_err = linregress(y_train_test, y_pred)\n",
    "        slopes.append(slope)\n",
    "        \n",
    "    avg_mae = np.mean(mae)\n",
    "    avg_slope = np.mean(slopes)\n",
    "    avg_rmse = np.mean(rmses)\n",
    "    print(f\"{model_name}\\t{alpha}\\t{gamma}\\t{avg_slope:0.2f}\\t{avg_mae:0.2f}\\t{avg_rmse:0.2f}\")\n",
    "    \n",
    "    if avg_rmse < best_rmse:\n",
    "        best_rmse = avg_rmse\n",
    "#         best_alpha = (alpha, gamma)\n",
    "        best_alpha = alpha\n",
    "        best_y_pred = y_preds\n",
    "y_preds = best_y_pred\n",
    "print(f\"best_rmse: {best_rmse:0.2f}, best_alpha: {str(best_alpha)}\")"
   ]
  },
  {
   "cell_type": "code",
   "execution_count": 150,
   "id": "895084a9-0b06-45ef-a366-1b0207fdc6a6",
   "metadata": {},
   "outputs": [],
   "source": [
    "# another form of validation is if we leave out one variant at a time (e.g., all the sequences with that mutation)\n",
    "# first make the splits\n",
    "train_test_splits = []\n",
    "size_test = []\n",
    "test_count = defaultdict(int)\n",
    "for mut in mut_counts:\n",
    "#     train_seqs, test_seqs = \n",
    "    # skip the G209V mutation since it's so common\n",
    "    if mut == \"G209V\":\n",
    "        continue\n",
    "    train_seqs = [idx for idx, s in enumerate(seq_mutations) if mut not in s]\n",
    "    test_seqs = [idx for idx, s in enumerate(seq_mutations) if mut in s]\n",
    "    if len(test_seqs)/len(mut_counts) < .1:\n",
    "        continue\n",
    "    for s in test_seqs:\n",
    "        test_count[s] += 1\n",
    "#     print(mut, len(train_seqs), len(test_seqs))\n",
    "    train_test_splits.append((train_seqs, test_seqs))\n",
    "    size_test.append(len(test_seqs))\n",
    "#     break"
   ]
  },
  {
   "cell_type": "code",
   "execution_count": 151,
   "id": "dba6bcd2-6701-4ba0-b4c3-df27de90443e",
   "metadata": {},
   "outputs": [
    {
     "data": {
      "text/plain": [
       "60"
      ]
     },
     "execution_count": 151,
     "metadata": {},
     "output_type": "execute_result"
    }
   ],
   "source": [
    "# not all of the sequences are being left out because they don't all have common mutations\n",
    "len(test_count)"
   ]
  },
  {
   "cell_type": "code",
   "execution_count": 152,
   "id": "752a06ad-9fc0-423a-8ebc-4f345f61d90e",
   "metadata": {},
   "outputs": [],
   "source": [
    "# also try leaving out all other sequences with any of the mutations for the current sequence\n",
    "# first make the splits\n",
    "train_test_splits = []\n",
    "size_test = []\n",
    "test_count = defaultdict(int)\n",
    "# remove G209V since it's so common\n",
    "seq_muts2 = {s: set(muts) - set([\"G209V\"]) for s, muts in dict(seq_mutations).items()}\n",
    "for s, muts in seq_muts2.items():\n",
    "    if len(muts) == 0:\n",
    "        continue\n",
    "    train_seqs = [idx for idx, (s, muts2) in enumerate(seq_muts2.items()) if len(muts & muts2) == 0]\n",
    "    test_seqs = [idx for idx, (s, muts2) in enumerate(seq_muts2.items()) if len(muts & muts2) != 0]\n",
    "#     if len(test_seqs)/len(mut_counts) < .1:\n",
    "#         continue\n",
    "    for s in test_seqs:\n",
    "        test_count[s] += 1\n",
    "#     print(mut, len(train_seqs), len(test_seqs))\n",
    "    train_test_splits.append((train_seqs, test_seqs))\n",
    "    size_test.append(len(test_seqs))\n",
    "#     break"
   ]
  },
  {
   "cell_type": "code",
   "execution_count": 153,
   "id": "6bea3511-ecd1-4d7d-a852-cbd010509541",
   "metadata": {},
   "outputs": [
    {
     "data": {
      "image/png": "[encoded data removed]",
      "text/plain": [
       "<Figure size 432x288 with 1 Axes>"
      ]
     },
     "metadata": {},
     "output_type": "display_data"
    }
   ],
   "source": [
    "plt.hist(size_test)\n",
    "plt.xlabel(\"# seqs left out per test set\")\n",
    "plt.show()"
   ]
  },
  {
   "cell_type": "code",
   "execution_count": 154,
   "id": "a896cb7d-094d-48b6-9eb7-625e597a47cf",
   "metadata": {},
   "outputs": [
    {
     "name": "stdout",
     "output_type": "stream",
     "text": [
      "model_name\talpha\tavg_slope\tavg_mae\tavg_rmse\n",
      "esm1_t6_43M_UR50S\t1e-06\t100\tnan\t147.77\t2.16\n",
      "esm1_t6_43M_UR50S\t1e-05\t100\tnan\t147.80\t2.16\n",
      "esm1_t6_43M_UR50S\t0.0001\t100\tnan\t148.14\t2.17\n",
      "esm1_t6_43M_UR50S\t0.001\t100\tnan\t151.48\t2.19\n",
      "esm1_t6_43M_UR50S\t0.01\t100\tnan\t167.45\t2.38\n",
      "esm1_t6_43M_UR50S\t0.1\t100\tnan\t186.08\t2.84\n",
      "esm1_t6_43M_UR50S\t1\t100\tnan\t196.94\t3.31\n",
      "esm1_t6_43M_UR50S\t10\t100\tnan\t201.26\t3.45\n",
      "best_rmse: 2.17, best_alpha: 0.0001\n"
     ]
    }
   ],
   "source": [
    "# this block uses mutation-based splits\n",
    "alphas = [1e-6, 1e-5, 0.0001, 0.001, 0.01, 0.1, 1, 10]\n",
    "gammas = [0.01, 0.1, 1, 10, 100]\n",
    "# alphas = [.01]\n",
    "repetitions = 10\n",
    "best_alpha = 0\n",
    "best_rmse = 10000\n",
    "best_y_pred = []\n",
    "# print(\"model_name\\talpha\\tgamma\\tavg_slope\\tavg_mae\\tavg_rmse\")\n",
    "print(\"model_name\\talpha\\tavg_slope\\tavg_mae\\tavg_rmse\")\n",
    "# for alpha, gamma in itertools.product(alphas, gammas):\n",
    "for alpha in alphas:\n",
    "    y_preds = []\n",
    "    maes = []\n",
    "    rmses = []\n",
    "    slopes = []\n",
    "\n",
    "    for train_index, test_index in train_test_splits:\n",
    "        # initialize with numpy nans that shouldn't be included in the plot if they \n",
    "        y_pred = np.empty(len(y))\n",
    "        y_pred[:] = np.nan\n",
    "    #     print(\"TRAIN:\", train_index, \"TEST:\", test_index)\n",
    "        X_train, X_test = X[train_index], X[test_index]\n",
    "        y_train, y_test = y_train_test[train_index], y_train_test[test_index]\n",
    "        if alg == 'krr':\n",
    "#                 clf = KernelRidge(alpha=alpha, kernel='poly', gamma=gamma)\n",
    "            clf = KernelRidge(alpha=alpha, kernel=kernel)\n",
    "        elif alg == \"ridge\":\n",
    "            clf = Ridge(alpha=alpha)\n",
    "\n",
    "        clf.fit(X_train, y_train)\n",
    "        y_pred[test_index] = clf.predict(X_test)\n",
    "\n",
    "        y_preds.append(y_pred)\n",
    "        # mean avg error\n",
    "        mae = np.sum(np.abs(y_train_test - y_pred))\n",
    "        # also compute the root mean squared error\n",
    "        rmse = np.sqrt(np.sum((y_train_test - y_pred)**2) / len(y))\n",
    "        maes.append(mae)\n",
    "        rmses.append(rmse)\n",
    "        # and the slope\n",
    "        slope, intercept, r_value, p_value, std_err = linregress(y_train_test, y_pred)\n",
    "        slopes.append(slope)\n",
    "        \n",
    "    avg_mae = np.mean(mae)\n",
    "    avg_slope = np.mean(slopes)\n",
    "    avg_rmse = np.mean(rmses)\n",
    "    print(f\"{model_name}\\t{alpha}\\t{gamma}\\t{avg_slope:0.2f}\\t{avg_mae:0.2f}\\t{avg_rmse:0.2f}\")\n",
    "    \n",
    "    if avg_rmse < best_rmse + 0.01:\n",
    "#     if avg_rmse < best_rmse:\n",
    "        best_rmse = avg_rmse\n",
    "#         best_alpha = (alpha, gamma)\n",
    "        best_alpha = alpha\n",
    "        best_y_pred = y_preds\n",
    "y_preds = best_y_pred\n",
    "print(f\"best_rmse: {best_rmse:0.2f}, best_alpha: {str(best_alpha)}\")"
   ]
  },
  {
   "cell_type": "code",
   "execution_count": 155,
   "id": "021d2e01-e396-49b9-afe4-ee88a450629f",
   "metadata": {},
   "outputs": [
    {
     "name": "stderr",
     "output_type": "stream",
     "text": [
      "/autofs/nccs-svm1_proj/bie108/jlaw/envs/fairseq-open-ce-1.1.3-py37-0/lib/python3.7/site-packages/ipykernel_launcher.py:4: RuntimeWarning: Mean of empty slice\n",
      "  after removing the cwd from sys.path.\n"
     ]
    },
    {
     "data": {
      "text/html": [
       "<div>\n",
       "<style scoped>\n",
       "    .dataframe tbody tr th:only-of-type {\n",
       "        vertical-align: middle;\n",
       "    }\n",
       "\n",
       "    .dataframe tbody tr th {\n",
       "        vertical-align: top;\n",
       "    }\n",
       "\n",
       "    .dataframe thead th {\n",
       "        text-align: right;\n",
       "    }\n",
       "</style>\n",
       "<table border=\"1\" class=\"dataframe\">\n",
       "  <thead>\n",
       "    <tr style=\"text-align: right;\">\n",
       "      <th></th>\n",
       "      <th>y</th>\n",
       "      <th>y_pred</th>\n",
       "    </tr>\n",
       "  </thead>\n",
       "  <tbody>\n",
       "    <tr>\n",
       "      <th>pSM038</th>\n",
       "      <td>0.80667</td>\n",
       "      <td>NaN</td>\n",
       "    </tr>\n",
       "    <tr>\n",
       "      <th>pSM050</th>\n",
       "      <td>-0.00333</td>\n",
       "      <td>-0.596059</td>\n",
       "    </tr>\n",
       "  </tbody>\n",
       "</table>\n",
       "</div>"
      ],
      "text/plain": [
       "              y    y_pred\n",
       "pSM038  0.80667       NaN\n",
       "pSM050 -0.00333 -0.596059"
      ]
     },
     "execution_count": 155,
     "metadata": {},
     "output_type": "execute_result"
    }
   ],
   "source": [
    "if log_transform:\n",
    "    y_preds = [np.exp(ys) for ys in y_preds]\n",
    "    df2 = pd.DataFrame({'y': np.exp(y_train_test), 'y_pred': np.mean(y_preds, axis=0)})\n",
    "df2 = pd.DataFrame({'y': y_train_test, 'y_pred': np.nanmean(y_preds, axis=0)})\n",
    "df2.head(2)"
   ]
  },
  {
   "cell_type": "code",
   "execution_count": 156,
   "id": "3d72e757-bef6-49d9-8cd5-f85b91cd9dd0",
   "metadata": {},
   "outputs": [
    {
     "name": "stderr",
     "output_type": "stream",
     "text": [
      "/ccs/home/jlaw/.local/lib/python3.7/site-packages/numpy/lib/nanfunctions.py:1665: RuntimeWarning: Degrees of freedom <= 0 for slice.\n",
      "  keepdims=keepdims)\n",
      "/autofs/nccs-svm1_proj/bie108/jlaw/envs/fairseq-open-ce-1.1.3-py37-0/lib/python3.7/site-packages/ipykernel_launcher.py:4: RuntimeWarning: All-NaN axis encountered\n",
      "  after removing the cwd from sys.path.\n",
      "/autofs/nccs-svm1_proj/bie108/jlaw/envs/fairseq-open-ce-1.1.3-py37-0/lib/python3.7/site-packages/ipykernel_launcher.py:5: RuntimeWarning: All-NaN axis encountered\n",
      "  \"\"\"\n"
     ]
    },
    {
     "data": {
      "text/plain": [
       "Text(0.5, 0, 'y')"
      ]
     },
     "execution_count": 156,
     "metadata": {},
     "output_type": "execute_result"
    },
    {
     "data": {
      "image/png": "[encoded data removed]",
      "text/plain": [
       "<Figure size 432x288 with 1 Axes>"
      ]
     },
     "metadata": {},
     "output_type": "display_data"
    }
   ],
   "source": [
    "f, ax = plt.subplots()\n",
    "color = \"#3291a8\"\n",
    "std_dev = np.nanstd(y_preds, axis=0)\n",
    "ax.errorbar(df2['y'], df2['y_pred'], yerr=np.nanmax(y_preds, axis=0) - df2['y_pred'], fmt='o', lolims=True, ms=0, lw=1, ls=None, capsize=.5, ecolor=color)\n",
    "ax.errorbar(df2['y'], df2['y_pred'], yerr=df2['y_pred'] - np.nanmin(y_preds, axis=0), fmt='o', uplims=True, ms=0, lw=1, ls=None, capsize=.5, ecolor=color)\n",
    "ax.errorbar(df2['y'], df2['y_pred'], yerr=std_dev, fmt=\"o\", ms=8, lw=3, color=color)\n",
    "# df2.plot.scatter(x='y', y=\"y_pred\", s=1, ax=ax)\n",
    "plt.suptitle(f\"GapN NAD+ {alg} {kernel} (alpha={best_alpha})\", fontsize=14)\n",
    "ax.set_title(f\"Leave-all-muts-out validation, ESM model: {model_name}\", fontsize=12)\n",
    "ax.set_ylabel(\"y_pred\")\n",
    "ax.set_xlabel(\"y\")\n",
    "\n",
    "# out_file = f\"viz/gapn-nadh-ridge-{model_name}.svg\"\n",
    "# print(out_file)\n",
    "# os.makedirs(os.path.dirname(out_file), exist_ok=True)\n",
    "# plt.savefig(out_file, bbox_inches='tight')\n",
    "# plt.savefig(out_file.replace('.svg','.png'), bbox_inches='tight')\n",
    "# plt.savefig(out_file.replace('.svg','.pdf'), bbox_inches='tight')"
   ]
  },
  {
   "cell_type": "code",
   "execution_count": 141,
   "id": "b8114481-7800-4dfd-99d6-c0745c31706a",
   "metadata": {},
   "outputs": [
    {
     "name": "stderr",
     "output_type": "stream",
     "text": [
      "/ccs/home/jlaw/.local/lib/python3.7/site-packages/numpy/lib/nanfunctions.py:1665: RuntimeWarning: Degrees of freedom <= 0 for slice.\n",
      "  keepdims=keepdims)\n",
      "/autofs/nccs-svm1_proj/bie108/jlaw/envs/fairseq-open-ce-1.1.3-py37-0/lib/python3.7/site-packages/ipykernel_launcher.py:4: RuntimeWarning: All-NaN axis encountered\n",
      "  after removing the cwd from sys.path.\n",
      "/autofs/nccs-svm1_proj/bie108/jlaw/envs/fairseq-open-ce-1.1.3-py37-0/lib/python3.7/site-packages/ipykernel_launcher.py:5: RuntimeWarning: All-NaN axis encountered\n",
      "  \"\"\"\n"
     ]
    },
    {
     "data": {
      "text/plain": [
       "Text(0.5, 0, 'y')"
      ]
     },
     "execution_count": 141,
     "metadata": {},
     "output_type": "execute_result"
    },
    {
     "data": {
      "image/png": "[encoded data removed]",
      "text/plain": [
       "<Figure size 432x288 with 1 Axes>"
      ]
     },
     "metadata": {},
     "output_type": "display_data"
    }
   ],
   "source": [
    "f, ax = plt.subplots()\n",
    "color = \"#3291a8\"\n",
    "std_dev = np.nanstd(y_preds, axis=0)\n",
    "ax.errorbar(df2['y'], df2['y_pred'], yerr=np.nanmax(y_preds, axis=0) - df2['y_pred'], fmt='o', lolims=True, ms=0, lw=1, ls=None, capsize=.5, ecolor=color)\n",
    "ax.errorbar(df2['y'], df2['y_pred'], yerr=df2['y_pred'] - np.nanmin(y_preds, axis=0), fmt='o', uplims=True, ms=0, lw=1, ls=None, capsize=.5, ecolor=color)\n",
    "ax.errorbar(df2['y'], df2['y_pred'], yerr=std_dev, fmt=\"o\", ms=8, lw=3, color=color)\n",
    "# df2.plot.scatter(x='y', y=\"y_pred\", s=1, ax=ax)\n",
    "plt.suptitle(f\"GapN NAD+ {alg} {kernel} (alpha={best_alpha})\", fontsize=14)\n",
    "ax.set_title(f\"Leave-one-mut-out validation, ESM model: {model_name}\", fontsize=12)\n",
    "ax.set_ylabel(\"y_pred\")\n",
    "ax.set_xlabel(\"y\")\n",
    "\n",
    "# out_file = f\"viz/gapn-nadh-ridge-{model_name}.svg\"\n",
    "# print(out_file)\n",
    "# os.makedirs(os.path.dirname(out_file), exist_ok=True)\n",
    "# plt.savefig(out_file, bbox_inches='tight')\n",
    "# plt.savefig(out_file.replace('.svg','.png'), bbox_inches='tight')\n",
    "# plt.savefig(out_file.replace('.svg','.pdf'), bbox_inches='tight')"
   ]
  },
  {
   "cell_type": "code",
   "execution_count": 63,
   "id": "f720f00d-91e1-4071-ae27-5986b821631e",
   "metadata": {},
   "outputs": [
    {
     "data": {
      "text/plain": [
       "Text(0.5, 0, 'exp(log y)')"
      ]
     },
     "execution_count": 63,
     "metadata": {},
     "output_type": "execute_result"
    },
    {
     "data": {
      "image/png": "[encoded data removed]",
      "text/plain": [
       "<Figure size 432x288 with 1 Axes>"
      ]
     },
     "metadata": {},
     "output_type": "display_data"
    }
   ],
   "source": [
    "f, ax = plt.subplots()\n",
    "color = \"#3291a8\"\n",
    "std_dev = np.std(y_preds, axis=0)\n",
    "ax.errorbar(df2['y'], df2['y_pred'], yerr=np.max(y_preds, axis=0) - df2['y_pred'], fmt='o', lolims=True, ms=0, lw=1, ls=None, capsize=.5, ecolor=color)\n",
    "ax.errorbar(df2['y'], df2['y_pred'], yerr=df2['y_pred'] - np.min(y_preds, axis=0), fmt='o', uplims=True, ms=0, lw=1, ls=None, capsize=.5, ecolor=color)\n",
    "ax.errorbar(df2['y'], df2['y_pred'], yerr=std_dev, fmt=\"o\", ms=8, lw=3, color=color)\n",
    "# df2.plot.scatter(x='y', y=\"y_pred\", s=1, ax=ax)\n",
    "plt.suptitle(f\"GapN NAD+ {alg} {kernel} (alpha={best_alpha})\", fontsize=14)\n",
    "ax.set_title(f\"5-fold CV ({repetitions}x), ESM model: {model_name}\", fontsize=12)\n",
    "ax.set_ylabel(\"exp(log y_pred)\")\n",
    "ax.set_xlabel(\"exp(log y)\")\n",
    "\n",
    "# out_file = f\"viz/gapn-nadh-ridge-{model_name}.svg\"\n",
    "# print(out_file)\n",
    "# os.makedirs(os.path.dirname(out_file), exist_ok=True)\n",
    "# plt.savefig(out_file, bbox_inches='tight')\n",
    "# plt.savefig(out_file.replace('.svg','.png'), bbox_inches='tight')\n",
    "# plt.savefig(out_file.replace('.svg','.pdf'), bbox_inches='tight')"
   ]
  },
  {
   "cell_type": "code",
   "execution_count": 21,
   "id": "e0ffbdd6-d5ca-40f2-a688-3230f2ae537d",
   "metadata": {},
   "outputs": [
    {
     "data": {
      "text/plain": [
       "(array([ 7.,  7.,  8.,  7.,  9.,  7., 13.,  8.,  3.,  5.]),\n",
       " array([-1.93407059, -0.82428169,  0.2855072 ,  1.3952961 ,  2.50508499,\n",
       "         3.61487389,  4.72466278,  5.83445168,  6.94424057,  8.05402946,\n",
       "         9.16381836]),\n",
       " <BarContainer object of 10 artists>)"
      ]
     },
     "execution_count": 21,
     "metadata": {},
     "output_type": "execute_result"
    },
    {
     "data": {
      "image/png": "[encoded data removed]",
      "text/plain": [
       "<Figure size 432x288 with 1 Axes>"
      ]
     },
     "metadata": {},
     "output_type": "display_data"
    }
   ],
   "source": [
    "plt.hist(y_pred)\n"
   ]
  },
  {
   "cell_type": "code",
   "execution_count": null,
   "id": "11cef2ba-75cb-4924-8ee6-1d8f11e7cfd4",
   "metadata": {},
   "outputs": [],
   "source": []
  }
 ],
 "metadata": {
  "kernelspec": {
   "display_name": "Python 3",
   "language": "python",
   "name": "python3"
  },
  "language_info": {
   "codemirror_mode": {
    "name": "ipython",
    "version": 3
   },
   "file_extension": ".py",
   "mimetype": "text/x-python",
   "name": "python",
   "nbconvert_exporter": "python",
   "pygments_lexer": "ipython3",
   "version": "3.7.10"
  }
 },
 "nbformat": 4,
 "nbformat_minor": 5
}
