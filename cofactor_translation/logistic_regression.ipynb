{
 "cells": [
  {
   "cell_type": "code",
   "execution_count": 1,
   "metadata": {},
   "outputs": [],
   "source": [
    "import pandas as pd\n",
    "import numpy as np\n",
    "import matplotlib.pyplot as plt\n",
    "import seaborn as sns\n",
    "\n",
    "%matplotlib inline\n",
    "sns.set(context='talk', style='ticks',\n",
    "        color_codes=True, rc={'legend.frameon': False})"
   ]
  },
  {
   "cell_type": "markdown",
   "metadata": {},
   "source": [
    "Load the data I generated from cobrapy, examples of enzymes that have both a NADH and NADPH version"
   ]
  },
  {
   "cell_type": "code",
   "execution_count": 17,
   "metadata": {},
   "outputs": [
    {
     "data": {
      "text/html": [
       "<div>\n",
       "<style scoped>\n",
       "    .dataframe tbody tr th:only-of-type {\n",
       "        vertical-align: middle;\n",
       "    }\n",
       "\n",
       "    .dataframe tbody tr th {\n",
       "        vertical-align: top;\n",
       "    }\n",
       "\n",
       "    .dataframe thead th {\n",
       "        text-align: right;\n",
       "    }\n",
       "</style>\n",
       "<table border=\"1\" class=\"dataframe\">\n",
       "  <thead>\n",
       "    <tr style=\"text-align: right;\">\n",
       "      <th></th>\n",
       "      <th>model</th>\n",
       "      <th>reaction</th>\n",
       "      <th>gene_id</th>\n",
       "      <th>protein_sequence</th>\n",
       "      <th>NADP</th>\n",
       "    </tr>\n",
       "  </thead>\n",
       "  <tbody>\n",
       "    <tr>\n",
       "      <th>0</th>\n",
       "      <td>iEK1008</td>\n",
       "      <td>IPDPS</td>\n",
       "      <td>Rv3382c</td>\n",
       "      <td>MAEVFVGPVAQGYASGEVTVLLASPRSFCAGVERAIETVKRVLDVA...</td>\n",
       "      <td>False</td>\n",
       "    </tr>\n",
       "    <tr>\n",
       "      <th>1</th>\n",
       "      <td>iCN718</td>\n",
       "      <td>IPDPS</td>\n",
       "      <td>ABAYE_RS02095</td>\n",
       "      <td>MEIVLANPRGFCAGVDRAIAIVNRALECFNPPIYVRHEVVHNKFVV...</td>\n",
       "      <td>False</td>\n",
       "    </tr>\n",
       "    <tr>\n",
       "      <th>2</th>\n",
       "      <td>iLJ478</td>\n",
       "      <td>IPDPS</td>\n",
       "      <td>TM1444</td>\n",
       "      <td>MKIVVAKNIGFCFGVERAIRTVEELLDEGKKVVTDGEIVHNKQVME...</td>\n",
       "      <td>False</td>\n",
       "    </tr>\n",
       "    <tr>\n",
       "      <th>3</th>\n",
       "      <td>iCHOv1_DG44</td>\n",
       "      <td>DHPR</td>\n",
       "      <td>100769495</td>\n",
       "      <td>MAASGEARRVLVYGGRGALGSRCVQAFRARNWWVASIDVVENEEAS...</td>\n",
       "      <td>False</td>\n",
       "    </tr>\n",
       "    <tr>\n",
       "      <th>4</th>\n",
       "      <td>iMM1415</td>\n",
       "      <td>DHPR</td>\n",
       "      <td>110391</td>\n",
       "      <td>MAASGEARRVLVYGGRGALGSRCVQAFRARNWWVASIDVVENEEAS...</td>\n",
       "      <td>False</td>\n",
       "    </tr>\n",
       "    <tr>\n",
       "      <th>...</th>\n",
       "      <td>...</td>\n",
       "      <td>...</td>\n",
       "      <td>...</td>\n",
       "      <td>...</td>\n",
       "      <td>...</td>\n",
       "    </tr>\n",
       "    <tr>\n",
       "      <th>1292</th>\n",
       "      <td>iEC1356_Bl21DE3</td>\n",
       "      <td>GLUSy</td>\n",
       "      <td>ECD_RS16020</td>\n",
       "      <td>MLYDKSLERDNCGFGLIAHIEGEPSHKVVRTAIHALARMQHRGAIL...</td>\n",
       "      <td>True</td>\n",
       "    </tr>\n",
       "    <tr>\n",
       "      <th>1293</th>\n",
       "      <td>iCN718</td>\n",
       "      <td>GLUSy</td>\n",
       "      <td>ABAYE_RS02030</td>\n",
       "      <td>MAERLNNDFQFLDVPRQDPEKKDITVRKAEFVEIYKPFTSETVTNQ...</td>\n",
       "      <td>True</td>\n",
       "    </tr>\n",
       "    <tr>\n",
       "      <th>1294</th>\n",
       "      <td>iCN718</td>\n",
       "      <td>GLUSy</td>\n",
       "      <td>ABAYE_RS02025</td>\n",
       "      <td>MHMPSPNTVAPAQGLYQPDEFKDNCGFGLIAHMKGESSHHLVETAI...</td>\n",
       "      <td>True</td>\n",
       "    </tr>\n",
       "    <tr>\n",
       "      <th>1295</th>\n",
       "      <td>iEC1349_Crooks</td>\n",
       "      <td>GLUSy</td>\n",
       "      <td>ECOLC_RS02600</td>\n",
       "      <td>MLYDKSLERDNCGFGLIAHIEGEPSHKVVRTAIHALARMQHRGAIL...</td>\n",
       "      <td>True</td>\n",
       "    </tr>\n",
       "    <tr>\n",
       "      <th>1296</th>\n",
       "      <td>iMM904</td>\n",
       "      <td>GLYCDy</td>\n",
       "      <td>YOR120W</td>\n",
       "      <td>MPATLHDSTKILSLNTGAQIPQIGLGTWQSKENDAYKAVLTALKDG...</td>\n",
       "      <td>True</td>\n",
       "    </tr>\n",
       "  </tbody>\n",
       "</table>\n",
       "<p>1297 rows × 5 columns</p>\n",
       "</div>"
      ],
      "text/plain": [
       "                model reaction        gene_id  \\\n",
       "0             iEK1008    IPDPS        Rv3382c   \n",
       "1              iCN718    IPDPS  ABAYE_RS02095   \n",
       "2              iLJ478    IPDPS         TM1444   \n",
       "3         iCHOv1_DG44     DHPR      100769495   \n",
       "4             iMM1415     DHPR         110391   \n",
       "...               ...      ...            ...   \n",
       "1292  iEC1356_Bl21DE3    GLUSy    ECD_RS16020   \n",
       "1293           iCN718    GLUSy  ABAYE_RS02030   \n",
       "1294           iCN718    GLUSy  ABAYE_RS02025   \n",
       "1295   iEC1349_Crooks    GLUSy  ECOLC_RS02600   \n",
       "1296           iMM904   GLYCDy        YOR120W   \n",
       "\n",
       "                                       protein_sequence   NADP  \n",
       "0     MAEVFVGPVAQGYASGEVTVLLASPRSFCAGVERAIETVKRVLDVA...  False  \n",
       "1     MEIVLANPRGFCAGVDRAIAIVNRALECFNPPIYVRHEVVHNKFVV...  False  \n",
       "2     MKIVVAKNIGFCFGVERAIRTVEELLDEGKKVVTDGEIVHNKQVME...  False  \n",
       "3     MAASGEARRVLVYGGRGALGSRCVQAFRARNWWVASIDVVENEEAS...  False  \n",
       "4     MAASGEARRVLVYGGRGALGSRCVQAFRARNWWVASIDVVENEEAS...  False  \n",
       "...                                                 ...    ...  \n",
       "1292  MLYDKSLERDNCGFGLIAHIEGEPSHKVVRTAIHALARMQHRGAIL...   True  \n",
       "1293  MAERLNNDFQFLDVPRQDPEKKDITVRKAEFVEIYKPFTSETVTNQ...   True  \n",
       "1294  MHMPSPNTVAPAQGLYQPDEFKDNCGFGLIAHMKGESSHHLVETAI...   True  \n",
       "1295  MLYDKSLERDNCGFGLIAHIEGEPSHKVVRTAIHALARMQHRGAIL...   True  \n",
       "1296  MPATLHDSTKILSLNTGAQIPQIGLGTWQSKENDAYKAVLTALKDG...   True  \n",
       "\n",
       "[1297 rows x 5 columns]"
      ]
     },
     "execution_count": 17,
     "metadata": {},
     "output_type": "execute_result"
    }
   ],
   "source": [
    "seq_df = pd.read_csv('genes_with_sequences.csv', index_col=0)\n",
    "rxn_pairs = pd.read_csv('reaction_pairs.csv')\n",
    "seq_df_dedup = seq_df.drop_duplicates(subset='protein_sequence', keep=False)\n",
    "seq_df_dedup = seq_df_dedup.merge(rxn_pairs.melt(value_name='reaction'), on='reaction')\n",
    "seq_df_dedup['NADP'] = seq_df_dedup.variable.str.contains('nadp')\n",
    "seq_df_dedup = seq_df_dedup.drop(['variable'], 1)\n",
    "seq_df_dedup"
   ]
  },
  {
   "cell_type": "markdown",
   "metadata": {},
   "source": [
    "I'm running this on the GPU nodes, but the code shouldn't have to change too much for the CPU nodes"
   ]
  },
  {
   "cell_type": "code",
   "execution_count": 18,
   "metadata": {},
   "outputs": [
    {
     "data": {
      "text/plain": [
       "True"
      ]
     },
     "execution_count": 18,
     "metadata": {},
     "output_type": "execute_result"
    }
   ],
   "source": [
    "import torch\n",
    "torch.cuda.is_available()"
   ]
  },
  {
   "cell_type": "markdown",
   "metadata": {},
   "source": [
    "Generate protein-level feature vectors using [ESM](https://github.com/facebookresearch/esm)"
   ]
  },
  {
   "cell_type": "code",
   "execution_count": 30,
   "metadata": {},
   "outputs": [],
   "source": [
    "torch.hub.set_dir('/tmp/.cache/torch')\n",
    "model, alphabet = torch.hub.load(\"facebookresearch/esm\", \"esm1_t6_43M_UR50S\")\n",
    "\n",
    "batch_converter = alphabet.get_batch_converter()\n",
    "batch_labels, batch_strs, batch_tokens = batch_converter(list(seq_df_dedup.protein_sequence.items()))\n",
    "\n",
    "device = 'cuda:0' if torch.cuda.is_available() else 'cpu'\n",
    "model = model.to(device)\n",
    "batch_dataloader = torch.utils.data.DataLoader(batch_tokens, batch_size=8)\n",
    "\n",
    "from tqdm import tqdm\n",
    "\n",
    "output = []\n",
    "with torch.no_grad():\n",
    "    for batch in tqdm(batch_tokens):\n",
    "        result = model(batch.to(device), repr_layers=[6])  # because this is the 6-layer transformer\n",
    "        output += [result['representations'][6].detach().cpu().numpy()]\n",
    "\n",
    "outputs = np.vstack(output)\n",
    "\n",
    "# Generate per-sequence representations via averaging\n",
    "# NOTE: token 0 is always a beginning-of-sequence token, so the first residue is token 1.\n",
    "representations = []\n",
    "for output, seq in zip(outputs, seq_df_dedup.protein_sequence):\n",
    "    representations += [output[1 : len(seq) + 1].mean(0)]\n",
    "    \n",
    "representations = np.vstack(representations)\n",
    "representations.shape"
   ]
  },
  {
   "cell_type": "markdown",
   "metadata": {},
   "source": [
    "Run a logistic regression and plot the precision recall curve"
   ]
  },
  {
   "cell_type": "code",
   "execution_count": 142,
   "metadata": {},
   "outputs": [
    {
     "data": {
      "text/plain": [
       "<sklearn.metrics._plot.precision_recall_curve.PrecisionRecallDisplay at 0x7f86e8038790>"
      ]
     },
     "execution_count": 142,
     "metadata": {},
     "output_type": "execute_result"
    },
    {
     "data": {
      "image/png": "[encoded data removed]",
      "text/plain": [
       "<Figure size 432x288 with 1 Axes>"
      ]
     },
     "metadata": {},
     "output_type": "display_data"
    }
   ],
   "source": [
    "from sklearn.linear_model import LogisticRegression\n",
    "from sklearn.model_selection import train_test_split\n",
    "\n",
    "X = representations\n",
    "y = seq_df_dedup.NADP.astype(float)\n",
    "\n",
    "# Reserve 20% of the data for validation\n",
    "X_train, X_test, y_train, y_test = train_test_split(X, y, test_size=0.4, random_state=1)\n",
    "\n",
    "log_reg = LogisticRegression(max_iter=1000)\n",
    "log_reg.fit(X_train, y_train)\n",
    "\n",
    "from sklearn.metrics import plot_precision_recall_curve\n",
    "\n",
    "plot_precision_recall_curve(log_reg, X_test, y_test)"
   ]
  }
 ],
 "metadata": {
  "kernelspec": {
   "display_name": "Python 3",
   "language": "python",
   "name": "python3"
  },
  "language_info": {
   "codemirror_mode": {
    "name": "ipython",
    "version": 3
   },
   "file_extension": ".py",
   "mimetype": "text/x-python",
   "name": "python",
   "nbconvert_exporter": "python",
   "pygments_lexer": "ipython3",
   "version": "3.7.9"
  }
 },
 "nbformat": 4,
 "nbformat_minor": 4
}
