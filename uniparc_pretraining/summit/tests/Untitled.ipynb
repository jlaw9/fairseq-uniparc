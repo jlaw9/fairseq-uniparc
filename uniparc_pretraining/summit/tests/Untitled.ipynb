{
 "cells": [
  {
   "cell_type": "code",
   "execution_count": 1,
   "metadata": {},
   "outputs": [],
   "source": [
    "from fairseq.data import MMapIndexedDataset"
   ]
  },
  {
   "cell_type": "code",
   "execution_count": 3,
   "metadata": {},
   "outputs": [],
   "source": [
    "dataset = MMapIndexedDataset('/ccs/home/pstjohn/project_work/split_bin/train_00/train')"
   ]
  },
  {
   "cell_type": "code",
   "execution_count": 11,
   "metadata": {},
   "outputs": [
    {
     "data": {
      "text/plain": [
       "10000000"
      ]
     },
     "execution_count": 11,
     "metadata": {},
     "output_type": "execute_result"
    }
   ],
   "source": [
    "len(dataset)"
   ]
  },
  {
   "cell_type": "code",
   "execution_count": 18,
   "metadata": {},
   "outputs": [
    {
     "data": {
      "text/plain": [
       "tensor([20,  7,  8,  7, 17, 13,  4,  4,  8, 12,  6, 12,  6, 14,  8,  8,  8, 21,\n",
       "        11,  7,  6, 14, 20, 10,  5,  5,  6, 10, 17,  7, 10,  9,  4,  5, 13,  8,\n",
       "        13, 16,  4, 21, 10,  7, 13, 10,  7, 16,  5, 16,  4, 17,  6,  8,  4,  6,\n",
       "         5, 11,  6, 21,  6, 21,  6,  8,  9, 18,  5,  7,  4, 22,  6,  4,  9,  6,\n",
       "         9, 13, 14,  9,  8,  7, 13, 11, 13, 11,  5, 14,  5, 10,  5,  9, 15, 12,\n",
       "        10,  8, 11, 10, 10, 12, 10,  4, 13,  6,  8, 10,  9, 12, 13, 17, 13, 14,\n",
       "        13,  7, 13,  4,  7,  4, 21, 10, 10, 15,  8,  4, 14, 17, 21, 14, 18,  6,\n",
       "        20, 11, 17, 11,  5, 22, 11,  6, 10,  5,  6,  9, 16, 14, 16,  4,  7, 11,\n",
       "         9, 10, 11, 19, 19,  8, 12,  6,  6,  6, 17,  7,  4,  5, 13, 13,  6,  8,\n",
       "         6, 16, 14,  9,  4, 10, 14, 13, 14, 11, 14, 20, 14, 19, 14, 17, 10, 11,\n",
       "         5,  5,  9,  4,  4,  5, 12, 23,  5, 10,  9,  6,  4, 10, 12,  8, 13,  7,\n",
       "         5,  4,  5, 18,  9, 23,  5, 10,  4, 14,  9, 11,  9, 12, 10,  5,  6,  4,\n",
       "         4, 10, 12, 22, 10,  7, 20,  5, 13, 23,  7, 10, 21,  6, 23, 13, 11, 14,\n",
       "         6,  7,  4, 14,  6,  6,  4, 15,  7, 10, 10, 10,  8, 21,  9,  4, 16,  9,\n",
       "        16,  4,  4, 10, 11,  5,  8, 11,  9, 10, 14,  7, 18,  5, 13, 14,  4,  5,\n",
       "         5, 20, 13, 22,  7, 11,  4, 22,  5,  4,  5,  7, 18,  9,  9, 18,  5,  5,\n",
       "         6,  6, 10,  7,  7, 11,  5, 14, 11, 18,  6,  5,  5,  6, 12, 12, 14,  5,\n",
       "         7,  4, 21, 19,  5,  7, 10, 17,  7, 14,  6, 11, 13, 13, 13,  5, 12,  7,\n",
       "        10, 17,  4,  4, 11,  5,  6,  5, 12,  6,  5, 12, 19, 16, 16, 11,  6,  8,\n",
       "        12,  8,  6,  5, 16,  7,  6, 23, 16,  6,  9,  7,  6, 11,  5, 23,  8, 20,\n",
       "         5,  5,  6,  5,  4,  5,  9,  4,  4,  6,  6, 11,  7, 13, 16,  7,  9, 18,\n",
       "         5,  5,  9, 12,  6, 20,  9, 21, 21,  4,  6,  4, 11, 23, 13, 14,  7,  6,\n",
       "         6,  4,  7, 16, 12, 14, 23, 12,  9, 10, 18,  5,  7,  5,  8,  7, 15,  5,\n",
       "        12, 11,  5,  5, 10,  4,  5,  4, 21,  6, 13,  6, 16, 21, 11,  7,  8,  4,\n",
       "        13, 15,  7, 12, 15, 11, 20, 20,  9, 11,  6, 10, 13, 20, 15, 12, 15, 19,\n",
       "        15,  9, 11,  5, 10,  6,  6,  4,  5,  7, 18, 12,  7,  9, 23,  2])"
      ]
     },
     "execution_count": 18,
     "metadata": {},
     "output_type": "execute_result"
    }
   ],
   "source": [
    "dataset[4]"
   ]
  },
  {
   "cell_type": "code",
   "execution_count": null,
   "metadata": {},
   "outputs": [],
   "source": []
  }
 ],
 "metadata": {
  "kernelspec": {
   "display_name": "Python 3",
   "language": "python",
   "name": "python3"
  },
  "language_info": {
   "codemirror_mode": {
    "name": "ipython",
    "version": 3
   },
   "file_extension": ".py",
   "mimetype": "text/x-python",
   "name": "python",
   "nbconvert_exporter": "python",
   "pygments_lexer": "ipython3",
   "version": "3.6.10"
  }
 },
 "nbformat": 4,
 "nbformat_minor": 4
}
