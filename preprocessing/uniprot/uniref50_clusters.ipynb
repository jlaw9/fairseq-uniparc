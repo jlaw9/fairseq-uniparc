{
 "cells": [
  {
   "cell_type": "markdown",
   "id": "configured-panel",
   "metadata": {},
   "source": [
    "## Build UniRef50 clusters\n",
    "We want to build the train, valid, and test splits using the uniref50 clusters.\n",
    "This will give us a better understanding of the performance of the model since proteins that were left out from a particular cluster should be more difficult to recover\n"
   ]
  },
  {
   "cell_type": "code",
   "execution_count": 1,
   "id": "sweet-writing",
   "metadata": {},
   "outputs": [
    {
     "name": "stdout",
     "output_type": "stream",
     "text": [
      "--2021-06-07 10:46:00--  ftp://ftp.uniprot.org/pub/databases/uniprot/current_release/knowledgebase/idmapping/idmapping_selected.tab.gz\n",
      "           => ‘/projects/deepgreen/jlaw/inputs/uniprot/2021-05/2021-06-07-idmapping_selected.tab.gz’\n",
      "Resolving ftp.uniprot.org (ftp.uniprot.org)... 128.175.240.195\n",
      "Connecting to ftp.uniprot.org (ftp.uniprot.org)|128.175.240.195|:21... connected.\n",
      "Logging in as anonymous ... Logged in!\n",
      "==> SYST ... done.    ==> PWD ... done.\n",
      "==> TYPE I ... done.  ==> CWD (1) /pub/databases/uniprot/current_release/knowledgebase/idmapping ... done.\n",
      "==> SIZE idmapping_selected.tab.gz ... 10401229504\n",
      "==> PASV ... done.    ==> RETR idmapping_selected.tab.gz ... done.\n",
      "Length: 10401229504 (9.7G) (unauthoritative)\n",
      "\n",
      "100%[===================================>] 10,401,229,504 57.9MB/s   in 3m 2s  \n",
      "\n",
      "2021-06-07 10:49:07 (54.5 MB/s) - ‘/projects/deepgreen/jlaw/inputs/uniprot/2021-05/2021-06-07-idmapping_selected.tab.gz’ saved [10401229504]\n",
      "\n"
     ]
    }
   ],
   "source": [
    "# first download the mappings from uniprot IDs to uniref50 (and a lot of others)\n",
    "# see here for more details: https://ftp.uniprot.org/pub/databases/uniprot/current_release/knowledgebase/idmapping/README\n",
    "!wget -O /projects/deepgreen/jlaw/inputs/uniprot/2021-05/2021-06-07-idmapping_selected.tab.gz \\\n",
    "  ftp://ftp.uniprot.org/pub/databases/uniprot/current_release/knowledgebase/idmapping/idmapping_selected.tab.gz"
   ]
  },
  {
   "cell_type": "code",
   "execution_count": 12,
   "id": "abstract-torture",
   "metadata": {},
   "outputs": [],
   "source": [
    "idmapping_file = \"/projects/deepgreen/jlaw/inputs/uniprot/2021-05/2021-06-07-idmapping_selected.tab.gz\"\n",
    "column_names = ['UniProtKB-AC', 'UniProtKB-ID', 'GeneID (EntrezGene)', 'RefSeq', 'GI', 'PDB', 'GO', 'UniRef100', 'UniRef90', 'UniRef50', 'UniParc', 'PIR', 'NCBI-taxon', 'MIM', 'UniGene', 'PubMed', 'EMBL', 'EMBL-CDS', 'Ensembl', 'Ensembl_TRS', 'Ensembl_PRO', 'Additional PubMed']"
   ]
  },
  {
   "cell_type": "code",
   "execution_count": 14,
   "id": "hundred-poison",
   "metadata": {},
   "outputs": [
    {
     "name": "stdout",
     "output_type": "stream",
     "text": [
      "Q6GZX4\t001R_FRG3G\t2947773\tYP_031579.1\t81941549; 49237298\t\tGO:0046782\tUniRef100_Q6GZX4\tUniRef90_Q6GZX4\tUniRef50_Q6GZX4\tUPI00003B0FD4\t\t654924\t\t\t15165820\tAY548484\tAAT09660.1\t\t\t\t\n",
      "Q6GZX3\t002L_FRG3G\t2947774\tYP_031580.1\t49237299; 81941548\t\tGO:0033644; GO:0016021\tUniRef100_Q6GZX3\tUniRef90_Q6GZX3\tUniRef50_Q6GZX3\tUPI00003B0FD5\t\t654924\t\t\t15165820\tAY548484\tAAT09661.1\t\t\t\t\n",
      "Q197F8\t002R_IIV3\t4156251\tYP_654574.1\t109287880; 123808694; 106073503\t\t\tUniRef100_Q197F8\tUniRef90_Q197F8\tUniRef50_Q197F8\tUPI0000D83464\t\t345201\t\t\t16912294\tDQ643392\tABF82032.1\t\t\t\t\n",
      "\n",
      "gzip: stdout: Broken pipe\n"
     ]
    }
   ],
   "source": [
    "!gzip -cd $idmapping_file | head -n 3"
   ]
  },
  {
   "cell_type": "code",
   "execution_count": 19,
   "id": "liked-alfred",
   "metadata": {},
   "outputs": [],
   "source": [
    "uniref_clusters_file = os.path.dirname(idmapping_file) + \"/uniref-clusters.tab.gz\""
   ]
  },
  {
   "cell_type": "code",
   "execution_count": 17,
   "id": "constitutional-cuisine",
   "metadata": {},
   "outputs": [],
   "source": [
    "# extract just the uniref cluster ids\n",
    "# !gzip -cd $idmapping_file | cut -f 1,8,9,10 | head\n",
    "!gzip -cd $idmapping_file | cut -f 1,8,9,10 | gzip > $uniref_clusters_file"
   ]
  },
  {
   "cell_type": "code",
   "execution_count": null,
   "id": "vanilla-stake",
   "metadata": {},
   "outputs": [],
   "source": [
    "import pandas as pd\n",
    "import os, sys\n",
    "import gzip\n",
    "from tqdm import tqdm\n",
    "from collections import defaultdict"
   ]
  },
  {
   "cell_type": "code",
   "execution_count": 20,
   "id": "documentary-canon",
   "metadata": {},
   "outputs": [
    {
     "data": {
      "text/html": [
       "<div>\n",
       "<style scoped>\n",
       "    .dataframe tbody tr th:only-of-type {\n",
       "        vertical-align: middle;\n",
       "    }\n",
       "\n",
       "    .dataframe tbody tr th {\n",
       "        vertical-align: top;\n",
       "    }\n",
       "\n",
       "    .dataframe thead th {\n",
       "        text-align: right;\n",
       "    }\n",
       "</style>\n",
       "<table border=\"1\" class=\"dataframe\">\n",
       "  <thead>\n",
       "    <tr style=\"text-align: right;\">\n",
       "      <th></th>\n",
       "      <th>uniprot-id</th>\n",
       "      <th>uniref100-id</th>\n",
       "      <th>uniref90-id</th>\n",
       "      <th>uniref50-id</th>\n",
       "    </tr>\n",
       "  </thead>\n",
       "  <tbody>\n",
       "    <tr>\n",
       "      <th>0</th>\n",
       "      <td>Q6GZX4</td>\n",
       "      <td>UniRef100_Q6GZX4</td>\n",
       "      <td>UniRef90_Q6GZX4</td>\n",
       "      <td>UniRef50_Q6GZX4</td>\n",
       "    </tr>\n",
       "    <tr>\n",
       "      <th>1</th>\n",
       "      <td>Q6GZX3</td>\n",
       "      <td>UniRef100_Q6GZX3</td>\n",
       "      <td>UniRef90_Q6GZX3</td>\n",
       "      <td>UniRef50_Q6GZX3</td>\n",
       "    </tr>\n",
       "    <tr>\n",
       "      <th>2</th>\n",
       "      <td>Q197F8</td>\n",
       "      <td>UniRef100_Q197F8</td>\n",
       "      <td>UniRef90_Q197F8</td>\n",
       "      <td>UniRef50_Q197F8</td>\n",
       "    </tr>\n",
       "    <tr>\n",
       "      <th>3</th>\n",
       "      <td>Q197F7</td>\n",
       "      <td>UniRef100_Q197F7</td>\n",
       "      <td>UniRef90_Q197F7</td>\n",
       "      <td>UniRef50_Q197F7</td>\n",
       "    </tr>\n",
       "    <tr>\n",
       "      <th>4</th>\n",
       "      <td>Q6GZX2</td>\n",
       "      <td>UniRef100_Q6GZX2</td>\n",
       "      <td>UniRef90_Q6GZX2</td>\n",
       "      <td>UniRef50_Q6GZX2</td>\n",
       "    </tr>\n",
       "  </tbody>\n",
       "</table>\n",
       "</div>"
      ],
      "text/plain": [
       "  uniprot-id      uniref100-id      uniref90-id      uniref50-id\n",
       "0     Q6GZX4  UniRef100_Q6GZX4  UniRef90_Q6GZX4  UniRef50_Q6GZX4\n",
       "1     Q6GZX3  UniRef100_Q6GZX3  UniRef90_Q6GZX3  UniRef50_Q6GZX3\n",
       "2     Q197F8  UniRef100_Q197F8  UniRef90_Q197F8  UniRef50_Q197F8\n",
       "3     Q197F7  UniRef100_Q197F7  UniRef90_Q197F7  UniRef50_Q197F7\n",
       "4     Q6GZX2  UniRef100_Q6GZX2  UniRef90_Q6GZX2  UniRef50_Q6GZX2"
      ]
     },
     "execution_count": 20,
     "metadata": {},
     "output_type": "execute_result"
    }
   ],
   "source": [
    "names = ['uniprot-id', 'uniref100-id', 'uniref90-id', 'uniref50-id']\n",
    "df = pd.read_csv(uniref_clusters_file, sep='\\t', names=names)\n",
    "df.head()"
   ]
  },
  {
   "cell_type": "code",
   "execution_count": 25,
   "id": "phantom-solomon",
   "metadata": {},
   "outputs": [
    {
     "data": {
      "text/plain": [
       "0         A0A009IHW8\n",
       "1         A0A021WW32\n",
       "2         A0A021WZA4\n",
       "3         A0A023FBW4\n",
       "4         A0A023FBW7\n",
       "             ...    \n",
       "138115        X6RJY0\n",
       "138116        X6RKS3\n",
       "138117        X6RLN4\n",
       "138118        X6RLP6\n",
       "138119        X6RLR1\n",
       "Name: 0, Length: 138120, dtype: object"
      ]
     },
     "execution_count": 25,
     "metadata": {},
     "output_type": "execute_result"
    }
   ],
   "source": [
    "# limit the uniprot IDs to those that have a GO annotation with an EXPC evidence code\n",
    "expc_prots_file = \"/projects/deepgreen/jlaw/inputs/goa/2021-05/prots-with-expc-ann.txt\"\n",
    "expc_prots = pd.read_csv(expc_prots_file, header=None, squeeze=True)\n",
    "expc_prots"
   ]
  },
  {
   "cell_type": "code",
   "execution_count": 27,
   "id": "democratic-jonathan",
   "metadata": {},
   "outputs": [],
   "source": [
    "expc_prots = set(expc_prots.tolist())"
   ]
  },
  {
   "cell_type": "code",
   "execution_count": 28,
   "id": "virgin-aluminum",
   "metadata": {},
   "outputs": [],
   "source": [
    "df_expc = df[df['uniprot-id'].isin(expc_prots)]"
   ]
  },
  {
   "cell_type": "code",
   "execution_count": 31,
   "id": "portable-taylor",
   "metadata": {},
   "outputs": [],
   "source": [
    "# now write it \n",
    "out_file = \"/projects/deepgreen/jlaw/inputs/uniprot/2021-05/for-goa/uniref-clusters-expc.tab.gz\"\n",
    "df_expc.to_csv(out_file, sep='\\t', index=None)"
   ]
  },
  {
   "cell_type": "code",
   "execution_count": 34,
   "id": "divided-fifth",
   "metadata": {},
   "outputs": [
    {
     "data": {
      "text/plain": [
       "UniRef50_P01246        53\n",
       "UniRef50_A0A0B4K823    43\n",
       "UniRef50_Q07163        40\n",
       "UniRef50_P04578        32\n",
       "UniRef50_Q9V3H7        29\n",
       "                       ..\n",
       "UniRef50_P38892         1\n",
       "UniRef50_P26969         1\n",
       "UniRef50_Q62304         1\n",
       "UniRef50_Q52LA3         1\n",
       "UniRef50_P9WGR4         1\n",
       "Name: uniref50-id, Length: 93696, dtype: int64"
      ]
     },
     "execution_count": 34,
     "metadata": {},
     "output_type": "execute_result"
    }
   ],
   "source": [
    "df_expc['uniref50-id'].value_counts()"
   ]
  },
  {
   "cell_type": "markdown",
   "id": "controlled-exclusive",
   "metadata": {},
   "source": [
    "I'm surprised the uniref50 clusters are relactively small. The largest cluster has only 53 members"
   ]
  },
  {
   "cell_type": "code",
   "execution_count": 35,
   "id": "three-plasma",
   "metadata": {},
   "outputs": [
    {
     "data": {
      "text/plain": [
       "UniRef90_P01246        35\n",
       "UniRef90_Q07163        30\n",
       "UniRef90_Q6V6S2        26\n",
       "UniRef90_A0A0B4K869    20\n",
       "UniRef90_Q9VZW3        20\n",
       "                       ..\n",
       "UniRef90_W7K228         1\n",
       "UniRef90_A0A6A9KFQ6     1\n",
       "UniRef90_Q92903         1\n",
       "UniRef90_P17038         1\n",
       "UniRef90_A0A1D8PSV5     1\n",
       "Name: uniref90-id, Length: 112175, dtype: int64"
      ]
     },
     "execution_count": 35,
     "metadata": {},
     "output_type": "execute_result"
    }
   ],
   "source": [
    "df_expc['uniref90-id'].value_counts()"
   ]
  },
  {
   "cell_type": "code",
   "execution_count": 36,
   "id": "embedded-biography",
   "metadata": {},
   "outputs": [
    {
     "data": {
      "text/plain": [
       "UniRef100_Q67HN6        17\n",
       "UniRef100_P0DP23        17\n",
       "UniRef100_Q6ENF9        16\n",
       "UniRef100_A0A0E0KU15    13\n",
       "UniRef100_Q969X1        13\n",
       "                        ..\n",
       "UniRef100_Q3URK3         1\n",
       "UniRef100_P70859         1\n",
       "UniRef100_F2XNG5         1\n",
       "UniRef100_Q9URZ1         1\n",
       "UniRef100_Q46507         1\n",
       "Name: uniref100-id, Length: 130420, dtype: int64"
      ]
     },
     "execution_count": 36,
     "metadata": {},
     "output_type": "execute_result"
    }
   ],
   "source": [
    "df_expc['uniref100-id'].value_counts()"
   ]
  }
 ],
 "metadata": {
  "kernelspec": {
   "display_name": "Python 3",
   "language": "python",
   "name": "python3"
  },
  "language_info": {
   "codemirror_mode": {
    "name": "ipython",
    "version": 3
   },
   "file_extension": ".py",
   "mimetype": "text/x-python",
   "name": "python",
   "nbconvert_exporter": "python",
   "pygments_lexer": "ipython3",
   "version": "3.7.9"
  }
 },
 "nbformat": 4,
 "nbformat_minor": 5
}
